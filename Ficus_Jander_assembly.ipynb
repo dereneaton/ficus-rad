{
 "cells": [
  {
   "cell_type": "markdown",
   "metadata": {},
   "source": [
    "# Assembly and analysis of Ficus RAD-seq data\n",
    "\n",
    "A RAD-seq library of 95 samples was prepared by Floragenex with the PstI restriction enzyme, followed by sonication and size selection. Stats reported by Floragenex include: AverageFragmentSize=386bp, Concentration=2.51ng/uL, Concentation=10nM. The library was sequenced on two lanes of Illumina HiSeq 3000 yielding 378,809,976 reads in lane 1, and 375,813,513 reads in lane 2, for a total of ~755M reads.  "
   ]
  },
  {
   "cell_type": "markdown",
   "metadata": {},
   "source": [
    "### This notebook\n",
    "This is a jupyter notebook, a tool used to create an executable document to full reproduce our analyses. This notebook contains all of the code to assemble the *Ficus* RAD-seq data set with *ipyrad*.\n",
    "We begin by demultiplexing [The raw data](#The-raw-data). The demultiplexed data (will be) archived and available online. If you downloaded the demultiplexed data you can skip to section [The Demultiplexed Data](#The-demultiplexed-data) and begin by loading in those data. The data were assembled under a range of parameter settings, which you can see in the [Within-sample assembly](#Within-sample-assembly) section. Several Samples were filtered from the data set due to low coverage. The data was then clustered across Samples and final output files were created [Across-sample assembly](#Across-sample-assembly)."
   ]
  },
  {
   "cell_type": "markdown",
   "metadata": {},
   "source": [
    "### Required software\n",
    "The following conda commands will locally install of the software required for this notebook. "
   ]
  },
  {
   "cell_type": "code",
   "execution_count": 2,
   "metadata": {
    "collapsed": true
   },
   "outputs": [],
   "source": [
    "## conda install ipyrad -c ipyrad\n",
    "## conda install toytree -c eaton-lab"
   ]
  },
  {
   "cell_type": "code",
   "execution_count": 1,
   "metadata": {
    "collapsed": true
   },
   "outputs": [],
   "source": [
    "import ipyrad as ip\n",
    "import toyplot"
   ]
  },
  {
   "cell_type": "code",
   "execution_count": 2,
   "metadata": {},
   "outputs": [
    {
     "name": "stdout",
     "output_type": "stream",
     "text": [
      "ipyrad v.0.6.20\n",
      "toyplot v.0.14.4\n"
     ]
    }
   ],
   "source": [
    "## print software versions\n",
    "print 'ipyrad v.{}'.format(ip.__version__)\n",
    "print 'toyplot v.{}'.format(toyplot.__version__)"
   ]
  },
  {
   "cell_type": "markdown",
   "metadata": {},
   "source": [
    "### Cluster info\n",
    "I started an ipcluster instance on a 40 core workstation with the ipcluster command as shown below. The `cluster_info()` command shows that ipyrad is able to find all 40 cores on the cluster. "
   ]
  },
  {
   "cell_type": "code",
   "execution_count": 3,
   "metadata": {
    "collapsed": true
   },
   "outputs": [],
   "source": [
    "##\n",
    "## ipcluster start --n=40\n",
    "##"
   ]
  },
  {
   "cell_type": "code",
   "execution_count": 4,
   "metadata": {},
   "outputs": [],
   "source": [
    "#print ip.cluster_info()"
   ]
  },
  {
   "cell_type": "markdown",
   "metadata": {},
   "source": [
    "## The raw data\n",
    "The data came to us as two large 20GB files. The barcodes file was provided by Floragenex and maps sample names to barcodes that are contained inline in the sequences, and are 10bp in length. The barcodes are printed a little further below. I ran the program *fastQC* on the raw data files to do a quality check, the results of which are available here [lane1-fastqc](link) and here [lane2-fastqc](link). Overall, quality scores were very high and there was little (but some) adapter contamination, which we will filter out in the ipyrad analysis. "
   ]
  },
  {
   "cell_type": "code",
   "execution_count": 30,
   "metadata": {
    "collapsed": true
   },
   "outputs": [],
   "source": [
    "## The reference genome link\n",
    "reference = \"\"\"\\\n",
    "ftp://ftp.ncbi.nlm.nih.gov/genomes/all/GCA/\\\n",
    "002/002/945/GCA_002002945.1_F.carica_assembly01/\\\n",
    "GCA_002002945.1_F.carica_assembly01_genomic.fna.gz\\\n",
    "\"\"\"\n",
    "\n",
    "## Download the reference genome of F. carica\n",
    "# ! wget $reference\n",
    "\n",
    "## decompress it\n",
    "# ! gunzip ./GCA_002002945.1_F.carica_assembly01_genomic.fna.gz"
   ]
  },
  {
   "cell_type": "code",
   "execution_count": 8,
   "metadata": {
    "collapsed": true
   },
   "outputs": [],
   "source": [
    "## Locations of the raw data and barcodes file\n",
    "lane1data = \"~/Documents/RADSEQ_DATA/Ficus/Ficus-1_S1_L001_R1_001.fastq.gz\"\n",
    "lane2data = \"~/Documents/RADSEQ_DATA/Ficus/Ficus-2_S2_L002_R1_001.fastq.gz\"\n",
    "barcodes = \"~/Documents/RADSEQ_DATA/barcodes/Ficus_Jander_2016_95barcodes.txt\""
   ]
  },
  {
   "cell_type": "markdown",
   "metadata": {},
   "source": [
    "### Create an ipyrad Assembly object for each lane of data\n",
    "We set the location to the data and barcodes info for each object, and set the max barcode mismatch parameter to zero (strict), allowing no mismatches. You can see the full barcode information [at this link](https://github.com/dereneaton/ficus-rad/blob/master/Ficus_Jander_2016_95barcodes.txt)."
   ]
  },
  {
   "cell_type": "code",
   "execution_count": 9,
   "metadata": {},
   "outputs": [
    {
     "name": "stdout",
     "output_type": "stream",
     "text": [
      "  New Assembly: lane1\n",
      "  New Assembly: lane2\n"
     ]
    }
   ],
   "source": [
    "## create an object to demultiplex each lane\n",
    "demux1 = ip.Assembly(\"lane1\")\n",
    "demux2 = ip.Assembly(\"lane2\")\n",
    "\n",
    "## set path to data, bcodes, and max_mismatch params\n",
    "demux1.set_params(\"project_dir\", \"./ficus_demux_reads\")\n",
    "demux1.set_params(\"raw_fastq_path\", lane1data)\n",
    "demux1.set_params(\"barcodes_path\", barcodes)\n",
    "demux1.set_params(\"max_barcode_mismatch\", 0)\n",
    "\n",
    "## set path to data, bcodes, and max_mismatch params\n",
    "demux2.set_params(\"project_dir\", \"./ficus_demux_reads\")\n",
    "demux2.set_params(\"raw_fastq_path\", lane2data)\n",
    "demux2.set_params(\"barcodes_path\", barcodes)\n",
    "demux2.set_params(\"max_barcode_mismatch\", 0)"
   ]
  },
  {
   "cell_type": "markdown",
   "metadata": {},
   "source": [
    "### Demultiplex raw data from both lanes"
   ]
  },
  {
   "cell_type": "code",
   "execution_count": 12,
   "metadata": {},
   "outputs": [
    {
     "name": "stdout",
     "output_type": "stream",
     "text": [
      "\n",
      "  Assembly: lane1\n",
      "  [####################] 100%  chunking large files  | 0:21:55 | s1 | \n",
      "  [####################] 100%  sorting reads         | 0:43:43 | s1 | \n",
      "  [####################] 100%  writing/compressing   | 0:14:25 | s1 | \n",
      "\n",
      "  Assembly: lane2\n",
      "  [####################] 100%  chunking large files  | 0:27:44 | s1 | \n",
      "  [####################] 100%  sorting reads         | 0:45:12 | s1 | \n",
      "  [####################] 100%  writing/compressing   | 0:15:53 | s1 | \n"
     ]
    }
   ],
   "source": [
    "demux1.run(\"1\")\n",
    "demux2.run(\"1\")"
   ]
  },
  {
   "cell_type": "markdown",
   "metadata": {},
   "source": [
    "## The demultiplexed data\n",
    "Now we have two directories with demultiplexed data, each with one gzipped fastq file corresponding to all of the reads matching to a particular Sample's barcode from that lane of sequencing. These are the data that (will be uploaded) to Genbank SRA when we publish. We will load the sorted fastq data at this step, to copy the same procedure that one would take if they were starting from access to the demultiplexed data."
   ]
  },
  {
   "cell_type": "code",
   "execution_count": 18,
   "metadata": {
    "collapsed": true
   },
   "outputs": [],
   "source": [
    "lib1_fastqs = \"./ficus_demux_reads/lane1_fastqs/*.gz\"\n",
    "lib2_fastqs = \"./ficus_demux_reads/lane2_fastqs/*.gz\""
   ]
  },
  {
   "cell_type": "code",
   "execution_count": 19,
   "metadata": {},
   "outputs": [
    {
     "name": "stdout",
     "output_type": "stream",
     "text": [
      "\n",
      "  Assembly: lib1\n",
      "  [####################] 100%  loading reads         | 0:01:47 | s1 | \n",
      "\n",
      "  Assembly: lib2\n",
      "  [####################] 100%  loading reads         | 0:00:34 | s1 | \n"
     ]
    }
   ],
   "source": [
    "lib1 = ip.Assembly(\"lib1\", quiet=True)\n",
    "lib1.set_params(\"sorted_fastq_path\", lib1_fastqs)\n",
    "lib1.run(\"1\")\n",
    "\n",
    "lib2 = ip.Assembly(\"lib2\", quiet=True)\n",
    "lib2.set_params(\"sorted_fastq_path\", lib2_fastqs)\n",
    "lib2.run(\"1\")"
   ]
  },
  {
   "cell_type": "markdown",
   "metadata": {},
   "source": [
    "### Merge the two lanes of data into one Assembly\n",
    "We will join these two demultiplexed libraries into a single analysis that has the set of parameters we will use to assemble the data set. To do this we use the `merge()` command in ipyrad. On this merged Assembly we will then set a number of parameter settings that we will use to assemble the data. \n"
   ]
  },
  {
   "cell_type": "code",
   "execution_count": 21,
   "metadata": {},
   "outputs": [
    {
     "name": "stdout",
     "output_type": "stream",
     "text": [
      "  0   assembly_name               merged                                       \n",
      "  1   project_dir                 ./analysis-ipyrad                            \n",
      "  2   raw_fastq_path              Merged: lane1, lane2                         \n",
      "  3   barcodes_path               Merged: lane1, lane2                         \n",
      "  4   sorted_fastq_path           Merged: lane1, lane2                         \n",
      "  5   assembly_method             denovo                                       \n",
      "  6   reference_sequence                                                       \n",
      "  7   datatype                    rad                                          \n",
      "  8   restriction_overhang        ('TGCAG', '')                                \n",
      "  9   max_low_qual_bases          5                                            \n",
      "  10  phred_Qscore_offset         43                                           \n",
      "  11  mindepth_statistical        6                                            \n",
      "  12  mindepth_majrule            6                                            \n",
      "  13  maxdepth                    10000                                        \n",
      "  14  clust_threshold             0.85                                         \n",
      "  15  max_barcode_mismatch        0                                            \n",
      "  16  filter_adapters             3                                            \n",
      "  17  filter_min_trim_len         60                                           \n",
      "  18  max_alleles_consens         2                                            \n",
      "  19  max_Ns_consens              (5, 5)                                       \n",
      "  20  max_Hs_consens              (5, 5)                                       \n",
      "  21  min_samples_locus           4                                            \n",
      "  22  max_SNPs_locus              (20, 20)                                     \n",
      "  23  max_Indels_locus            (8, 8)                                       \n",
      "  24  max_shared_Hs_locus         4                                            \n",
      "  25  trim_reads                  (0, 0, 0, 0)                                 \n",
      "  26  trim_loci                   (0, 8, 0, 0)                                 \n",
      "  27  output_formats              ('l', 'k', 's', 'a', 'p', 'n', 'v')          \n",
      "  28  pop_assign_file                                                          \n"
     ]
    }
   ],
   "source": [
    "## named corresponding to some params we are changing\n",
    "data = ip.merge(\"merged\", [demux1, demux2])\n",
    "\n",
    "## set several non-default parameters\n",
    "data.set_params(\"project_dir\", \"analysis-ipyrad\")\n",
    "data.set_params(\"filter_adapters\", 3)\n",
    "data.set_params(\"phred_Qscore_offset\", 43)\n",
    "data.set_params(\"max_Hs_consens\", (5, 5))\n",
    "data.set_params(\"max_shared_Hs_locus\", 4)\n",
    "data.set_params(\"filter_min_trim_len\", 60)\n",
    "data.set_params(\"trim_loci\", (0, 8, 0, 0))\n",
    "data.set_params(\"output_formats\", list(\"lksapnv\"))\n",
    "\n",
    "## print parameters for prosperity's sake\n",
    "data.get_params()"
   ]
  },
  {
   "cell_type": "markdown",
   "metadata": {},
   "source": [
    "### Create branch `ficus` and drop the control Sample\n",
    "First we will drop the control sequence included for quality checking by Floragenex (FGXCONTROL). To do this we create a new branch using the argument `subsample` to include all Samples except FGXCONTROL. "
   ]
  },
  {
   "cell_type": "code",
   "execution_count": 22,
   "metadata": {
    "collapsed": true
   },
   "outputs": [],
   "source": [
    "## drop the Floragenex control sample if it is in the data\n",
    "snames = [i for i in data.samples if i != \"FGXCONTROL\"]\n",
    "\n",
    "## working branch\n",
    "data = data.branch(\"ficus\", subsamples=snames)"
   ]
  },
  {
   "cell_type": "markdown",
   "metadata": {},
   "source": [
    "### A summary of the number of reads per Sample."
   ]
  },
  {
   "cell_type": "code",
   "execution_count": 23,
   "metadata": {},
   "outputs": [
    {
     "name": "stdout",
     "output_type": "stream",
     "text": [
      "summary of raw read covereage\n",
      "count          95\n",
      "mean      5149596\n",
      "std       7716026\n",
      "min         14703\n",
      "25%        289541\n",
      "50%       1890328\n",
      "75%       7402440\n",
      "max      51339646\n",
      "Name: reads_raw, dtype: int64\n"
     ]
    }
   ],
   "source": [
    "print \"summary of raw read covereage\"\n",
    "print data.stats.reads_raw.describe().astype(int)"
   ]
  },
  {
   "cell_type": "markdown",
   "metadata": {},
   "source": [
    "### Filtering options\n",
    "From looking closely at the data it appears there are som poor quality reads with adapter contamination, and also that there are some conspicuous long strings of poly repeats, which are probably due to the library being put on the sequencer in the wrong concentration (the facility failed to do a qPCR quantification). Setting the filter parameter in ipyrad to strict (2) uses 'cutadapt' to filter the reads. By default ipyrad would look just for the Illumina universal adapter, but I'm also adding a few additional poly-{A,C,G,T} sequences to be trimmed. These appeared to be somewhat common in the raw data, followed by nonsense. "
   ]
  },
  {
   "cell_type": "code",
   "execution_count": 24,
   "metadata": {},
   "outputs": [
    {
     "name": "stdout",
     "output_type": "stream",
     "text": [
      "\n",
      "  Assembly: ficus\n",
      "  [####################] 100%  concatenating inputs  | 0:02:43 | s2 | \n",
      "  [####################] 100%  processing reads      | 0:51:52 | s2 | \n"
     ]
    }
   ],
   "source": [
    "## run step 2\n",
    "data.run(\"2\", force=True)"
   ]
  },
  {
   "cell_type": "markdown",
   "metadata": {},
   "source": [
    "## Within-sample assembly\n",
    "Steps 2-5 of ipyrad function to filter and cluster reads, and to call consensus haplotypes within samples. We'll look more closely at the stats for each step after it's finished. "
   ]
  },
  {
   "cell_type": "markdown",
   "metadata": {},
   "source": [
    "### _reference_ & _de novo_ assemblies with ipyrad"
   ]
  },
  {
   "cell_type": "code",
   "execution_count": 33,
   "metadata": {
    "scrolled": true
   },
   "outputs": [],
   "source": [
    "## create new branches for assembly method\n",
    "ficus_d = data.branch(\"ficus_d\")\n",
    "ficus_r = data.branch(\"ficus_r\")\n",
    "\n",
    "## set reference info\n",
    "reference = \"GCA_002002945.1_F.carica_assembly01_genomic.fna\"\n",
    "ficus_r.set_params(\"reference_sequence\", reference)\n",
    "ficus_r.set_params(\"assembly_method\", \"reference\")"
   ]
  },
  {
   "cell_type": "code",
   "execution_count": null,
   "metadata": {},
   "outputs": [],
   "source": [
    "## map reads to reference genome\n",
    "ficus_r.run(\"3\", force=True)"
   ]
  },
  {
   "cell_type": "code",
   "execution_count": 35,
   "metadata": {},
   "outputs": [
    {
     "name": "stdout",
     "output_type": "stream",
     "text": [
      "\n",
      "  Assembly: ficus_d\n",
      "  [####################] 100%  dereplicating         | 0:04:31 | s3 | \n",
      "  [####################] 100%  clustering            | 0:13:54 | s3 | \n",
      "  [####################] 100%  building clusters     | 0:00:46 | s3 | \n",
      "  [####################] 100%  chunking              | 0:00:11 | s3 | \n",
      "  [####################] 100%  aligning              | 0:23:58 | s3 | \n",
      "  [####################] 100%  concatenating         | 0:00:14 | s3 | \n"
     ]
    }
   ],
   "source": [
    "## cluster reads denovo\n",
    "ficus_d.run(\"3\")"
   ]
  },
  {
   "cell_type": "code",
   "execution_count": 7,
   "metadata": {},
   "outputs": [
    {
     "name": "stdout",
     "output_type": "stream",
     "text": [
      "\n",
      "  Assembly: ficus_d\n",
      "  [####################] 100%  inferring [H, E]      | 0:14:01 | s4 | \n"
     ]
    }
   ],
   "source": [
    "ficus_d.run(\"4\")"
   ]
  },
  {
   "cell_type": "markdown",
   "metadata": {},
   "source": [
    "### Branch to make consensus calls at different mindepth settings\n",
    "Now that the reads are filtered and clustered within each Sample we want to try applying several different parameter settings for downstream analyses. One major difference will be in the minimum depth of sequencing we require to make a confident base call. We will leave one Assembly with the default setting of 6, which is somewhat conservative. We will also create a 'lowdepth' Assembly that allows base calls for depths as low as 2. "
   ]
  },
  {
   "cell_type": "code",
   "execution_count": 6,
   "metadata": {
    "collapsed": true
   },
   "outputs": [],
   "source": [
    "ficus_dhi = ficus_d.branch(\"ficus_dhi\")\n",
    "ficus_dlo = ficus_d.branch(\"ficus_dlo\")\n",
    "ficus_dlo.set_params(\"mindepth_majrule\", 1)"
   ]
  },
  {
   "cell_type": "code",
   "execution_count": 7,
   "metadata": {
    "scrolled": true
   },
   "outputs": [
    {
     "name": "stdout",
     "output_type": "stream",
     "text": [
      "\n",
      "  Assembly: ficus_dlo\n",
      "  [####################] 100%  calculating depths    | 0:00:23 | s5 | \n",
      "  [####################] 100%  chunking clusters     | 0:00:21 | s5 | \n",
      "  [####################] 100%  consens calling       | 0:15:17 | s5 | \n",
      "\n",
      "  Assembly: ficus_dhi\n",
      "  [####################] 100%  calculating depths    | 0:00:23 | s5 | \n",
      "  [####################] 100%  chunking clusters     | 0:00:21 | s5 | \n",
      "  [####################] 100%  consens calling       | 0:14:24 | s5 | \n"
     ]
    }
   ],
   "source": [
    "ficus_dlo.run(\"5\")\n",
    "ficus_dhi.run(\"5\")"
   ]
  },
  {
   "cell_type": "markdown",
   "metadata": {},
   "source": [
    "### Plot consens reads\n",
    "Compare hidepth and lodepth assemblies. The difference is not actually that great. Regardless, the samples with very few reads are going to recover very few clusters. \n"
   ]
  },
  {
   "cell_type": "code",
   "execution_count": 9,
   "metadata": {},
   "outputs": [
    {
     "data": {
      "text/html": [
       "<div align=\"center\" class=\"toyplot\" id=\"t97a2d0f4f74441f790862d6cc0dddf76\"><svg class=\"toyplot-canvas-Canvas\" height=\"300.0px\" id=\"t4ab2f767943d4de8a4231c25ddcfb787\" preserveAspectRatio=\"xMidYMid meet\" style=\"background-color:transparent;fill:rgb(16.1%,15.3%,14.1%);fill-opacity:1.0;font-family:Helvetica;font-size:12px;opacity:1.0;stroke:rgb(16.1%,15.3%,14.1%);stroke-opacity:1.0;stroke-width:1.0\" viewBox=\"0 0 700.0 300.0\" width=\"700.0px\" xmlns=\"http://www.w3.org/2000/svg\" xmlns:toyplot=\"http://www.sandia.gov/toyplot\" xmlns:xlink=\"http://www.w3.org/1999/xlink\"><g class=\"toyplot-coordinates-Cartesian\" id=\"t5935bc4e46e7471b87e30c344c267f53\"><clipPath id=\"td9aa7ad4e9aa4bc09f3ed20f928c1e6c\"><rect height=\"220.0\" width=\"620.0\" x=\"40.0\" y=\"40.0\"></rect></clipPath><g clip-path=\"url(#td9aa7ad4e9aa4bc09f3ed20f928c1e6c)\"><g class=\"toyplot-mark-BarBoundaries\" id=\"t5fb77395b87f40c381c495f7c65fc09d\" style=\"stroke:rgb(100%,100%,100%);stroke-opacity:1.0;stroke-width:1.0\"><g class=\"toyplot-Series\"><rect class=\"toyplot-Datum\" height=\"14.306286879010969\" style=\"fill:rgb(40%,76.1%,64.7%);fill-opacity:1.0;opacity:1.0;stroke:rgb(100%,100%,100%);stroke-opacity:1.0;stroke-width:1.0\" width=\"6.3157894736842124\" x=\"50.0\" y=\"148.46711321502511\"></rect><rect class=\"toyplot-Datum\" height=\"19.455132229024628\" style=\"fill:rgb(40%,76.1%,64.7%);fill-opacity:1.0;opacity:1.0;stroke:rgb(100%,100%,100%);stroke-opacity:1.0;stroke-width:1.0\" width=\"6.3157894736842124\" x=\"56.315789473684212\" y=\"148.46711321502511\"></rect><rect class=\"toyplot-Datum\" height=\"79.560935142174202\" style=\"fill:rgb(40%,76.1%,64.7%);fill-opacity:1.0;opacity:1.0;stroke:rgb(100%,100%,100%);stroke-opacity:1.0;stroke-width:1.0\" width=\"6.3157894736842053\" x=\"62.631578947368425\" y=\"148.46711321502511\"></rect><rect class=\"toyplot-Datum\" height=\"14.401307643263493\" style=\"fill:rgb(40%,76.1%,64.7%);fill-opacity:1.0;opacity:1.0;stroke:rgb(100%,100%,100%);stroke-opacity:1.0;stroke-width:1.0\" width=\"6.3157894736842053\" x=\"68.94736842105263\" y=\"148.46711321502511\"></rect><rect class=\"toyplot-Datum\" height=\"2.8358528605926949\" style=\"fill:rgb(40%,76.1%,64.7%);fill-opacity:1.0;opacity:1.0;stroke:rgb(100%,100%,100%);stroke-opacity:1.0;stroke-width:1.0\" width=\"6.3157894736842195\" x=\"75.263157894736835\" y=\"148.46711321502511\"></rect><rect class=\"toyplot-Datum\" height=\"1.5400256506829919\" style=\"fill:rgb(40%,76.1%,64.7%);fill-opacity:1.0;opacity:1.0;stroke:rgb(100%,100%,100%);stroke-opacity:1.0;stroke-width:1.0\" width=\"6.3157894736842053\" x=\"81.578947368421055\" y=\"148.46711321502511\"></rect><rect class=\"toyplot-Datum\" height=\"6.1497635558444017\" style=\"fill:rgb(40%,76.1%,64.7%);fill-opacity:1.0;opacity:1.0;stroke:rgb(100%,100%,100%);stroke-opacity:1.0;stroke-width:1.0\" width=\"6.3157894736842195\" x=\"87.89473684210526\" y=\"148.46711321502511\"></rect><rect class=\"toyplot-Datum\" height=\"5.9715380809251712\" style=\"fill:rgb(40%,76.1%,64.7%);fill-opacity:1.0;opacity:1.0;stroke:rgb(100%,100%,100%);stroke-opacity:1.0;stroke-width:1.0\" width=\"6.3157894736842053\" x=\"94.21052631578948\" y=\"148.46711321502511\"></rect><rect class=\"toyplot-Datum\" height=\"14.529314890443032\" style=\"fill:rgb(40%,76.1%,64.7%);fill-opacity:1.0;opacity:1.0;stroke:rgb(100%,100%,100%);stroke-opacity:1.0;stroke-width:1.0\" width=\"6.3157894736842053\" x=\"100.52631578947368\" y=\"148.46711321502511\"></rect><rect class=\"toyplot-Datum\" height=\"1.6611401999374493\" style=\"fill:rgb(40%,76.1%,64.7%);fill-opacity:1.0;opacity:1.0;stroke:rgb(100%,100%,100%);stroke-opacity:1.0;stroke-width:1.0\" width=\"6.3157894736842195\" x=\"106.84210526315789\" y=\"148.46711321502511\"></rect><rect class=\"toyplot-Datum\" height=\"1.214591841507314\" style=\"fill:rgb(40%,76.1%,64.7%);fill-opacity:1.0;opacity:1.0;stroke:rgb(100%,100%,100%);stroke-opacity:1.0;stroke-width:1.0\" width=\"6.3157894736841911\" x=\"113.15789473684211\" y=\"148.46711321502511\"></rect><rect class=\"toyplot-Datum\" height=\"1.5597190733259936\" style=\"fill:rgb(40%,76.1%,64.7%);fill-opacity:1.0;opacity:1.0;stroke:rgb(100%,100%,100%);stroke-opacity:1.0;stroke-width:1.0\" width=\"6.3157894736842337\" x=\"119.4736842105263\" y=\"148.46711321502511\"></rect><rect class=\"toyplot-Datum\" height=\"0.7252102888286629\" style=\"fill:rgb(40%,76.1%,64.7%);fill-opacity:1.0;opacity:1.0;stroke:rgb(100%,100%,100%);stroke-opacity:1.0;stroke-width:1.0\" width=\"6.3157894736842053\" x=\"125.78947368421053\" y=\"148.46711321502511\"></rect><rect class=\"toyplot-Datum\" height=\"14.100490612391582\" style=\"fill:rgb(40%,76.1%,64.7%);fill-opacity:1.0;opacity:1.0;stroke:rgb(100%,100%,100%);stroke-opacity:1.0;stroke-width:1.0\" width=\"6.3157894736841911\" x=\"132.10526315789474\" y=\"148.46711321502511\"></rect><rect class=\"toyplot-Datum\" height=\"6.0084632483808207\" style=\"fill:rgb(40%,76.1%,64.7%);fill-opacity:1.0;opacity:1.0;stroke:rgb(100%,100%,100%);stroke-opacity:1.0;stroke-width:1.0\" width=\"6.3157894736842195\" x=\"138.42105263157893\" y=\"148.46711321502511\"></rect><rect class=\"toyplot-Datum\" height=\"3.3606825740288002\" style=\"fill:rgb(40%,76.1%,64.7%);fill-opacity:1.0;opacity:1.0;stroke:rgb(100%,100%,100%);stroke-opacity:1.0;stroke-width:1.0\" width=\"6.3157894736842195\" x=\"144.73684210526315\" y=\"148.46711321502511\"></rect><rect class=\"toyplot-Datum\" height=\"38.221487001110205\" style=\"fill:rgb(40%,76.1%,64.7%);fill-opacity:1.0;opacity:1.0;stroke:rgb(100%,100%,100%);stroke-opacity:1.0;stroke-width:1.0\" width=\"6.3157894736841911\" x=\"151.05263157894737\" y=\"148.46711321502511\"></rect><rect class=\"toyplot-Datum\" height=\"38.35343293281835\" style=\"fill:rgb(40%,76.1%,64.7%);fill-opacity:1.0;opacity:1.0;stroke:rgb(100%,100%,100%);stroke-opacity:1.0;stroke-width:1.0\" width=\"6.3157894736842195\" x=\"157.36842105263156\" y=\"148.46711321502511\"></rect><rect class=\"toyplot-Datum\" height=\"70.441895787330708\" style=\"fill:rgb(40%,76.1%,64.7%);fill-opacity:1.0;opacity:1.0;stroke:rgb(100%,100%,100%);stroke-opacity:1.0;stroke-width:1.0\" width=\"6.3157894736842195\" x=\"163.68421052631578\" y=\"148.46711321502511\"></rect><rect class=\"toyplot-Datum\" height=\"11.029793686781034\" style=\"fill:rgb(40%,76.1%,64.7%);fill-opacity:1.0;opacity:1.0;stroke:rgb(100%,100%,100%);stroke-opacity:1.0;stroke-width:1.0\" width=\"6.3157894736842195\" x=\"170.0\" y=\"148.46711321502511\"></rect><rect class=\"toyplot-Datum\" height=\"12.741644450024239\" style=\"fill:rgb(40%,76.1%,64.7%);fill-opacity:1.0;opacity:1.0;stroke:rgb(100%,100%,100%);stroke-opacity:1.0;stroke-width:1.0\" width=\"6.3157894736841911\" x=\"176.31578947368422\" y=\"148.46711321502511\"></rect><rect class=\"toyplot-Datum\" height=\"29.812887868113137\" style=\"fill:rgb(40%,76.1%,64.7%);fill-opacity:1.0;opacity:1.0;stroke:rgb(100%,100%,100%);stroke-opacity:1.0;stroke-width:1.0\" width=\"6.3157894736841911\" x=\"182.63157894736841\" y=\"148.46711321502511\"></rect><rect class=\"toyplot-Datum\" height=\"4.7987947625342429\" style=\"fill:rgb(40%,76.1%,64.7%);fill-opacity:1.0;opacity:1.0;stroke:rgb(100%,100%,100%);stroke-opacity:1.0;stroke-width:1.0\" width=\"6.3157894736842479\" x=\"188.9473684210526\" y=\"148.46711321502511\"></rect><rect class=\"toyplot-Datum\" height=\"22.512536094351162\" style=\"fill:rgb(40%,76.1%,64.7%);fill-opacity:1.0;opacity:1.0;stroke:rgb(100%,100%,100%);stroke-opacity:1.0;stroke-width:1.0\" width=\"6.3157894736841911\" x=\"195.26315789473685\" y=\"148.46711321502511\"></rect><rect class=\"toyplot-Datum\" height=\"1.6739409246553976\" style=\"fill:rgb(40%,76.1%,64.7%);fill-opacity:1.0;opacity:1.0;stroke:rgb(100%,100%,100%);stroke-opacity:1.0;stroke-width:1.0\" width=\"6.3157894736842195\" x=\"201.57894736842104\" y=\"148.46711321502511\"></rect><rect class=\"toyplot-Datum\" height=\"0.76902815420933734\" style=\"fill:rgb(40%,76.1%,64.7%);fill-opacity:1.0;opacity:1.0;stroke:rgb(100%,100%,100%);stroke-opacity:1.0;stroke-width:1.0\" width=\"6.3157894736842479\" x=\"207.89473684210526\" y=\"148.46711321502511\"></rect><rect class=\"toyplot-Datum\" height=\"78.758428169471728\" style=\"fill:rgb(40%,76.1%,64.7%);fill-opacity:1.0;opacity:1.0;stroke:rgb(100%,100%,100%);stroke-opacity:1.0;stroke-width:1.0\" width=\"6.3157894736841627\" x=\"214.21052631578951\" y=\"148.46711321502511\"></rect><rect class=\"toyplot-Datum\" height=\"26.106585726699592\" style=\"fill:rgb(40%,76.1%,64.7%);fill-opacity:1.0;opacity:1.0;stroke:rgb(100%,100%,100%);stroke-opacity:1.0;stroke-width:1.0\" width=\"6.3157894736842195\" x=\"220.52631578947367\" y=\"148.46711321502511\"></rect><rect class=\"toyplot-Datum\" height=\"7.5760596907640263\" style=\"fill:rgb(40%,76.1%,64.7%);fill-opacity:1.0;opacity:1.0;stroke:rgb(100%,100%,100%);stroke-opacity:1.0;stroke-width:1.0\" width=\"6.3157894736842195\" x=\"226.84210526315789\" y=\"148.46711321502511\"></rect><rect class=\"toyplot-Datum\" height=\"18.330145460543008\" style=\"fill:rgb(40%,76.1%,64.7%);fill-opacity:1.0;opacity:1.0;stroke:rgb(100%,100%,100%);stroke-opacity:1.0;stroke-width:1.0\" width=\"6.3157894736841911\" x=\"233.15789473684211\" y=\"148.46711321502511\"></rect><rect class=\"toyplot-Datum\" height=\"7.6878198642630764\" style=\"fill:rgb(40%,76.1%,64.7%);fill-opacity:1.0;opacity:1.0;stroke:rgb(100%,100%,100%);stroke-opacity:1.0;stroke-width:1.0\" width=\"6.3157894736842195\" x=\"239.4736842105263\" y=\"148.46711321502511\"></rect><rect class=\"toyplot-Datum\" height=\"6.7971848252331597\" style=\"fill:rgb(40%,76.1%,64.7%);fill-opacity:1.0;opacity:1.0;stroke:rgb(100%,100%,100%);stroke-opacity:1.0;stroke-width:1.0\" width=\"6.3157894736842195\" x=\"245.78947368421052\" y=\"148.46711321502511\"></rect><rect class=\"toyplot-Datum\" height=\"1.9604802241111088\" style=\"fill:rgb(40%,76.1%,64.7%);fill-opacity:1.0;opacity:1.0;stroke:rgb(100%,100%,100%);stroke-opacity:1.0;stroke-width:1.0\" width=\"6.3157894736842195\" x=\"252.10526315789474\" y=\"148.46711321502511\"></rect><rect class=\"toyplot-Datum\" height=\"32.123911015269755\" style=\"fill:rgb(40%,76.1%,64.7%);fill-opacity:1.0;opacity:1.0;stroke:rgb(100%,100%,100%);stroke-opacity:1.0;stroke-width:1.0\" width=\"6.3157894736841627\" x=\"258.42105263157896\" y=\"148.46711321502511\"></rect><rect class=\"toyplot-Datum\" height=\"33.632919525290049\" style=\"fill:rgb(40%,76.1%,64.7%);fill-opacity:1.0;opacity:1.0;stroke:rgb(100%,100%,100%);stroke-opacity:1.0;stroke-width:1.0\" width=\"6.3157894736842195\" x=\"264.73684210526312\" y=\"148.46711321502511\"></rect><rect class=\"toyplot-Datum\" height=\"28.720395246992439\" style=\"fill:rgb(40%,76.1%,64.7%);fill-opacity:1.0;opacity:1.0;stroke:rgb(100%,100%,100%);stroke-opacity:1.0;stroke-width:1.0\" width=\"6.3157894736842195\" x=\"271.05263157894734\" y=\"148.46711321502511\"></rect><rect class=\"toyplot-Datum\" height=\"36.980309039034807\" style=\"fill:rgb(40%,76.1%,64.7%);fill-opacity:1.0;opacity:1.0;stroke:rgb(100%,100%,100%);stroke-opacity:1.0;stroke-width:1.0\" width=\"6.3157894736842195\" x=\"277.36842105263156\" y=\"148.46711321502511\"></rect><rect class=\"toyplot-Datum\" height=\"26.503408192956158\" style=\"fill:rgb(40%,76.1%,64.7%);fill-opacity:1.0;opacity:1.0;stroke:rgb(100%,100%,100%);stroke-opacity:1.0;stroke-width:1.0\" width=\"6.3157894736842195\" x=\"283.68421052631578\" y=\"148.46711321502511\"></rect><rect class=\"toyplot-Datum\" height=\"6.5766184916315069\" style=\"fill:rgb(40%,76.1%,64.7%);fill-opacity:1.0;opacity:1.0;stroke:rgb(100%,100%,100%);stroke-opacity:1.0;stroke-width:1.0\" width=\"6.3157894736842195\" x=\"290.0\" y=\"148.46711321502511\"></rect><rect class=\"toyplot-Datum\" height=\"23.454866367818966\" style=\"fill:rgb(40%,76.1%,64.7%);fill-opacity:1.0;opacity:1.0;stroke:rgb(100%,100%,100%);stroke-opacity:1.0;stroke-width:1.0\" width=\"6.3157894736842195\" x=\"296.31578947368422\" y=\"148.46711321502511\"></rect><rect class=\"toyplot-Datum\" height=\"20.541716823352431\" style=\"fill:rgb(40%,76.1%,64.7%);fill-opacity:1.0;opacity:1.0;stroke:rgb(100%,100%,100%);stroke-opacity:1.0;stroke-width:1.0\" width=\"6.3157894736842195\" x=\"302.63157894736844\" y=\"148.46711321502511\"></rect><rect class=\"toyplot-Datum\" height=\"81.147732671634344\" style=\"fill:rgb(40%,76.1%,64.7%);fill-opacity:1.0;opacity:1.0;stroke:rgb(100%,100%,100%);stroke-opacity:1.0;stroke-width:1.0\" width=\"6.3157894736841627\" x=\"308.94736842105266\" y=\"148.46711321502511\"></rect><rect class=\"toyplot-Datum\" height=\"78.232613784903492\" style=\"fill:rgb(40%,76.1%,64.7%);fill-opacity:1.0;opacity:1.0;stroke:rgb(100%,100%,100%);stroke-opacity:1.0;stroke-width:1.0\" width=\"6.3157894736842195\" x=\"315.26315789473682\" y=\"148.46711321502511\"></rect><rect class=\"toyplot-Datum\" height=\"32.238132866599187\" style=\"fill:rgb(40%,76.1%,64.7%);fill-opacity:1.0;opacity:1.0;stroke:rgb(100%,100%,100%);stroke-opacity:1.0;stroke-width:1.0\" width=\"6.3157894736842195\" x=\"321.57894736842104\" y=\"148.46711321502511\"></rect><rect class=\"toyplot-Datum\" height=\"2.7639718679457417\" style=\"fill:rgb(40%,76.1%,64.7%);fill-opacity:1.0;opacity:1.0;stroke:rgb(100%,100%,100%);stroke-opacity:1.0;stroke-width:1.0\" width=\"6.3157894736842195\" x=\"327.89473684210526\" y=\"148.46711321502511\"></rect><rect class=\"toyplot-Datum\" height=\"6.7479512686256555\" style=\"fill:rgb(40%,76.1%,64.7%);fill-opacity:1.0;opacity:1.0;stroke:rgb(100%,100%,100%);stroke-opacity:1.0;stroke-width:1.0\" width=\"6.3157894736842195\" x=\"334.21052631578948\" y=\"148.46711321502511\"></rect><rect class=\"toyplot-Datum\" height=\"28.616020106984507\" style=\"fill:rgb(40%,76.1%,64.7%);fill-opacity:1.0;opacity:1.0;stroke:rgb(100%,100%,100%);stroke-opacity:1.0;stroke-width:1.0\" width=\"6.3157894736841627\" x=\"340.5263157894737\" y=\"148.46711321502511\"></rect><rect class=\"toyplot-Datum\" height=\"25.323279841074054\" style=\"fill:rgb(40%,76.1%,64.7%);fill-opacity:1.0;opacity:1.0;stroke:rgb(100%,100%,100%);stroke-opacity:1.0;stroke-width:1.0\" width=\"6.3157894736842763\" x=\"346.84210526315786\" y=\"148.46711321502511\"></rect><rect class=\"toyplot-Datum\" height=\"21.440721567005625\" style=\"fill:rgb(40%,76.1%,64.7%);fill-opacity:1.0;opacity:1.0;stroke:rgb(100%,100%,100%);stroke-opacity:1.0;stroke-width:1.0\" width=\"6.3157894736842195\" x=\"353.15789473684214\" y=\"148.46711321502511\"></rect><rect class=\"toyplot-Datum\" height=\"32.519256474828126\" style=\"fill:rgb(40%,76.1%,64.7%);fill-opacity:1.0;opacity:1.0;stroke:rgb(100%,100%,100%);stroke-opacity:1.0;stroke-width:1.0\" width=\"6.3157894736841627\" x=\"359.47368421052636\" y=\"148.46711321502511\"></rect><rect class=\"toyplot-Datum\" height=\"22.572108697846261\" style=\"fill:rgb(40%,76.1%,64.7%);fill-opacity:1.0;opacity:1.0;stroke:rgb(100%,100%,100%);stroke-opacity:1.0;stroke-width:1.0\" width=\"6.3157894736842195\" x=\"365.78947368421052\" y=\"148.46711321502511\"></rect><rect class=\"toyplot-Datum\" height=\"32.261764973770795\" style=\"fill:rgb(40%,76.1%,64.7%);fill-opacity:1.0;opacity:1.0;stroke:rgb(100%,100%,100%);stroke-opacity:1.0;stroke-width:1.0\" width=\"6.3157894736842763\" x=\"372.10526315789474\" y=\"148.46711321502511\"></rect><rect class=\"toyplot-Datum\" height=\"29.052229418527077\" style=\"fill:rgb(40%,76.1%,64.7%);fill-opacity:1.0;opacity:1.0;stroke:rgb(100%,100%,100%);stroke-opacity:1.0;stroke-width:1.0\" width=\"6.3157894736841058\" x=\"378.42105263157902\" y=\"148.46711321502511\"></rect><rect class=\"toyplot-Datum\" height=\"37.329374955382093\" style=\"fill:rgb(40%,76.1%,64.7%);fill-opacity:1.0;opacity:1.0;stroke:rgb(100%,100%,100%);stroke-opacity:1.0;stroke-width:1.0\" width=\"6.3157894736842195\" x=\"384.73684210526312\" y=\"148.46711321502511\"></rect><rect class=\"toyplot-Datum\" height=\"27.886378798061173\" style=\"fill:rgb(40%,76.1%,64.7%);fill-opacity:1.0;opacity:1.0;stroke:rgb(100%,100%,100%);stroke-opacity:1.0;stroke-width:1.0\" width=\"6.3157894736842195\" x=\"391.05263157894734\" y=\"148.46711321502511\"></rect><rect class=\"toyplot-Datum\" height=\"31.150563601139254\" style=\"fill:rgb(40%,76.1%,64.7%);fill-opacity:1.0;opacity:1.0;stroke:rgb(100%,100%,100%);stroke-opacity:1.0;stroke-width:1.0\" width=\"6.3157894736842195\" x=\"397.36842105263156\" y=\"148.46711321502511\"></rect><rect class=\"toyplot-Datum\" height=\"1.8836758758034193\" style=\"fill:rgb(40%,76.1%,64.7%);fill-opacity:1.0;opacity:1.0;stroke:rgb(100%,100%,100%);stroke-opacity:1.0;stroke-width:1.0\" width=\"6.3157894736842195\" x=\"403.68421052631578\" y=\"148.46711321502511\"></rect><rect class=\"toyplot-Datum\" height=\"0.021662764907290466\" style=\"fill:rgb(40%,76.1%,64.7%);fill-opacity:1.0;opacity:1.0;stroke:rgb(100%,100%,100%);stroke-opacity:1.0;stroke-width:1.0\" width=\"6.3157894736842195\" x=\"410.0\" y=\"148.46711321502511\"></rect><rect class=\"toyplot-Datum\" height=\"32.428666730670272\" style=\"fill:rgb(40%,76.1%,64.7%);fill-opacity:1.0;opacity:1.0;stroke:rgb(100%,100%,100%);stroke-opacity:1.0;stroke-width:1.0\" width=\"6.3157894736842195\" x=\"416.31578947368422\" y=\"148.46711321502511\"></rect><rect class=\"toyplot-Datum\" height=\"0.093051421988178618\" style=\"fill:rgb(40%,76.1%,64.7%);fill-opacity:1.0;opacity:1.0;stroke:rgb(100%,100%,100%);stroke-opacity:1.0;stroke-width:1.0\" width=\"6.3157894736841627\" x=\"422.63157894736844\" y=\"148.46711321502511\"></rect><rect class=\"toyplot-Datum\" height=\"35.117803592572614\" style=\"fill:rgb(40%,76.1%,64.7%);fill-opacity:1.0;opacity:1.0;stroke:rgb(100%,100%,100%);stroke-opacity:1.0;stroke-width:1.0\" width=\"6.3157894736842195\" x=\"428.9473684210526\" y=\"148.46711321502511\"></rect><rect class=\"toyplot-Datum\" height=\"10.624109180335125\" style=\"fill:rgb(40%,76.1%,64.7%);fill-opacity:1.0;opacity:1.0;stroke:rgb(100%,100%,100%);stroke-opacity:1.0;stroke-width:1.0\" width=\"6.3157894736842195\" x=\"435.26315789473682\" y=\"148.46711321502511\"></rect><rect class=\"toyplot-Datum\" height=\"28.475704470653113\" style=\"fill:rgb(40%,76.1%,64.7%);fill-opacity:1.0;opacity:1.0;stroke:rgb(100%,100%,100%);stroke-opacity:1.0;stroke-width:1.0\" width=\"6.3157894736842195\" x=\"441.57894736842104\" y=\"148.46711321502511\"></rect><rect class=\"toyplot-Datum\" height=\"28.576140926132439\" style=\"fill:rgb(40%,76.1%,64.7%);fill-opacity:1.0;opacity:1.0;stroke:rgb(100%,100%,100%);stroke-opacity:1.0;stroke-width:1.0\" width=\"6.3157894736842195\" x=\"447.89473684210526\" y=\"148.46711321502511\"></rect><rect class=\"toyplot-Datum\" height=\"28.418593544988397\" style=\"fill:rgb(40%,76.1%,64.7%);fill-opacity:1.0;opacity:1.0;stroke:rgb(100%,100%,100%);stroke-opacity:1.0;stroke-width:1.0\" width=\"6.3157894736842195\" x=\"454.21052631578948\" y=\"148.46711321502511\"></rect><rect class=\"toyplot-Datum\" height=\"30.57059230430275\" style=\"fill:rgb(40%,76.1%,64.7%);fill-opacity:1.0;opacity:1.0;stroke:rgb(100%,100%,100%);stroke-opacity:1.0;stroke-width:1.0\" width=\"6.3157894736842195\" x=\"460.5263157894737\" y=\"148.46711321502511\"></rect><rect class=\"toyplot-Datum\" height=\"101.53288678497489\" style=\"fill:rgb(40%,76.1%,64.7%);fill-opacity:1.0;opacity:1.0;stroke:rgb(100%,100%,100%);stroke-opacity:1.0;stroke-width:1.0\" width=\"6.3157894736841627\" x=\"466.84210526315792\" y=\"148.46711321502511\"></rect><rect class=\"toyplot-Datum\" height=\"4.9248326674494649\" style=\"fill:rgb(40%,76.1%,64.7%);fill-opacity:1.0;opacity:1.0;stroke:rgb(100%,100%,100%);stroke-opacity:1.0;stroke-width:1.0\" width=\"6.3157894736842195\" x=\"473.15789473684208\" y=\"148.46711321502511\"></rect><rect class=\"toyplot-Datum\" height=\"37.84780430645921\" style=\"fill:rgb(40%,76.1%,64.7%);fill-opacity:1.0;opacity:1.0;stroke:rgb(100%,100%,100%);stroke-opacity:1.0;stroke-width:1.0\" width=\"6.3157894736842195\" x=\"479.4736842105263\" y=\"148.46711321502511\"></rect><rect class=\"toyplot-Datum\" height=\"33.86628658360965\" style=\"fill:rgb(40%,76.1%,64.7%);fill-opacity:1.0;opacity:1.0;stroke:rgb(100%,100%,100%);stroke-opacity:1.0;stroke-width:1.0\" width=\"6.3157894736841627\" x=\"485.78947368421052\" y=\"148.46711321502511\"></rect><rect class=\"toyplot-Datum\" height=\"32.593106809739396\" style=\"fill:rgb(40%,76.1%,64.7%);fill-opacity:1.0;opacity:1.0;stroke:rgb(100%,100%,100%);stroke-opacity:1.0;stroke-width:1.0\" width=\"6.3157894736842763\" x=\"492.10526315789468\" y=\"148.46711321502511\"></rect><rect class=\"toyplot-Datum\" height=\"32.725052741447513\" style=\"fill:rgb(40%,76.1%,64.7%);fill-opacity:1.0;opacity:1.0;stroke:rgb(100%,100%,100%);stroke-opacity:1.0;stroke-width:1.0\" width=\"6.3157894736842195\" x=\"498.42105263157896\" y=\"148.46711321502511\"></rect><rect class=\"toyplot-Datum\" height=\"19.957806841987349\" style=\"fill:rgb(40%,76.1%,64.7%);fill-opacity:1.0;opacity:1.0;stroke:rgb(100%,100%,100%);stroke-opacity:1.0;stroke-width:1.0\" width=\"6.3157894736841627\" x=\"504.73684210526318\" y=\"148.46711321502511\"></rect><rect class=\"toyplot-Datum\" height=\"30.223003394653688\" style=\"fill:rgb(40%,76.1%,64.7%);fill-opacity:1.0;opacity:1.0;stroke:rgb(100%,100%,100%);stroke-opacity:1.0;stroke-width:1.0\" width=\"6.3157894736842195\" x=\"511.05263157894734\" y=\"148.46711321502511\"></rect><rect class=\"toyplot-Datum\" height=\"39.785637094530898\" style=\"fill:rgb(40%,76.1%,64.7%);fill-opacity:1.0;opacity:1.0;stroke:rgb(100%,100%,100%);stroke-opacity:1.0;stroke-width:1.0\" width=\"6.3157894736841627\" x=\"517.36842105263156\" y=\"148.46711321502511\"></rect><rect class=\"toyplot-Datum\" height=\"18.013573691556701\" style=\"fill:rgb(40%,76.1%,64.7%);fill-opacity:1.0;opacity:1.0;stroke:rgb(100%,100%,100%);stroke-opacity:1.0;stroke-width:1.0\" width=\"6.3157894736842763\" x=\"523.68421052631572\" y=\"148.46711321502511\"></rect><rect class=\"toyplot-Datum\" height=\"1.1761896673534693\" style=\"fill:rgb(40%,76.1%,64.7%);fill-opacity:1.0;opacity:1.0;stroke:rgb(100%,100%,100%);stroke-opacity:1.0;stroke-width:1.0\" width=\"6.3157894736842763\" x=\"530.0\" y=\"148.46711321502511\"></rect><rect class=\"toyplot-Datum\" height=\"0.67597673222115873\" style=\"fill:rgb(40%,76.1%,64.7%);fill-opacity:1.0;opacity:1.0;stroke:rgb(100%,100%,100%);stroke-opacity:1.0;stroke-width:1.0\" width=\"6.3157894736841627\" x=\"536.31578947368428\" y=\"148.46711321502511\"></rect><rect class=\"toyplot-Datum\" height=\"0.18413350171209686\" style=\"fill:rgb(40%,76.1%,64.7%);fill-opacity:1.0;opacity:1.0;stroke:rgb(100%,100%,100%);stroke-opacity:1.0;stroke-width:1.0\" width=\"6.3157894736842763\" x=\"542.63157894736844\" y=\"148.46711321502511\"></rect><rect class=\"toyplot-Datum\" height=\"40.320313519288447\" style=\"fill:rgb(40%,76.1%,64.7%);fill-opacity:1.0;opacity:1.0;stroke:rgb(100%,100%,100%);stroke-opacity:1.0;stroke-width:1.0\" width=\"6.3157894736841627\" x=\"548.94736842105272\" y=\"148.46711321502511\"></rect><rect class=\"toyplot-Datum\" height=\"36.780420799208287\" style=\"fill:rgb(40%,76.1%,64.7%);fill-opacity:1.0;opacity:1.0;stroke:rgb(100%,100%,100%);stroke-opacity:1.0;stroke-width:1.0\" width=\"6.3157894736841627\" x=\"555.26315789473688\" y=\"148.46711321502511\"></rect><rect class=\"toyplot-Datum\" height=\"36.8124226110032\" style=\"fill:rgb(40%,76.1%,64.7%);fill-opacity:1.0;opacity:1.0;stroke:rgb(100%,100%,100%);stroke-opacity:1.0;stroke-width:1.0\" width=\"6.3157894736842763\" x=\"561.57894736842104\" y=\"148.46711321502511\"></rect><rect class=\"toyplot-Datum\" height=\"18.211492589118848\" style=\"fill:rgb(40%,76.1%,64.7%);fill-opacity:1.0;opacity:1.0;stroke:rgb(100%,100%,100%);stroke-opacity:1.0;stroke-width:1.0\" width=\"6.3157894736841627\" x=\"567.89473684210532\" y=\"148.46711321502511\"></rect><rect class=\"toyplot-Datum\" height=\"45.495252654304096\" style=\"fill:rgb(40%,76.1%,64.7%);fill-opacity:1.0;opacity:1.0;stroke:rgb(100%,100%,100%);stroke-opacity:1.0;stroke-width:1.0\" width=\"6.3157894736841627\" x=\"574.21052631578948\" y=\"148.46711321502511\"></rect><rect class=\"toyplot-Datum\" height=\"32.11800298847686\" style=\"fill:rgb(40%,76.1%,64.7%);fill-opacity:1.0;opacity:1.0;stroke:rgb(100%,100%,100%);stroke-opacity:1.0;stroke-width:1.0\" width=\"6.3157894736842763\" x=\"580.52631578947364\" y=\"148.46711321502511\"></rect><rect class=\"toyplot-Datum\" height=\"32.231732504240227\" style=\"fill:rgb(40%,76.1%,64.7%);fill-opacity:1.0;opacity:1.0;stroke:rgb(100%,100%,100%);stroke-opacity:1.0;stroke-width:1.0\" width=\"6.3157894736841627\" x=\"586.84210526315792\" y=\"148.46711321502511\"></rect><rect class=\"toyplot-Datum\" height=\"29.78728641867724\" style=\"fill:rgb(40%,76.1%,64.7%);fill-opacity:1.0;opacity:1.0;stroke:rgb(100%,100%,100%);stroke-opacity:1.0;stroke-width:1.0\" width=\"6.3157894736841627\" x=\"593.15789473684208\" y=\"148.46711321502511\"></rect><rect class=\"toyplot-Datum\" height=\"43.668687704165421\" style=\"fill:rgb(40%,76.1%,64.7%);fill-opacity:1.0;opacity:1.0;stroke:rgb(100%,100%,100%);stroke-opacity:1.0;stroke-width:1.0\" width=\"6.3157894736842763\" x=\"599.47368421052624\" y=\"148.46711321502511\"></rect><rect class=\"toyplot-Datum\" height=\"27.258650951315389\" style=\"fill:rgb(40%,76.1%,64.7%);fill-opacity:1.0;opacity:1.0;stroke:rgb(100%,100%,100%);stroke-opacity:1.0;stroke-width:1.0\" width=\"6.3157894736841627\" x=\"605.78947368421052\" y=\"148.46711321502511\"></rect><rect class=\"toyplot-Datum\" height=\"33.329148481021662\" style=\"fill:rgb(40%,76.1%,64.7%);fill-opacity:1.0;opacity:1.0;stroke:rgb(100%,100%,100%);stroke-opacity:1.0;stroke-width:1.0\" width=\"6.3157894736842763\" x=\"612.10526315789468\" y=\"148.46711321502511\"></rect><rect class=\"toyplot-Datum\" height=\"48.316827783480647\" style=\"fill:rgb(40%,76.1%,64.7%);fill-opacity:1.0;opacity:1.0;stroke:rgb(100%,100%,100%);stroke-opacity:1.0;stroke-width:1.0\" width=\"6.3157894736841627\" x=\"618.42105263157896\" y=\"148.46711321502511\"></rect><rect class=\"toyplot-Datum\" height=\"0.13243826727421038\" style=\"fill:rgb(40%,76.1%,64.7%);fill-opacity:1.0;opacity:1.0;stroke:rgb(100%,100%,100%);stroke-opacity:1.0;stroke-width:1.0\" width=\"6.3157894736842763\" x=\"624.73684210526312\" y=\"148.46711321502511\"></rect><rect class=\"toyplot-Datum\" height=\"6.544124344270557\" style=\"fill:rgb(40%,76.1%,64.7%);fill-opacity:1.0;opacity:1.0;stroke:rgb(100%,100%,100%);stroke-opacity:1.0;stroke-width:1.0\" width=\"6.3157894736842763\" x=\"631.0526315789474\" y=\"148.46711321502511\"></rect><rect class=\"toyplot-Datum\" height=\"0.69370081259984318\" style=\"fill:rgb(40%,76.1%,64.7%);fill-opacity:1.0;opacity:1.0;stroke:rgb(100%,100%,100%);stroke-opacity:1.0;stroke-width:1.0\" width=\"6.315789473684049\" x=\"637.36842105263167\" y=\"148.46711321502511\"></rect><rect class=\"toyplot-Datum\" height=\"44.370758221388513\" style=\"fill:rgb(40%,76.1%,64.7%);fill-opacity:1.0;opacity:1.0;stroke:rgb(100%,100%,100%);stroke-opacity:1.0;stroke-width:1.0\" width=\"6.3157894736842763\" x=\"643.68421052631572\" y=\"148.46711321502511\"></rect></g><g class=\"toyplot-Series\"><rect class=\"toyplot-Datum\" height=\"10.743746722891416\" style=\"fill:rgb(98.8%,55.3%,38.4%);fill-opacity:1.0;opacity:1.0;stroke:rgb(100%,100%,100%);stroke-opacity:1.0;stroke-width:1.0\" width=\"6.3157894736842124\" x=\"50.0\" y=\"137.72336649213369\"></rect><rect class=\"toyplot-Datum\" height=\"14.731172472533842\" style=\"fill:rgb(98.8%,55.3%,38.4%);fill-opacity:1.0;opacity:1.0;stroke:rgb(100%,100%,100%);stroke-opacity:1.0;stroke-width:1.0\" width=\"6.3157894736842124\" x=\"56.315789473684212\" y=\"133.73594074249127\"></rect><rect class=\"toyplot-Datum\" height=\"66.570661231282017\" style=\"fill:rgb(98.8%,55.3%,38.4%);fill-opacity:1.0;opacity:1.0;stroke:rgb(100%,100%,100%);stroke-opacity:1.0;stroke-width:1.0\" width=\"6.3157894736842053\" x=\"62.631578947368425\" y=\"81.896451983743091\"></rect><rect class=\"toyplot-Datum\" height=\"11.570378138331535\" style=\"fill:rgb(98.8%,55.3%,38.4%);fill-opacity:1.0;opacity:1.0;stroke:rgb(100%,100%,100%);stroke-opacity:1.0;stroke-width:1.0\" width=\"6.3157894736842053\" x=\"68.94736842105263\" y=\"136.89673507669357\"></rect><rect class=\"toyplot-Datum\" height=\"2.0619013507226498\" style=\"fill:rgb(98.8%,55.3%,38.4%);fill-opacity:1.0;opacity:1.0;stroke:rgb(100%,100%,100%);stroke-opacity:1.0;stroke-width:1.0\" width=\"6.3157894736842195\" x=\"75.263157894736835\" y=\"146.40521186430246\"></rect><rect class=\"toyplot-Datum\" height=\"1.0875692654599618\" style=\"fill:rgb(98.8%,55.3%,38.4%);fill-opacity:1.0;opacity:1.0;stroke:rgb(100%,100%,100%);stroke-opacity:1.0;stroke-width:1.0\" width=\"6.3157894736842053\" x=\"81.578947368421055\" y=\"147.37954394956515\"></rect><rect class=\"toyplot-Datum\" height=\"4.6875269246012863\" style=\"fill:rgb(98.8%,55.3%,38.4%);fill-opacity:1.0;opacity:1.0;stroke:rgb(100%,100%,100%);stroke-opacity:1.0;stroke-width:1.0\" width=\"6.3157894736842195\" x=\"87.89473684210526\" y=\"143.77958629042382\"></rect><rect class=\"toyplot-Datum\" height=\"4.4068956519384699\" style=\"fill:rgb(98.8%,55.3%,38.4%);fill-opacity:1.0;opacity:1.0;stroke:rgb(100%,100%,100%);stroke-opacity:1.0;stroke-width:1.0\" width=\"6.3157894736842053\" x=\"94.21052631578948\" y=\"144.06021756308664\"></rect><rect class=\"toyplot-Datum\" height=\"11.289746865668718\" style=\"fill:rgb(98.8%,55.3%,38.4%);fill-opacity:1.0;opacity:1.0;stroke:rgb(100%,100%,100%);stroke-opacity:1.0;stroke-width:1.0\" width=\"6.3157894736842053\" x=\"100.52631578947368\" y=\"137.17736634935639\"></rect><rect class=\"toyplot-Datum\" height=\"1.1338488086710186\" style=\"fill:rgb(98.8%,55.3%,38.4%);fill-opacity:1.0;opacity:1.0;stroke:rgb(100%,100%,100%);stroke-opacity:1.0;stroke-width:1.0\" width=\"6.3157894736842195\" x=\"106.84210526315789\" y=\"147.33326440635409\"></rect><rect class=\"toyplot-Datum\" height=\"0.82220039534547595\" style=\"fill:rgb(98.8%,55.3%,38.4%);fill-opacity:1.0;opacity:1.0;stroke:rgb(100%,100%,100%);stroke-opacity:1.0;stroke-width:1.0\" width=\"6.3157894736841911\" x=\"113.15789473684211\" y=\"147.64491281967963\"></rect><rect class=\"toyplot-Datum\" height=\"1.1343411442371121\" style=\"fill:rgb(98.8%,55.3%,38.4%);fill-opacity:1.0;opacity:1.0;stroke:rgb(100%,100%,100%);stroke-opacity:1.0;stroke-width:1.0\" width=\"6.3157894736842337\" x=\"119.4736842105263\" y=\"147.332772070788\"></rect><rect class=\"toyplot-Datum\" height=\"0.47018046560174298\" style=\"fill:rgb(98.8%,55.3%,38.4%);fill-opacity:1.0;opacity:1.0;stroke:rgb(100%,100%,100%);stroke-opacity:1.0;stroke-width:1.0\" width=\"6.3157894736842053\" x=\"125.78947368421053\" y=\"147.99693274942337\"></rect><rect class=\"toyplot-Datum\" height=\"11.000745888382596\" style=\"fill:rgb(98.8%,55.3%,38.4%);fill-opacity:1.0;opacity:1.0;stroke:rgb(100%,100%,100%);stroke-opacity:1.0;stroke-width:1.0\" width=\"6.3157894736841911\" x=\"132.10526315789474\" y=\"137.46636732664251\"></rect><rect class=\"toyplot-Datum\" height=\"4.5152094764749791\" style=\"fill:rgb(98.8%,55.3%,38.4%);fill-opacity:1.0;opacity:1.0;stroke:rgb(100%,100%,100%);stroke-opacity:1.0;stroke-width:1.0\" width=\"6.3157894736842195\" x=\"138.42105263157893\" y=\"143.95190373855013\"></rect><rect class=\"toyplot-Datum\" height=\"2.2883757111171974\" style=\"fill:rgb(98.8%,55.3%,38.4%);fill-opacity:1.0;opacity:1.0;stroke:rgb(100%,100%,100%);stroke-opacity:1.0;stroke-width:1.0\" width=\"6.3157894736842195\" x=\"144.73684210526315\" y=\"146.17873750390791\"></rect><rect class=\"toyplot-Datum\" height=\"31.751705327316998\" style=\"fill:rgb(98.8%,55.3%,38.4%);fill-opacity:1.0;opacity:1.0;stroke:rgb(100%,100%,100%);stroke-opacity:1.0;stroke-width:1.0\" width=\"6.3157894736841911\" x=\"151.05263157894737\" y=\"116.71540788770811\"></rect><rect class=\"toyplot-Datum\" height=\"34.072082850229066\" style=\"fill:rgb(98.8%,55.3%,38.4%);fill-opacity:1.0;opacity:1.0;stroke:rgb(100%,100%,100%);stroke-opacity:1.0;stroke-width:1.0\" width=\"6.3157894736842195\" x=\"157.36842105263156\" y=\"114.39503036479604\"></rect><rect class=\"toyplot-Datum\" height=\"59.176765699965799\" style=\"fill:rgb(98.8%,55.3%,38.4%);fill-opacity:1.0;opacity:1.0;stroke:rgb(100%,100%,100%);stroke-opacity:1.0;stroke-width:1.0\" width=\"6.3157894736842195\" x=\"163.68421052631578\" y=\"89.29034751505931\"></rect><rect class=\"toyplot-Datum\" height=\"8.7355099488709698\" style=\"fill:rgb(98.8%,55.3%,38.4%);fill-opacity:1.0;opacity:1.0;stroke:rgb(100%,100%,100%);stroke-opacity:1.0;stroke-width:1.0\" width=\"6.3157894736842195\" x=\"170.0\" y=\"139.73160326615414\"></rect><rect class=\"toyplot-Datum\" height=\"9.8314489189541803\" style=\"fill:rgb(98.8%,55.3%,38.4%);fill-opacity:1.0;opacity:1.0;stroke:rgb(100%,100%,100%);stroke-opacity:1.0;stroke-width:1.0\" width=\"6.3157894736841911\" x=\"176.31578947368422\" y=\"138.63566429607093\"></rect><rect class=\"toyplot-Datum\" height=\"26.043566774242009\" style=\"fill:rgb(98.8%,55.3%,38.4%);fill-opacity:1.0;opacity:1.0;stroke:rgb(100%,100%,100%);stroke-opacity:1.0;stroke-width:1.0\" width=\"6.3157894736841911\" x=\"182.63157894736841\" y=\"122.4235464407831\"></rect><rect class=\"toyplot-Datum\" height=\"3.5645094983839272\" style=\"fill:rgb(98.8%,55.3%,38.4%);fill-opacity:1.0;opacity:1.0;stroke:rgb(100%,100%,100%);stroke-opacity:1.0;stroke-width:1.0\" width=\"6.3157894736842479\" x=\"188.9473684210526\" y=\"144.90260371664118\"></rect><rect class=\"toyplot-Datum\" height=\"17.682724191154222\" style=\"fill:rgb(98.8%,55.3%,38.4%);fill-opacity:1.0;opacity:1.0;stroke:rgb(100%,100%,100%);stroke-opacity:1.0;stroke-width:1.0\" width=\"6.3157894736841911\" x=\"195.26315789473685\" y=\"130.78438902387089\"></rect><rect class=\"toyplot-Datum\" height=\"1.1476342045211254\" style=\"fill:rgb(98.8%,55.3%,38.4%);fill-opacity:1.0;opacity:1.0;stroke:rgb(100%,100%,100%);stroke-opacity:1.0;stroke-width:1.0\" width=\"6.3157894736842195\" x=\"201.57894736842104\" y=\"147.31947901050398\"></rect><rect class=\"toyplot-Datum\" height=\"0.4967665861698265\" style=\"fill:rgb(98.8%,55.3%,38.4%);fill-opacity:1.0;opacity:1.0;stroke:rgb(100%,100%,100%);stroke-opacity:1.0;stroke-width:1.0\" width=\"6.3157894736842479\" x=\"207.89473684210526\" y=\"147.97034662885528\"></rect><rect class=\"toyplot-Datum\" height=\"68.130380304608039\" style=\"fill:rgb(98.8%,55.3%,38.4%);fill-opacity:1.0;opacity:1.0;stroke:rgb(100%,100%,100%);stroke-opacity:1.0;stroke-width:1.0\" width=\"6.3157894736841627\" x=\"214.21052631578951\" y=\"80.336732910417069\"></rect><rect class=\"toyplot-Datum\" height=\"21.176337368023312\" style=\"fill:rgb(98.8%,55.3%,38.4%);fill-opacity:1.0;opacity:1.0;stroke:rgb(100%,100%,100%);stroke-opacity:1.0;stroke-width:1.0\" width=\"6.3157894736842195\" x=\"220.52631578947367\" y=\"127.2907758470018\"></rect><rect class=\"toyplot-Datum\" height=\"5.6785984191105285\" style=\"fill:rgb(98.8%,55.3%,38.4%);fill-opacity:1.0;opacity:1.0;stroke:rgb(100%,100%,100%);stroke-opacity:1.0;stroke-width:1.0\" width=\"6.3157894736842195\" x=\"226.84210526315789\" y=\"142.78851479591458\"></rect><rect class=\"toyplot-Datum\" height=\"14.411154354584994\" style=\"fill:rgb(98.8%,55.3%,38.4%);fill-opacity:1.0;opacity:1.0;stroke:rgb(100%,100%,100%);stroke-opacity:1.0;stroke-width:1.0\" width=\"6.3157894736841911\" x=\"233.15789473684211\" y=\"134.05595886044011\"></rect><rect class=\"toyplot-Datum\" height=\"5.5934243661795051\" style=\"fill:rgb(98.8%,55.3%,38.4%);fill-opacity:1.0;opacity:1.0;stroke:rgb(100%,100%,100%);stroke-opacity:1.0;stroke-width:1.0\" width=\"6.3157894736842195\" x=\"239.4736842105263\" y=\"142.8736888488456\"></rect><rect class=\"toyplot-Datum\" height=\"5.2241726916231528\" style=\"fill:rgb(98.8%,55.3%,38.4%);fill-opacity:1.0;opacity:1.0;stroke:rgb(100%,100%,100%);stroke-opacity:1.0;stroke-width:1.0\" width=\"6.3157894736842195\" x=\"245.78947368421052\" y=\"143.24294052340196\"></rect><rect class=\"toyplot-Datum\" height=\"0.97827076979129401\" style=\"fill:rgb(98.8%,55.3%,38.4%);fill-opacity:1.0;opacity:1.0;stroke:rgb(100%,100%,100%);stroke-opacity:1.0;stroke-width:1.0\" width=\"6.3157894736842195\" x=\"252.10526315789474\" y=\"147.48884244523381\"></rect><rect class=\"toyplot-Datum\" height=\"27.86816238211641\" style=\"fill:rgb(98.8%,55.3%,38.4%);fill-opacity:1.0;opacity:1.0;stroke:rgb(100%,100%,100%);stroke-opacity:1.0;stroke-width:1.0\" width=\"6.3157894736841627\" x=\"258.42105263157896\" y=\"120.5989508329087\"></rect><rect class=\"toyplot-Datum\" height=\"28.012909038542489\" style=\"fill:rgb(98.8%,55.3%,38.4%);fill-opacity:1.0;opacity:1.0;stroke:rgb(100%,100%,100%);stroke-opacity:1.0;stroke-width:1.0\" width=\"6.3157894736842195\" x=\"264.73684210526312\" y=\"120.45420417648262\"></rect><rect class=\"toyplot-Datum\" height=\"24.167768267495759\" style=\"fill:rgb(98.8%,55.3%,38.4%);fill-opacity:1.0;opacity:1.0;stroke:rgb(100%,100%,100%);stroke-opacity:1.0;stroke-width:1.0\" width=\"6.3157894736842195\" x=\"271.05263157894734\" y=\"124.29934494752935\"></rect><rect class=\"toyplot-Datum\" height=\"33.565961888303832\" style=\"fill:rgb(98.8%,55.3%,38.4%);fill-opacity:1.0;opacity:1.0;stroke:rgb(100%,100%,100%);stroke-opacity:1.0;stroke-width:1.0\" width=\"6.3157894736842195\" x=\"277.36842105263156\" y=\"114.90115132672128\"></rect><rect class=\"toyplot-Datum\" height=\"22.153623466682433\" style=\"fill:rgb(98.8%,55.3%,38.4%);fill-opacity:1.0;opacity:1.0;stroke:rgb(100%,100%,100%);stroke-opacity:1.0;stroke-width:1.0\" width=\"6.3157894736842195\" x=\"283.68421052631578\" y=\"126.31348974834268\"></rect><rect class=\"toyplot-Datum\" height=\"4.9642195127354967\" style=\"fill:rgb(98.8%,55.3%,38.4%);fill-opacity:1.0;opacity:1.0;stroke:rgb(100%,100%,100%);stroke-opacity:1.0;stroke-width:1.0\" width=\"6.3157894736842195\" x=\"290.0\" y=\"143.50289370228961\"></rect><rect class=\"toyplot-Datum\" height=\"20.680555452985658\" style=\"fill:rgb(98.8%,55.3%,38.4%);fill-opacity:1.0;opacity:1.0;stroke:rgb(100%,100%,100%);stroke-opacity:1.0;stroke-width:1.0\" width=\"6.3157894736842195\" x=\"296.31578947368422\" y=\"127.78655776203945\"></rect><rect class=\"toyplot-Datum\" height=\"16.367203558601489\" style=\"fill:rgb(98.8%,55.3%,38.4%);fill-opacity:1.0;opacity:1.0;stroke:rgb(100%,100%,100%);stroke-opacity:1.0;stroke-width:1.0\" width=\"6.3157894736842195\" x=\"302.63157894736844\" y=\"132.09990965642362\"></rect><rect class=\"toyplot-Datum\" height=\"71.106056465966091\" style=\"fill:rgb(98.8%,55.3%,38.4%);fill-opacity:1.0;opacity:1.0;stroke:rgb(100%,100%,100%);stroke-opacity:1.0;stroke-width:1.0\" width=\"6.3157894736841627\" x=\"308.94736842105266\" y=\"77.361056749059017\"></rect><rect class=\"toyplot-Datum\" height=\"66.087680040962326\" style=\"fill:rgb(98.8%,55.3%,38.4%);fill-opacity:1.0;opacity:1.0;stroke:rgb(100%,100%,100%);stroke-opacity:1.0;stroke-width:1.0\" width=\"6.3157894736842195\" x=\"315.26315789473682\" y=\"82.379433174062783\"></rect><rect class=\"toyplot-Datum\" height=\"29.395387308081439\" style=\"fill:rgb(98.8%,55.3%,38.4%);fill-opacity:1.0;opacity:1.0;stroke:rgb(100%,100%,100%);stroke-opacity:1.0;stroke-width:1.0\" width=\"6.3157894736842195\" x=\"321.57894736842104\" y=\"119.07172590694367\"></rect><rect class=\"toyplot-Datum\" height=\"1.8959842649553309\" style=\"fill:rgb(98.8%,55.3%,38.4%);fill-opacity:1.0;opacity:1.0;stroke:rgb(100%,100%,100%);stroke-opacity:1.0;stroke-width:1.0\" width=\"6.3157894736842195\" x=\"327.89473684210526\" y=\"146.57112895006978\"></rect><rect class=\"toyplot-Datum\" height=\"4.9391103988656937\" style=\"fill:rgb(98.8%,55.3%,38.4%);fill-opacity:1.0;opacity:1.0;stroke:rgb(100%,100%,100%);stroke-opacity:1.0;stroke-width:1.0\" width=\"6.3157894736842195\" x=\"334.21052631578948\" y=\"143.52800281615941\"></rect><rect class=\"toyplot-Datum\" height=\"24.096871945980965\" style=\"fill:rgb(98.8%,55.3%,38.4%);fill-opacity:1.0;opacity:1.0;stroke:rgb(100%,100%,100%);stroke-opacity:1.0;stroke-width:1.0\" width=\"6.3157894736841627\" x=\"340.5263157894737\" y=\"124.37024126904414\"></rect><rect class=\"toyplot-Datum\" height=\"22.569647020015921\" style=\"fill:rgb(98.8%,55.3%,38.4%);fill-opacity:1.0;opacity:1.0;stroke:rgb(100%,100%,100%);stroke-opacity:1.0;stroke-width:1.0\" width=\"6.3157894736842763\" x=\"346.84210526315786\" y=\"125.89746619500919\"></rect><rect class=\"toyplot-Datum\" height=\"17.857010981544818\" style=\"fill:rgb(98.8%,55.3%,38.4%);fill-opacity:1.0;opacity:1.0;stroke:rgb(100%,100%,100%);stroke-opacity:1.0;stroke-width:1.0\" width=\"6.3157894736842195\" x=\"353.15789473684214\" y=\"130.61010223348029\"></rect><rect class=\"toyplot-Datum\" height=\"29.590844527813275\" style=\"fill:rgb(98.8%,55.3%,38.4%);fill-opacity:1.0;opacity:1.0;stroke:rgb(100%,100%,100%);stroke-opacity:1.0;stroke-width:1.0\" width=\"6.3157894736841627\" x=\"359.47368421052636\" y=\"118.87626868721183\"></rect><rect class=\"toyplot-Datum\" height=\"19.960268519817731\" style=\"fill:rgb(98.8%,55.3%,38.4%);fill-opacity:1.0;opacity:1.0;stroke:rgb(100%,100%,100%);stroke-opacity:1.0;stroke-width:1.0\" width=\"6.3157894736842195\" x=\"365.78947368421052\" y=\"128.50684469520738\"></rect><rect class=\"toyplot-Datum\" height=\"29.224054531087305\" style=\"fill:rgb(98.8%,55.3%,38.4%);fill-opacity:1.0;opacity:1.0;stroke:rgb(100%,100%,100%);stroke-opacity:1.0;stroke-width:1.0\" width=\"6.3157894736842763\" x=\"372.10526315789474\" y=\"119.2430586839378\"></rect><rect class=\"toyplot-Datum\" height=\"26.534917669184978\" style=\"fill:rgb(98.8%,55.3%,38.4%);fill-opacity:1.0;opacity:1.0;stroke:rgb(100%,100%,100%);stroke-opacity:1.0;stroke-width:1.0\" width=\"6.3157894736841058\" x=\"378.42105263157902\" y=\"121.93219554584013\"></rect><rect class=\"toyplot-Datum\" height=\"33.085934711380588\" style=\"fill:rgb(98.8%,55.3%,38.4%);fill-opacity:1.0;opacity:1.0;stroke:rgb(100%,100%,100%);stroke-opacity:1.0;stroke-width:1.0\" width=\"6.3157894736842195\" x=\"384.73684210526312\" y=\"115.38117850364452\"></rect><rect class=\"toyplot-Datum\" height=\"25.293247371543515\" style=\"fill:rgb(98.8%,55.3%,38.4%);fill-opacity:1.0;opacity:1.0;stroke:rgb(100%,100%,100%);stroke-opacity:1.0;stroke-width:1.0\" width=\"6.3157894736842195\" x=\"391.05263157894734\" y=\"123.17386584348159\"></rect><rect class=\"toyplot-Datum\" height=\"28.385114726495317\" style=\"fill:rgb(98.8%,55.3%,38.4%);fill-opacity:1.0;opacity:1.0;stroke:rgb(100%,100%,100%);stroke-opacity:1.0;stroke-width:1.0\" width=\"6.3157894736842195\" x=\"397.36842105263156\" y=\"120.08199848852979\"></rect><rect class=\"toyplot-Datum\" height=\"1.4203881081267582\" style=\"fill:rgb(98.8%,55.3%,38.4%);fill-opacity:1.0;opacity:1.0;stroke:rgb(100%,100%,100%);stroke-opacity:1.0;stroke-width:1.0\" width=\"6.3157894736842195\" x=\"403.68421052631578\" y=\"147.04672510689835\"></rect><rect class=\"toyplot-Datum\" height=\"0.012308389151883148\" style=\"fill:rgb(98.8%,55.3%,38.4%);fill-opacity:1.0;opacity:1.0;stroke:rgb(100%,100%,100%);stroke-opacity:1.0;stroke-width:1.0\" width=\"6.3157894736842195\" x=\"410.0\" y=\"148.45480482587323\"></rect><rect class=\"toyplot-Datum\" height=\"29.017273593335759\" style=\"fill:rgb(98.8%,55.3%,38.4%);fill-opacity:1.0;opacity:1.0;stroke:rgb(100%,100%,100%);stroke-opacity:1.0;stroke-width:1.0\" width=\"6.3157894736842195\" x=\"416.31578947368422\" y=\"119.44983962168935\"></rect><rect class=\"toyplot-Datum\" height=\"0.057110925664716206\" style=\"fill:rgb(98.8%,55.3%,38.4%);fill-opacity:1.0;opacity:1.0;stroke:rgb(100%,100%,100%);stroke-opacity:1.0;stroke-width:1.0\" width=\"6.3157894736841627\" x=\"422.63157894736844\" y=\"148.41000228936039\"></rect><rect class=\"toyplot-Datum\" height=\"31.708872133068468\" style=\"fill:rgb(98.8%,55.3%,38.4%);fill-opacity:1.0;opacity:1.0;stroke:rgb(100%,100%,100%);stroke-opacity:1.0;stroke-width:1.0\" width=\"6.3157894736842195\" x=\"428.9473684210526\" y=\"116.75824108195664\"></rect><rect class=\"toyplot-Datum\" height=\"8.4479859782830999\" style=\"fill:rgb(98.8%,55.3%,38.4%);fill-opacity:1.0;opacity:1.0;stroke:rgb(100%,100%,100%);stroke-opacity:1.0;stroke-width:1.0\" width=\"6.3157894736842195\" x=\"435.26315789473682\" y=\"140.01912723674201\"></rect><rect class=\"toyplot-Datum\" height=\"26.728897882218575\" style=\"fill:rgb(98.8%,55.3%,38.4%);fill-opacity:1.0;opacity:1.0;stroke:rgb(100%,100%,100%);stroke-opacity:1.0;stroke-width:1.0\" width=\"6.3157894736842195\" x=\"441.57894736842104\" y=\"121.73821533280653\"></rect><rect class=\"toyplot-Datum\" height=\"26.493561481634686\" style=\"fill:rgb(98.8%,55.3%,38.4%);fill-opacity:1.0;opacity:1.0;stroke:rgb(100%,100%,100%);stroke-opacity:1.0;stroke-width:1.0\" width=\"6.3157894736842195\" x=\"447.89473684210526\" y=\"121.97355173339042\"></rect><rect class=\"toyplot-Datum\" height=\"24.915133656797806\" style=\"fill:rgb(98.8%,55.3%,38.4%);fill-opacity:1.0;opacity:1.0;stroke:rgb(100%,100%,100%);stroke-opacity:1.0;stroke-width:1.0\" width=\"6.3157894736842195\" x=\"454.21052631578948\" y=\"123.5519795582273\"></rect><rect class=\"toyplot-Datum\" height=\"28.069527628641154\" style=\"fill:rgb(98.8%,55.3%,38.4%);fill-opacity:1.0;opacity:1.0;stroke:rgb(100%,100%,100%);stroke-opacity:1.0;stroke-width:1.0\" width=\"6.3157894736842195\" x=\"460.5263157894737\" y=\"120.39758558638395\"></rect><rect class=\"toyplot-Datum\" height=\"86.56539324072503\" style=\"fill:rgb(98.8%,55.3%,38.4%);fill-opacity:1.0;opacity:1.0;stroke:rgb(100%,100%,100%);stroke-opacity:1.0;stroke-width:1.0\" width=\"6.3157894736841627\" x=\"466.84210526315792\" y=\"61.901719974300072\"></rect><rect class=\"toyplot-Datum\" height=\"3.7796601407587502\" style=\"fill:rgb(98.8%,55.3%,38.4%);fill-opacity:1.0;opacity:1.0;stroke:rgb(100%,100%,100%);stroke-opacity:1.0;stroke-width:1.0\" width=\"6.3157894736842195\" x=\"473.15789473684208\" y=\"144.68745307426636\"></rect><rect class=\"toyplot-Datum\" height=\"34.287725828169968\" style=\"fill:rgb(98.8%,55.3%,38.4%);fill-opacity:1.0;opacity:1.0;stroke:rgb(100%,100%,100%);stroke-opacity:1.0;stroke-width:1.0\" width=\"6.3157894736842195\" x=\"479.4736842105263\" y=\"114.17938738685514\"></rect><rect class=\"toyplot-Datum\" height=\"30.302269420791845\" style=\"fill:rgb(98.8%,55.3%,38.4%);fill-opacity:1.0;opacity:1.0;stroke:rgb(100%,100%,100%);stroke-opacity:1.0;stroke-width:1.0\" width=\"6.3157894736841627\" x=\"485.78947368421052\" y=\"118.16484379423326\"></rect><rect class=\"toyplot-Datum\" height=\"29.679464929706796\" style=\"fill:rgb(98.8%,55.3%,38.4%);fill-opacity:1.0;opacity:1.0;stroke:rgb(100%,100%,100%);stroke-opacity:1.0;stroke-width:1.0\" width=\"6.3157894736842763\" x=\"492.10526315789468\" y=\"118.78764828531831\"></rect><rect class=\"toyplot-Datum\" height=\"29.628754366401068\" style=\"fill:rgb(98.8%,55.3%,38.4%);fill-opacity:1.0;opacity:1.0;stroke:rgb(100%,100%,100%);stroke-opacity:1.0;stroke-width:1.0\" width=\"6.3157894736842195\" x=\"498.42105263157896\" y=\"118.83835884862404\"></rect><rect class=\"toyplot-Datum\" height=\"16.590231570033524\" style=\"fill:rgb(98.8%,55.3%,38.4%);fill-opacity:1.0;opacity:1.0;stroke:rgb(100%,100%,100%);stroke-opacity:1.0;stroke-width:1.0\" width=\"6.3157894736841627\" x=\"504.73684210526318\" y=\"131.87688164499158\"></rect><rect class=\"toyplot-Datum\" height=\"27.515157781240546\" style=\"fill:rgb(98.8%,55.3%,38.4%);fill-opacity:1.0;opacity:1.0;stroke:rgb(100%,100%,100%);stroke-opacity:1.0;stroke-width:1.0\" width=\"6.3157894736842195\" x=\"511.05263157894734\" y=\"120.95195543378456\"></rect><rect class=\"toyplot-Datum\" height=\"30.341656266077834\" style=\"fill:rgb(98.8%,55.3%,38.4%);fill-opacity:1.0;opacity:1.0;stroke:rgb(100%,100%,100%);stroke-opacity:1.0;stroke-width:1.0\" width=\"6.3157894736841627\" x=\"517.36842105263156\" y=\"118.12545694894727\"></rect><rect class=\"toyplot-Datum\" height=\"14.438232810719143\" style=\"fill:rgb(98.8%,55.3%,38.4%);fill-opacity:1.0;opacity:1.0;stroke:rgb(100%,100%,100%);stroke-opacity:1.0;stroke-width:1.0\" width=\"6.3157894736842763\" x=\"523.68421052631572\" y=\"134.02888040430597\"></rect><rect class=\"toyplot-Datum\" height=\"0.84386316025279484\" style=\"fill:rgb(98.8%,55.3%,38.4%);fill-opacity:1.0;opacity:1.0;stroke:rgb(100%,100%,100%);stroke-opacity:1.0;stroke-width:1.0\" width=\"6.3157894736842763\" x=\"530.0\" y=\"147.62325005477231\"></rect><rect class=\"toyplot-Datum\" height=\"0.47805783465895502\" style=\"fill:rgb(98.8%,55.3%,38.4%);fill-opacity:1.0;opacity:1.0;stroke:rgb(100%,100%,100%);stroke-opacity:1.0;stroke-width:1.0\" width=\"6.3157894736841627\" x=\"536.31578947368428\" y=\"147.98905538036615\"></rect><rect class=\"toyplot-Datum\" height=\"0.10437514000796\" style=\"fill:rgb(98.8%,55.3%,38.4%);fill-opacity:1.0;opacity:1.0;stroke:rgb(100%,100%,100%);stroke-opacity:1.0;stroke-width:1.0\" width=\"6.3157894736842763\" x=\"542.63157894736844\" y=\"148.36273807501715\"></rect><rect class=\"toyplot-Datum\" height=\"36.230974307468486\" style=\"fill:rgb(98.8%,55.3%,38.4%);fill-opacity:1.0;opacity:1.0;stroke:rgb(100%,100%,100%);stroke-opacity:1.0;stroke-width:1.0\" width=\"6.3157894736841627\" x=\"548.94736842105272\" y=\"112.23613890755662\"></rect><rect class=\"toyplot-Datum\" height=\"33.193263864784967\" style=\"fill:rgb(98.8%,55.3%,38.4%);fill-opacity:1.0;opacity:1.0;stroke:rgb(100%,100%,100%);stroke-opacity:1.0;stroke-width:1.0\" width=\"6.3157894736841627\" x=\"555.26315789473688\" y=\"115.27384935024014\"></rect><rect class=\"toyplot-Datum\" height=\"33.182432482331336\" style=\"fill:rgb(98.8%,55.3%,38.4%);fill-opacity:1.0;opacity:1.0;stroke:rgb(100%,100%,100%);stroke-opacity:1.0;stroke-width:1.0\" width=\"6.3157894736842763\" x=\"561.57894736842104\" y=\"115.28468073269377\"></rect><rect class=\"toyplot-Datum\" height=\"14.488943374024871\" style=\"fill:rgb(98.8%,55.3%,38.4%);fill-opacity:1.0;opacity:1.0;stroke:rgb(100%,100%,100%);stroke-opacity:1.0;stroke-width:1.0\" width=\"6.3157894736841627\" x=\"567.89473684210532\" y=\"133.97816984100024\"></rect><rect class=\"toyplot-Datum\" height=\"40.379886122783603\" style=\"fill:rgb(98.8%,55.3%,38.4%);fill-opacity:1.0;opacity:1.0;stroke:rgb(100%,100%,100%);stroke-opacity:1.0;stroke-width:1.0\" width=\"6.3157894736841627\" x=\"574.21052631578948\" y=\"108.08722709224151\"></rect><rect class=\"toyplot-Datum\" height=\"28.174887439781202\" style=\"fill:rgb(98.8%,55.3%,38.4%);fill-opacity:1.0;opacity:1.0;stroke:rgb(100%,100%,100%);stroke-opacity:1.0;stroke-width:1.0\" width=\"6.3157894736842763\" x=\"580.52631578947364\" y=\"120.29222577524391\"></rect><rect class=\"toyplot-Datum\" height=\"29.221592853256951\" style=\"fill:rgb(98.8%,55.3%,38.4%);fill-opacity:1.0;opacity:1.0;stroke:rgb(100%,100%,100%);stroke-opacity:1.0;stroke-width:1.0\" width=\"6.3157894736841627\" x=\"586.84210526315792\" y=\"119.24552036176816\"></rect><rect class=\"toyplot-Datum\" height=\"27.685013551536457\" style=\"fill:rgb(98.8%,55.3%,38.4%);fill-opacity:1.0;opacity:1.0;stroke:rgb(100%,100%,100%);stroke-opacity:1.0;stroke-width:1.0\" width=\"6.3157894736841627\" x=\"593.15789473684208\" y=\"120.78209966348865\"></rect><rect class=\"toyplot-Datum\" height=\"37.444089142277591\" style=\"fill:rgb(98.8%,55.3%,38.4%);fill-opacity:1.0;opacity:1.0;stroke:rgb(100%,100%,100%);stroke-opacity:1.0;stroke-width:1.0\" width=\"6.3157894736842763\" x=\"599.47368421052624\" y=\"111.02302407274752\"></rect><rect class=\"toyplot-Datum\" height=\"24.764971309144897\" style=\"fill:rgb(98.8%,55.3%,38.4%);fill-opacity:1.0;opacity:1.0;stroke:rgb(100%,100%,100%);stroke-opacity:1.0;stroke-width:1.0\" width=\"6.3157894736841627\" x=\"605.78947368421052\" y=\"123.70214190588021\"></rect><rect class=\"toyplot-Datum\" height=\"30.446523741651845\" style=\"fill:rgb(98.8%,55.3%,38.4%);fill-opacity:1.0;opacity:1.0;stroke:rgb(100%,100%,100%);stroke-opacity:1.0;stroke-width:1.0\" width=\"6.3157894736842763\" x=\"612.10526315789468\" y=\"118.02058947337326\"></rect><rect class=\"toyplot-Datum\" height=\"40.658055717616023\" style=\"fill:rgb(98.8%,55.3%,38.4%);fill-opacity:1.0;opacity:1.0;stroke:rgb(100%,100%,100%);stroke-opacity:1.0;stroke-width:1.0\" width=\"6.3157894736841627\" x=\"618.42105263157896\" y=\"107.80905749740909\"></rect><rect class=\"toyplot-Datum\" height=\"0.078773690572035093\" style=\"fill:rgb(98.8%,55.3%,38.4%);fill-opacity:1.0;opacity:1.0;stroke:rgb(100%,100%,100%);stroke-opacity:1.0;stroke-width:1.0\" width=\"6.3157894736842763\" x=\"624.73684210526312\" y=\"148.38833952445307\"></rect><rect class=\"toyplot-Datum\" height=\"5.1183205449170259\" style=\"fill:rgb(98.8%,55.3%,38.4%);fill-opacity:1.0;opacity:1.0;stroke:rgb(100%,100%,100%);stroke-opacity:1.0;stroke-width:1.0\" width=\"6.3157894736842763\" x=\"631.0526315789474\" y=\"143.34879267010808\"></rect><rect class=\"toyplot-Datum\" height=\"0.50415161966094502\" style=\"fill:rgb(98.8%,55.3%,38.4%);fill-opacity:1.0;opacity:1.0;stroke:rgb(100%,100%,100%);stroke-opacity:1.0;stroke-width:1.0\" width=\"6.315789473684049\" x=\"637.36842105263167\" y=\"147.96296159536416\"></rect><rect class=\"toyplot-Datum\" height=\"39.101290657686491\" style=\"fill:rgb(98.8%,55.3%,38.4%);fill-opacity:1.0;opacity:1.0;stroke:rgb(100%,100%,100%);stroke-opacity:1.0;stroke-width:1.0\" width=\"6.3157894736842763\" x=\"643.68421052631572\" y=\"109.36582255733862\"></rect></g></g></g><g class=\"toyplot-coordinates-Axis\" id=\"t0773ad32ba0044c0b4971be3f58d915c\" transform=\"translate(50.0,250.0)translate(0,10.0)\"><line style=\"\" x1=\"0\" x2=\"600.0\" y1=\"0\" y2=\"0\"></line><g><text style=\"font-weight:normal;stroke:none;text-anchor:middle\" transform=\"translate(3.1578947368421053,6)translate(0,7.5)\"><tspan style=\"font-size:10.0px\">0</tspan></text><text style=\"font-weight:normal;stroke:none;text-anchor:middle\" transform=\"translate(192.6315789473684,6)translate(0,7.5)\"><tspan style=\"font-size:10.0px\">30</tspan></text><text style=\"font-weight:normal;stroke:none;text-anchor:middle\" transform=\"translate(382.10526315789474,6)translate(0,7.5)\"><tspan style=\"font-size:10.0px\">60</tspan></text><text style=\"font-weight:normal;stroke:none;text-anchor:middle\" transform=\"translate(571.578947368421,6)translate(0,7.5)\"><tspan style=\"font-size:10.0px\">90</tspan></text></g><g class=\"toyplot-coordinates-Axis-coordinates\" style=\"visibility:hidden\" transform=\"\"><line style=\"stroke:rgb(43.9%,50.2%,56.5%);stroke-opacity:1.0;stroke-width:1.0\" x1=\"0\" x2=\"0\" y1=\"-3.0\" y2=\"4.5\"></line><text style=\"alignment-baseline:alphabetic;fill:rgb(43.9%,50.2%,56.5%);fill-opacity:1.0;font-size:10px;font-weight:normal;stroke:none;text-anchor:middle\" x=\"0\" y=\"-6\"></text></g></g><g class=\"toyplot-coordinates-Axis\" id=\"td6a7c95cd6cf4d65ba4085b537892676\" transform=\"translate(50.0,250.0)rotate(-90.0)translate(0,-10.0)\"><line style=\"\" x1=\"0\" x2=\"188.09828002569992\" y1=\"0\" y2=\"0\"></line><g><line style=\"\" x1=\"3.0657735699498065\" x2=\"3.0657735699498065\" y1=\"0\" y2=\"5\"></line><line style=\"\" x1=\"52.29933017746235\" x2=\"52.29933017746235\" y1=\"0\" y2=\"5\"></line><line style=\"\" x1=\"101.53288678497489\" x2=\"101.53288678497489\" y1=\"0\" y2=\"5\"></line><line style=\"\" x1=\"150.76644339248745\" x2=\"150.76644339248745\" y1=\"0\" y2=\"5\"></line><line style=\"\" x1=\"200.0\" x2=\"200.0\" y1=\"0\" y2=\"5\"></line></g><g><text style=\"font-weight:normal;stroke:none;text-anchor:end\" transform=\"translate(3.0657735699498065,-6)rotate(90)translate(0,3.75)\"><tspan style=\"font-size:10.0px\">-200000</tspan></text><text style=\"font-weight:normal;stroke:none;text-anchor:end\" transform=\"translate(52.29933017746235,-6)rotate(90)translate(0,3.75)\"><tspan style=\"font-size:10.0px\">-100000</tspan></text><text style=\"font-weight:normal;stroke:none;text-anchor:end\" transform=\"translate(101.53288678497489,-6)rotate(90)translate(0,3.75)\"><tspan style=\"font-size:10.0px\">0</tspan></text><text style=\"font-weight:normal;stroke:none;text-anchor:end\" transform=\"translate(150.76644339248745,-6)rotate(90)translate(0,3.75)\"><tspan style=\"font-size:10.0px\">100000</tspan></text><text style=\"font-weight:normal;stroke:none;text-anchor:end\" transform=\"translate(200.0,-6)rotate(90)translate(0,3.75)\"><tspan style=\"font-size:10.0px\">200000</tspan></text></g><g class=\"toyplot-coordinates-Axis-coordinates\" style=\"visibility:hidden\" transform=\"\"><line style=\"stroke:rgb(43.9%,50.2%,56.5%);stroke-opacity:1.0;stroke-width:1.0\" x1=\"0\" x2=\"0\" y1=\"3.0\" y2=\"-4.5\"></line><text style=\"alignment-baseline:hanging;fill:rgb(43.9%,50.2%,56.5%);fill-opacity:1.0;font-size:10px;font-weight:normal;stroke:none;text-anchor:middle\" x=\"0\" y=\"6\"></text></g></g></g></svg><div class=\"toyplot-interactive\"><ul class=\"toyplot-mark-popup\" onmouseleave=\"this.style.visibility='hidden'\" style=\"background:rgba(0%,0%,0%,0.75);border:0;border-radius:6px;color:white;cursor:default;list-style:none;margin:0;padding:5px;position:fixed;visibility:hidden\">\n",
       "            <li class=\"toyplot-mark-popup-title\" style=\"color:lightgray;cursor:default;padding:5px;list-style:none;margin:0\"></li>\n",
       "            <li class=\"toyplot-mark-popup-save-csv\" onmouseout=\"this.style.color='white';this.style.background='steelblue'\" onmouseover=\"this.style.color='steelblue';this.style.background='white'\" style=\"border-radius:3px;padding:5px;list-style:none;margin:0\">\n",
       "                Save as .csv\n",
       "            </li>\n",
       "        </ul><script>\n",
       "        (function()\n",
       "        {\n",
       "          var data_tables = [{\"title\": \"Bar Data\", \"names\": [\"left\", \"right\", \"boundary1\", \"boundary2\"], \"id\": \"t5fb77395b87f40c381c495f7c65fc09d\", \"columns\": [[-0.5, 0.5, 1.5, 2.5, 3.5, 4.5, 5.5, 6.5, 7.5, 8.5, 9.5, 10.5, 11.5, 12.5, 13.5, 14.5, 15.5, 16.5, 17.5, 18.5, 19.5, 20.5, 21.5, 22.5, 23.5, 24.5, 25.5, 26.5, 27.5, 28.5, 29.5, 30.5, 31.5, 32.5, 33.5, 34.5, 35.5, 36.5, 37.5, 38.5, 39.5, 40.5, 41.5, 42.5, 43.5, 44.5, 45.5, 46.5, 47.5, 48.5, 49.5, 50.5, 51.5, 52.5, 53.5, 54.5, 55.5, 56.5, 57.5, 58.5, 59.5, 60.5, 61.5, 62.5, 63.5, 64.5, 65.5, 66.5, 67.5, 68.5, 69.5, 70.5, 71.5, 72.5, 73.5, 74.5, 75.5, 76.5, 77.5, 78.5, 79.5, 80.5, 81.5, 82.5, 83.5, 84.5, 85.5, 86.5, 87.5, 88.5, 89.5, 90.5, 91.5, 92.5, 93.5], [0.5, 1.5, 2.5, 3.5, 4.5, 5.5, 6.5, 7.5, 8.5, 9.5, 10.5, 11.5, 12.5, 13.5, 14.5, 15.5, 16.5, 17.5, 18.5, 19.5, 20.5, 21.5, 22.5, 23.5, 24.5, 25.5, 26.5, 27.5, 28.5, 29.5, 30.5, 31.5, 32.5, 33.5, 34.5, 35.5, 36.5, 37.5, 38.5, 39.5, 40.5, 41.5, 42.5, 43.5, 44.5, 45.5, 46.5, 47.5, 48.5, 49.5, 50.5, 51.5, 52.5, 53.5, 54.5, 55.5, 56.5, 57.5, 58.5, 59.5, 60.5, 61.5, 62.5, 63.5, 64.5, 65.5, 66.5, 67.5, 68.5, 69.5, 70.5, 71.5, 72.5, 73.5, 74.5, 75.5, 76.5, 77.5, 78.5, 79.5, 80.5, 81.5, 82.5, 83.5, 84.5, 85.5, 86.5, 87.5, 88.5, 89.5, 90.5, 91.5, 92.5, 93.5, 94.5], [0.0, 0.0, 0.0, 0.0, 0.0, 0.0, 0.0, 0.0, 0.0, 0.0, 0.0, 0.0, 0.0, 0.0, 0.0, 0.0, 0.0, 0.0, 0.0, 0.0, 0.0, 0.0, 0.0, 0.0, 0.0, 0.0, 0.0, 0.0, 0.0, 0.0, 0.0, 0.0, 0.0, 0.0, 0.0, 0.0, 0.0, 0.0, 0.0, 0.0, 0.0, 0.0, 0.0, 0.0, 0.0, 0.0, 0.0, 0.0, 0.0, 0.0, 0.0, 0.0, 0.0, 0.0, 0.0, 0.0, 0.0, 0.0, 0.0, 0.0, 0.0, 0.0, 0.0, 0.0, 0.0, 0.0, 0.0, 0.0, 0.0, 0.0, 0.0, 0.0, 0.0, 0.0, 0.0, 0.0, 0.0, 0.0, 0.0, 0.0, 0.0, 0.0, 0.0, 0.0, 0.0, 0.0, 0.0, 0.0, 0.0, 0.0, 0.0, 0.0, 0.0, 0.0, 0.0], [21822.0, 29921.0, 135214.0, 23501.0, 4188.0, 2209.0, 9521.0, 8951.0, 22931.0, 2303.0, 1670.0, 2304.0, 955.0, 22344.0, 9171.0, 4648.0, 64492.0, 69205.0, 120196.0, 17743.0, 19969.0, 52898.0, 7240.0, 35916.0, 2331.0, 1009.0, 138382.0, 43012.0, 11534.0, 29271.0, 11361.0, 10611.0, 1987.0, 56604.0, 56898.0, 49088.0, 68177.0, 44997.0, 10083.0, 42005.0, 33244.0, 144426.0, 134233.0, 59706.0, 3851.0, 10032.0, 48944.0, 45842.0, 36270.0, 60103.0, 40542.0, 59358.0, 53896.0, 67202.0, 51374.0, 57654.0, 2885.0, 25.0, 58938.0, 116.0, 64405.0, 17159.0, 54290.0, 53812.0, 50606.0, 57013.0, 175826.0, 7677.0, 69643.0, 61548.0, 60283.0, 60180.0, 33697.0, 55887.0, 61628.0, 29326.0, 1714.0, 971.0, 212.0, 73590.0, 67420.0, 67398.0, 29429.0, 82017.0, 57227.0, 59353.0, 56232.0, 76054.0, 50301.0, 61841.0, 82582.0, 160.0, 10396.0, 1024.0, 79420.0]], \"filename\": \"toyplot\"}];\n",
       "\n",
       "          function save_csv(data_table)\n",
       "          {\n",
       "            var uri = \"data:text/csv;charset=utf-8,\";\n",
       "            uri += data_table.names.join(\",\") + \"\\n\";\n",
       "            for(var i = 0; i != data_table.columns[0].length; ++i)\n",
       "            {\n",
       "              for(var j = 0; j != data_table.columns.length; ++j)\n",
       "              {\n",
       "                if(j)\n",
       "                  uri += \",\";\n",
       "                uri += data_table.columns[j][i];\n",
       "              }\n",
       "              uri += \"\\n\";\n",
       "            }\n",
       "            uri = encodeURI(uri);\n",
       "\n",
       "            var link = document.createElement(\"a\");\n",
       "            if(typeof link.download != \"undefined\")\n",
       "            {\n",
       "              link.href = uri;\n",
       "              link.style = \"visibility:hidden\";\n",
       "              link.download = data_table.filename + \".csv\";\n",
       "\n",
       "              document.body.appendChild(link);\n",
       "              link.click();\n",
       "              document.body.removeChild(link);\n",
       "            }\n",
       "            else\n",
       "            {\n",
       "              window.open(uri);\n",
       "            }\n",
       "          }\n",
       "\n",
       "          function open_popup(data_table)\n",
       "          {\n",
       "            return function(e)\n",
       "            {\n",
       "              var popup = document.querySelector(\"#t97a2d0f4f74441f790862d6cc0dddf76 .toyplot-mark-popup\");\n",
       "              popup.querySelector(\".toyplot-mark-popup-title\").innerHTML = data_table.title;\n",
       "              popup.querySelector(\".toyplot-mark-popup-save-csv\").onclick = function() { popup.style.visibility = \"hidden\"; save_csv(data_table); }\n",
       "              popup.style.left = (e.clientX - 50) + \"px\";\n",
       "              popup.style.top = (e.clientY - 20) + \"px\";\n",
       "              popup.style.visibility = \"visible\";\n",
       "              e.stopPropagation();\n",
       "              e.preventDefault();\n",
       "            }\n",
       "\n",
       "          }\n",
       "\n",
       "          for(var i = 0; i != data_tables.length; ++i)\n",
       "          {\n",
       "            var data_table = data_tables[i];\n",
       "            var event_target = document.querySelector(\"#\" + data_table.id);\n",
       "            event_target.oncontextmenu = open_popup(data_table);\n",
       "          }\n",
       "        })();\n",
       "        </script><script>\n",
       "        (function()\n",
       "        {\n",
       "            function _sign(x)\n",
       "            {\n",
       "                return x < 0 ? -1 : x > 0 ? 1 : 0;\n",
       "            }\n",
       "\n",
       "            function _mix(a, b, amount)\n",
       "            {\n",
       "                return ((1.0 - amount) * a) + (amount * b);\n",
       "            }\n",
       "\n",
       "            function _log(x, base)\n",
       "            {\n",
       "                return Math.log(Math.abs(x)) / Math.log(base);\n",
       "            }\n",
       "\n",
       "            function _in_range(a, x, b)\n",
       "            {\n",
       "                var left = Math.min(a, b);\n",
       "                var right = Math.max(a, b);\n",
       "                return left <= x && x <= right;\n",
       "            }\n",
       "\n",
       "            function inside(range, projection)\n",
       "            {\n",
       "                for(var i = 0; i != projection.length; ++i)\n",
       "                {\n",
       "                    var segment = projection[i];\n",
       "                    if(_in_range(segment.range.min, range, segment.range.max))\n",
       "                        return true;\n",
       "                }\n",
       "                return false;\n",
       "            }\n",
       "\n",
       "            function to_domain(range, projection)\n",
       "            {\n",
       "                for(var i = 0; i != projection.length; ++i)\n",
       "                {\n",
       "                    var segment = projection[i];\n",
       "                    if(_in_range(segment.range.bounds.min, range, segment.range.bounds.max))\n",
       "                    {\n",
       "                        if(segment.scale == \"linear\")\n",
       "                        {\n",
       "                            var amount = (range - segment.range.min) / (segment.range.max - segment.range.min);\n",
       "                            return _mix(segment.domain.min, segment.domain.max, amount)\n",
       "                        }\n",
       "                        else if(segment.scale[0] == \"log\")\n",
       "                        {\n",
       "                            var amount = (range - segment.range.min) / (segment.range.max - segment.range.min);\n",
       "                            var base = segment.scale[1];\n",
       "                            return _sign(segment.domain.min) * Math.pow(base, _mix(_log(segment.domain.min, base), _log(segment.domain.max, base), amount));\n",
       "                        }\n",
       "                    }\n",
       "                }\n",
       "            }\n",
       "\n",
       "            function display_coordinates(e)\n",
       "            {\n",
       "                var current = svg.createSVGPoint();\n",
       "                current.x = e.clientX;\n",
       "                current.y = e.clientY;\n",
       "\n",
       "                for(var axis_id in axes)\n",
       "                {\n",
       "                    var axis = document.querySelector(\"#\" + axis_id);\n",
       "                    var coordinates = axis.querySelector(\".toyplot-coordinates-Axis-coordinates\");\n",
       "                    if(coordinates)\n",
       "                    {\n",
       "                        var projection = axes[axis_id];\n",
       "                        var local = current.matrixTransform(axis.getScreenCTM().inverse());\n",
       "                        if(inside(local.x, projection))\n",
       "                        {\n",
       "                            var domain = to_domain(local.x, projection);\n",
       "                            coordinates.style.visibility = \"visible\";\n",
       "                            coordinates.setAttribute(\"transform\", \"translate(\" + local.x + \")\");\n",
       "                            var text = coordinates.querySelector(\"text\");\n",
       "                            text.textContent = domain.toFixed(2);\n",
       "                        }\n",
       "                        else\n",
       "                        {\n",
       "                            coordinates.style.visibility= \"hidden\";\n",
       "                        }\n",
       "                    }\n",
       "                }\n",
       "            }\n",
       "\n",
       "            var root_id = \"t97a2d0f4f74441f790862d6cc0dddf76\";\n",
       "            var axes = {\"t0773ad32ba0044c0b4971be3f58d915c\": [{\"domain\": {\"bounds\": {\"max\": Infinity, \"min\": -Infinity}, \"max\": 94.5, \"min\": -0.5}, \"range\": {\"bounds\": {\"max\": Infinity, \"min\": -Infinity}, \"max\": 600.0, \"min\": 0.0}, \"scale\": \"linear\"}], \"td6a7c95cd6cf4d65ba4085b537892676\": [{\"domain\": {\"bounds\": {\"max\": Infinity, \"min\": -Infinity}, \"max\": 200000.0, \"min\": -206227.0}, \"range\": {\"bounds\": {\"max\": Infinity, \"min\": -Infinity}, \"max\": 200.0, \"min\": 0.0}, \"scale\": \"linear\"}]};\n",
       "\n",
       "            var svg = document.querySelector(\"#\" + root_id + \" svg\");\n",
       "            svg.addEventListener(\"click\", display_coordinates);\n",
       "        })();\n",
       "        </script></div></div>"
      ]
     },
     "metadata": {},
     "output_type": "display_data"
    }
   ],
   "source": [
    "import numpy as np\n",
    "import toyplot\n",
    "\n",
    "## stack columns of consens stats\n",
    "zero = np.zeros(ficus_dhi.stats.shape[0])\n",
    "upper = ficus_dhi.stats.reads_consens\n",
    "lower = -1*ficus_dlo.stats.reads_consens\n",
    "boundaries = np.column_stack((lower, zero, upper))\n",
    "\n",
    "## plot barplots\n",
    "canvas = toyplot.Canvas(width=700, height=300)\n",
    "axes = canvas.cartesian()\n",
    "axes.bars(boundaries, baseline=None)\n",
    "axes.y.ticks.show = True\n",
    "axes.y.ticks.labels.angle = -90"
   ]
  },
  {
   "cell_type": "markdown",
   "metadata": {},
   "source": [
    "## Cluster data across Samples\n"
   ]
  },
  {
   "cell_type": "code",
   "execution_count": 14,
   "metadata": {},
   "outputs": [
    {
     "name": "stdout",
     "output_type": "stream",
     "text": [
      "\n",
      "  Assembly: ficus_dlo\n",
      "  [####################] 100%  concat/shuffle input  | 0:00:51 | s6 | \n",
      "  [####################] 100%  clustering across     | 3:26:51 | s6 | \n",
      "  [####################] 100%  building clusters     | 0:00:40 | s6 | \n",
      "  [####################] 100%  aligning clusters     | 0:03:15 | s6 | \n",
      "  [####################] 100%  database indels       | 0:01:00 | s6 | \n",
      "  [####################] 100%  indexing clusters     | 0:07:29 | s6 | \n",
      "  [####################] 100%  building database     | 0:51:26 | s6 | \n",
      "\n",
      "  Assembly: ficus_dhi\n",
      "  [####################] 100%  concat/shuffle input  | 0:00:45 | s6 | \n",
      "  [####################] 100%  clustering across     | 2:05:50 | s6 | \n",
      "  [####################] 100%  building clusters     | 0:00:37 | s6 | \n",
      "  [####################] 100%  aligning clusters     | 0:02:56 | s6 | \n",
      "  [####################] 100%  database indels       | 0:00:50 | s6 | \n",
      "  [####################] 100%  indexing clusters     | 0:06:03 | s6 | \n",
      "  [####################] 100%  building database     | 0:41:25 | s6 | \n"
     ]
    }
   ],
   "source": [
    "## run step 6 on full and subsampled data sets\n",
    "ficus_dlo.run(\"6\")\n",
    "ficus_dhi.run(\"6\")"
   ]
  },
  {
   "cell_type": "markdown",
   "metadata": {},
   "source": [
    "### Create branches that include/exclude Samples with little data\n",
    "We have several Samples that recovered very little data, probably as a result of having low quality DNA extractions. Figs are hard. We'll assemble one data set that includes all of these samples, but since they are likely to have little information we'll also assemble most of our data sets without these low data samples. "
   ]
  },
  {
   "cell_type": "code",
   "execution_count": 6,
   "metadata": {},
   "outputs": [],
   "source": [
    "ficus_dhi = ip.load_json(\"analysis-ipyrad/ficus_dhi.json\", 1)\n",
    "ficus_dlo = ip.load_json(\"analysis-ipyrad/ficus_dlo.json\", 1)"
   ]
  },
  {
   "cell_type": "code",
   "execution_count": 12,
   "metadata": {},
   "outputs": [
    {
     "name": "stdout",
     "output_type": "stream",
     "text": [
      "excluded samples:\t\tconsens reads\n",
      "  C02_citrifolia        \t44\n",
      "  C09_costaricana       \t189\n",
      "  C52_citrifolia        \t269\n",
      "  C34_triangle          \t374\n"
     ]
    }
   ],
   "source": [
    "## get list of samples with >5000 consens reads \n",
    "skeep = ficus_dlo.stats.index[ficus_dlo.stats.reads_consens > 1000].tolist()\n",
    "\n",
    "## print who was excluded\n",
    "print \"excluded samples:\\t\\tconsens reads\"\n",
    "for name, dat in ficus_dlo.samples.items():\n",
    "    if name not in skeep:\n",
    "        print \"  {:<22}\\t{}\".format(name, int(dat.stats.reads_consens))"
   ]
  },
  {
   "cell_type": "code",
   "execution_count": 13,
   "metadata": {},
   "outputs": [
    {
     "name": "stdout",
     "output_type": "stream",
     "text": [
      "excluded samples:\t\tconsens reads\n",
      "  A07_obtusifolia       \t2209\n",
      "  A62_turbinata         \t2331\n",
      "  C02_citrifolia        \t25\n",
      "  B103_obtusifolia      \t3851\n",
      "  A26_popenoei          \t2303\n",
      "  A63_turbinata         \t1009\n",
      "  A75_colubrinae        \t1987\n",
      "  A29_popenoei          \t955\n",
      "  A28_popenoei          \t2304\n",
      "  C33_triangle          \t971\n",
      "  A38_nymphaeifolia     \t4648\n",
      "  C09_costaricana       \t116\n",
      "  A06_obtusifolia       \t4188\n",
      "  C01_bullenei          \t2885\n",
      "  C52_citrifolia        \t160\n",
      "  C54_citrifolia        \t1024\n",
      "  C32_triangleXtrigonata\t1714\n",
      "  A27_popenoei          \t1670\n",
      "  C34_triangle          \t212\n"
     ]
    }
   ],
   "source": [
    "## get list of samples with >5000 consens reads \n",
    "fkeep = ficus_dhi.stats.index[ficus_dhi.stats.reads_consens > 5000].tolist()\n",
    "\n",
    "## print who was excluded\n",
    "print \"excluded samples:\\t\\tconsens reads\"\n",
    "for name, dat in ficus_dhi.samples.items():\n",
    "    if name not in fkeep:\n",
    "        print \"  {:<22}\\t{}\".format(name, int(dat.stats.reads_consens))"
   ]
  },
  {
   "cell_type": "markdown",
   "metadata": {},
   "source": [
    "### Assemble final data sets\n",
    "Also with different thresholds for missing data. "
   ]
  },
  {
   "cell_type": "code",
   "execution_count": 17,
   "metadata": {
    "scrolled": false
   },
   "outputs": [
    {
     "name": "stdout",
     "output_type": "stream",
     "text": [
      "\n",
      "  Assembly: ficus_dlo_f4\n",
      "  [####################] 100%  filtering loci        | 0:00:37 | s7 | \n",
      "  [####################] 100%  building loci/stats   | 0:00:34 | s7 | \n",
      "  [####################] 100%  building alleles      | 0:00:45 | s7 | \n",
      "  [####################] 100%  building vcf file     | 0:01:41 | s7 | \n",
      "  [####################] 100%  writing vcf file      | 0:00:01 | s7 | \n",
      "  [####################] 100%  building arrays       | 0:00:30 | s7 | \n",
      "  [####################] 100%  writing outfiles      | 0:01:32 | s7 | \n",
      "  Outfiles written to: ~/Documents/Ficus/analysis-ipyrad/ficus_dlo_f4_outfiles\n",
      "\n",
      "  Assembly: ficus_dlo_s4\n",
      "  [####################] 100%  filtering loci        | 0:00:44 | s7 | \n",
      "  [####################] 100%  building loci/stats   | 0:00:34 | s7 | \n",
      "  [####################] 100%  building alleles      | 0:00:42 | s7 | \n",
      "  [####################] 100%  building vcf file     | 0:01:25 | s7 | \n",
      "  [####################] 100%  writing vcf file      | 0:00:01 | s7 | \n",
      "  [####################] 100%  building arrays       | 0:00:37 | s7 | \n",
      "  [####################] 100%  writing outfiles      | 0:01:17 | s7 | \n",
      "  Outfiles written to: ~/Documents/Ficus/analysis-ipyrad/ficus_dlo_s4_outfiles\n",
      "\n",
      "  Assembly: ficus_dlo_f10\n",
      "  [####################] 100%  filtering loci        | 0:00:39 | s7 | \n",
      "  [####################] 100%  building loci/stats   | 0:00:33 | s7 | \n",
      "  [####################] 100%  building alleles      | 0:00:45 | s7 | \n",
      "  [####################] 100%  building vcf file     | 0:01:16 | s7 | \n",
      "  [####################] 100%  writing vcf file      | 0:00:01 | s7 | \n",
      "  [####################] 100%  building arrays       | 0:00:28 | s7 | \n",
      "  [####################] 100%  writing outfiles      | 0:00:58 | s7 | \n",
      "  Outfiles written to: ~/Documents/Ficus/analysis-ipyrad/ficus_dlo_f10_outfiles\n",
      "\n",
      "  Assembly: ficus_dlo_s10\n",
      "  [####################] 100%  filtering loci        | 0:00:43 | s7 | \n",
      "  [####################] 100%  building loci/stats   | 0:00:34 | s7 | \n",
      "  [####################] 100%  building alleles      | 0:00:43 | s7 | \n",
      "  [####################] 100%  building vcf file     | 0:01:11 | s7 | \n",
      "  [####################] 100%  writing vcf file      | 0:00:00 | s7 | \n",
      "  [####################] 100%  building arrays       | 0:00:39 | s7 | \n",
      "  [####################] 100%  writing outfiles      | 0:00:42 | s7 | \n",
      "  Outfiles written to: ~/Documents/Ficus/analysis-ipyrad/ficus_dlo_s10_outfiles\n",
      "\n",
      "  Assembly: ficus_dlo_f20\n",
      "  [####################] 100%  filtering loci        | 0:00:36 | s7 | \n",
      "  [####################] 100%  building loci/stats   | 0:00:34 | s7 | \n",
      "  [####################] 100%  building alleles      | 0:00:45 | s7 | \n",
      "  [####################] 100%  building vcf file     | 0:01:08 | s7 | \n",
      "  [####################] 100%  writing vcf file      | 0:00:00 | s7 | \n",
      "  [####################] 100%  building arrays       | 0:00:28 | s7 | \n",
      "  [####################] 100%  writing outfiles      | 0:00:35 | s7 | \n",
      "  Outfiles written to: ~/Documents/Ficus/analysis-ipyrad/ficus_dlo_f20_outfiles\n",
      "\n",
      "  Assembly: ficus_dlo_s20\n",
      "  [####################] 100%  filtering loci        | 0:00:44 | s7 | \n",
      "  [####################] 100%  building loci/stats   | 0:00:33 | s7 | \n",
      "  [####################] 100%  building alleles      | 0:00:43 | s7 | \n",
      "  [####################] 100%  building vcf file     | 0:01:02 | s7 | \n",
      "  [####################] 100%  writing vcf file      | 0:00:00 | s7 | \n",
      "  [####################] 100%  building arrays       | 0:00:39 | s7 | \n",
      "  [####################] 100%  writing outfiles      | 0:00:29 | s7 | \n",
      "  Outfiles written to: ~/Documents/Ficus/analysis-ipyrad/ficus_dlo_s20_outfiles\n",
      "\n",
      "  Assembly: ficus_dhi_f4\n",
      "  [####################] 100%  filtering loci        | 0:00:30 | s7 | \n",
      "  [####################] 100%  building loci/stats   | 0:00:28 | s7 | \n",
      "  [####################] 100%  building alleles      | 0:00:40 | s7 | \n",
      "  [####################] 100%  building vcf file     | 0:01:24 | s7 | \n",
      "  [####################] 100%  writing vcf file      | 0:00:01 | s7 | \n",
      "  [####################] 100%  building arrays       | 0:00:23 | s7 | \n",
      "  [####################] 100%  writing outfiles      | 0:01:26 | s7 | \n",
      "  Outfiles written to: ~/Documents/Ficus/analysis-ipyrad/ficus_dhi_f4_outfiles\n",
      "\n",
      "  Assembly: ficus_dhi_s4\n",
      "  [####################] 100%  filtering loci        | 0:00:37 | s7 | \n",
      "  [####################] 100%  building loci/stats   | 0:00:28 | s7 | \n",
      "  [####################] 100%  building alleles      | 0:00:38 | s7 | \n",
      "  [####################] 100%  building vcf file     | 0:01:15 | s7 | \n",
      "  [####################] 100%  writing vcf file      | 0:00:01 | s7 | \n",
      "  [####################] 100%  building arrays       | 0:00:31 | s7 | \n",
      "  [####################] 100%  writing outfiles      | 0:01:07 | s7 | \n",
      "  Outfiles written to: ~/Documents/Ficus/analysis-ipyrad/ficus_dhi_s4_outfiles\n",
      "\n",
      "  Assembly: ficus_dhi_f10\n",
      "  [####################] 100%  filtering loci        | 0:00:30 | s7 | \n",
      "  [####################] 100%  building loci/stats   | 0:00:28 | s7 | \n",
      "  [####################] 100%  building alleles      | 0:00:40 | s7 | \n",
      "  [####################] 100%  building vcf file     | 0:01:06 | s7 | \n",
      "  [####################] 100%  writing vcf file      | 0:00:00 | s7 | \n",
      "  [####################] 100%  building arrays       | 0:00:23 | s7 | \n",
      "  [####################] 100%  writing outfiles      | 0:00:53 | s7 | \n",
      "  Outfiles written to: ~/Documents/Ficus/analysis-ipyrad/ficus_dhi_f10_outfiles\n",
      "\n",
      "  Assembly: ficus_dhi_s10\n",
      "  [####################] 100%  filtering loci        | 0:00:37 | s7 | \n",
      "  [####################] 100%  building loci/stats   | 0:00:28 | s7 | \n",
      "  [####################] 100%  building alleles      | 0:00:37 | s7 | \n",
      "  [####################] 100%  building vcf file     | 0:01:01 | s7 | \n",
      "  [####################] 100%  writing vcf file      | 0:00:00 | s7 | \n",
      "  [####################] 100%  building arrays       | 0:00:30 | s7 | \n",
      "  [####################] 100%  writing outfiles      | 0:00:40 | s7 | \n",
      "  Outfiles written to: ~/Documents/Ficus/analysis-ipyrad/ficus_dhi_s10_outfiles\n",
      "\n",
      "  Assembly: ficus_dhi_f20\n",
      "  [####################] 100%  filtering loci        | 0:00:30 | s7 | \n",
      "  [####################] 100%  building loci/stats   | 0:00:28 | s7 | \n",
      "  [####################] 100%  building alleles      | 0:00:40 | s7 | \n",
      "  [####################] 100%  building vcf file     | 0:00:57 | s7 | \n",
      "  [####################] 100%  writing vcf file      | 0:00:00 | s7 | \n",
      "  [####################] 100%  building arrays       | 0:00:23 | s7 | \n",
      "  [####################] 100%  writing outfiles      | 0:00:35 | s7 | \n",
      "  Outfiles written to: ~/Documents/Ficus/analysis-ipyrad/ficus_dhi_f20_outfiles\n",
      "\n",
      "  Assembly: ficus_dhi_s20\n",
      "  [####################] 100%  filtering loci        | 0:00:36 | s7 | \n",
      "  [####################] 100%  building loci/stats   | 0:00:27 | s7 | \n",
      "  [####################] 100%  building alleles      | 0:00:37 | s7 | \n",
      "  [####################] 100%  building vcf file     | 0:00:55 | s7 | \n",
      "  [####################] 100%  writing vcf file      | 0:00:00 | s7 | \n",
      "  [####################] 100%  building arrays       | 0:00:30 | s7 | \n",
      "  [####################] 100%  writing outfiles      | 0:00:27 | s7 | \n",
      "  Outfiles written to: ~/Documents/Ficus/analysis-ipyrad/ficus_dhi_s20_outfiles\n"
     ]
    }
   ],
   "source": [
    "## final min4s, min10s, and min20\n",
    "for assembly in [ficus_dlo, ficus_dhi]:\n",
    "    for minsamp in [4, 10, 20]:\n",
    "        ## new branch names\n",
    "        fullname = assembly.name + \"_f{}\".format(minsamp)\n",
    "        subname = assembly.name + \"_s{}\".format(minsamp)\n",
    "        \n",
    "        ## make new branches with subsampling\n",
    "        fulldata = assembly.branch(fullname, subsamples=fkeep)\n",
    "        subdata = assembly.branch(subname, subsamples=skeep)\n",
    "        \n",
    "        ## set minsamp value\n",
    "        fulldata.set_params(\"min_samples_locus\", minsamp)\n",
    "        subdata.set_params(\"min_samples_locus\", minsamp)\n",
    "        \n",
    "        ## run step7\n",
    "        fulldata.run(\"7\")\n",
    "        subdata.run(\"7\")"
   ]
  },
  {
   "cell_type": "markdown",
   "metadata": {},
   "source": [
    "### Check some final stats"
   ]
  },
  {
   "cell_type": "code",
   "execution_count": 33,
   "metadata": {
    "scrolled": false
   },
   "outputs": [
    {
     "name": "stdout",
     "output_type": "stream",
     "text": [
      "\r\n",
      "\r\n",
      "## The number of loci caught by each filter.\r\n",
      "## ipyrad API location: [assembly].stats_dfs.s7_filters\r\n",
      "\r\n",
      "                            total_filters  applied_order  retained_loci\r\n",
      "total_prefiltered_loci             250234              0         250234\r\n",
      "filtered_by_rm_duplicates            6458           6458         243776\r\n",
      "filtered_by_max_indels               4887           4887         238889\r\n",
      "filtered_by_max_snps                 9954           4454         234435\r\n",
      "filtered_by_max_shared_het          10985           9069         225366\r\n",
      "filtered_by_min_sample             132699         131945          93421\r\n",
      "filtered_by_max_alleles             17038           7317          86104\r\n",
      "total_filtered_loci                 86104              0          86104\r\n",
      "\r\n",
      "\r\n",
      "## The number of loci recovered for each Sample.\r\n",
      "## ipyrad API location: [assembly].stats_dfs.s7_samples\r\n",
      "\r\n",
      "                      sample_coverage\r\n",
      "A01_paraensis                    4709\r\n",
      "A02_paraensis                    9027\r\n",
      "A04_paraensis                   33358\r\n",
      "A05_paraensis                   11921\r\n",
      "A16_citrifolia                   2809\r\n",
      "A18_citrifolia                   2860\r\n",
      "A19_citrifolia                   7264\r\n",
      "A33_nymphaeifolia                3585\r\n",
      "A34_nymphaeifolia                 249\r\n",
      "A41_nymphaeifolia               24073\r\n",
      "A42_nymphaeifolia               32284\r\n",
      "A48_trigonata                    6820\r\n",
      "A49_trigonata                    7227\r\n",
      "A55_triangle                     7578\r\n",
      "A59_dugandii                    28231\r\n",
      "A60_dugandii                     2289\r\n",
      "A61_turbinata                    5593\r\n",
      "A65_pertusa                     34404\r\n",
      "A67_bullenei                    15660\r\n",
      "A69_bullenei                     2343\r\n",
      "A70_bullenei                    11085\r\n",
      "A71_bullenei                     2005\r\n",
      "A72_bullenei                     3708\r\n",
      "A77_colubrinae                  27773\r\n",
      "A82_perforata                   22655\r\n",
      "A83_perforata                   22382\r\n",
      "A84_perforata                   34127\r\n",
      "A85_perforata                   20699\r\n",
      "A87_costaricana                  3125\r\n",
      "A94_maxima                      27514\r\n",
      "A95_insipida                    15990\r\n",
      "A96_glabrata                    31630\r\n",
      "A97_glabrata                    23116\r\n",
      "B102_obtusifolia                33193\r\n",
      "B118_maxima                      2942\r\n",
      "B119_maxima                     26742\r\n",
      "B120_maxima                     29695\r\n",
      "B123_maxima                     22648\r\n",
      "B126_insipida                   35904\r\n",
      "B127_insipida                   27385\r\n",
      "B128_insipida                   35579\r\n",
      "B130_glabrataXmaxima            35495\r\n",
      "B131_glabrataXmaxima            36156\r\n",
      "B133_glabrata                   32823\r\n",
      "B134_glabrata                   35118\r\n",
      "C04_colubrinae                  32020\r\n",
      "C11_costaricana                 32709\r\n",
      "C12_dugandii                     9210\r\n",
      "C14_dugandii                    33631\r\n",
      "C15_insipida                    35105\r\n",
      "C17_maxima                      29734\r\n",
      "C18_maxima                      36576\r\n",
      "C19_nymphaeifolia               32354\r\n",
      "C21_obtusifolia                  3433\r\n",
      "C22_obtusifolia                 34673\r\n",
      "C24_obtusifolia                 32523\r\n",
      "C25_popenoei                    32528\r\n",
      "C26_popenoei                    30708\r\n",
      "C27_popenoei                    18398\r\n",
      "C28_pertusa                     31449\r\n",
      "C30_triangle                    15571\r\n",
      "C31_triangle                    15198\r\n",
      "C36_trigonata                   35036\r\n",
      "C37_trigonata                   34513\r\n",
      "C39_trigonata                   33493\r\n",
      "C41_trigonata                   13542\r\n",
      "C43_trigonata                   34741\r\n",
      "C45_yoponensis                  29750\r\n",
      "C46_yoponensis                  35213\r\n",
      "C47_yoponensis                  35740\r\n",
      "C48_tonduzii                    32862\r\n",
      "C49_dugandii                    29991\r\n",
      "C50_insipida                    36203\r\n",
      "C51_perforata                   31695\r\n",
      "C53_citrifolia                   4318\r\n",
      "C5_colubrinae                   35010\r\n",
      "\r\n",
      "\r\n",
      "## The number of loci for which N taxa have data.\r\n",
      "## ipyrad API location: [assembly].stats_dfs.s7_loci\r\n",
      "\r\n",
      "    locus_coverage  sum_coverage\r\n",
      "1                0             0\r\n",
      "2                0             0\r\n",
      "3                0             0\r\n",
      "4            11887         11887\r\n",
      "5             7632         19519\r\n",
      "6             5250         24769\r\n",
      "7             3751         28520\r\n",
      "8             2800         31320\r\n",
      "9             2237         33557\r\n",
      "10            1919         35476\r\n",
      "11            1754         37230\r\n",
      "12            1560         38790\r\n",
      "13            1552         40342\r\n",
      "14            1500         41842\r\n",
      "15            1574         43416\r\n",
      "16            1799         45215\r\n",
      "17            2033         47248\r\n",
      "18            2320         49568\r\n",
      "19            2631         52199\r\n",
      "20            2425         54624\r\n",
      "21            1888         56512\r\n",
      "22            1250         57762\r\n",
      "23             912         58674\r\n",
      "24             845         59519\r\n",
      "25             854         60373\r\n",
      "26             841         61214\r\n",
      "27             887         62101\r\n",
      "28             916         63017\r\n",
      "29             843         63860\r\n",
      "30             827         64687\r\n",
      "31             788         65475\r\n",
      "32             705         66180\r\n",
      "33             681         66861\r\n",
      "34             665         67526\r\n",
      "35             640         68166\r\n",
      "36             541         68707\r\n",
      "37             533         69240\r\n",
      "38             589         69829\r\n",
      "39             585         70414\r\n",
      "40             635         71049\r\n",
      "41             690         71739\r\n",
      "42             753         72492\r\n",
      "43             775         73267\r\n",
      "44             935         74202\r\n",
      "45            1023         75225\r\n",
      "46            1091         76316\r\n",
      "47            1086         77402\r\n",
      "48            1154         78556\r\n",
      "49            1119         79675\r\n",
      "50            1088         80763\r\n",
      "51            1127         81890\r\n",
      "52             911         82801\r\n",
      "53             840         83641\r\n",
      "54             698         84339\r\n",
      "55             566         84905\r\n",
      "56             411         85316\r\n",
      "57             311         85627\r\n",
      "58             217         85844\r\n",
      "59             124         85968\r\n",
      "60              66         86034\r\n",
      "61              41         86075\r\n",
      "62              15         86090\r\n",
      "63              12         86102\r\n",
      "64               1         86103\r\n",
      "65               1         86104\r\n",
      "66               0         86104\r\n",
      "67               0         86104\r\n",
      "68               0         86104\r\n",
      "69               0         86104\r\n",
      "70               0         86104\r\n",
      "71               0         86104\r\n",
      "72               0         86104\r\n",
      "73               0         86104\r\n",
      "74               0         86104\r\n",
      "75               0         86104\r\n",
      "76               0         86104\r\n",
      "\r\n",
      "\r\n"
     ]
    }
   ],
   "source": [
    "! head -n 180 ./analysis-ipyrad/ficus_dhi_s4_outfiles/ficus_dhi_s4_stats.txt"
   ]
  },
  {
   "cell_type": "code",
   "execution_count": 37,
   "metadata": {
    "scrolled": false
   },
   "outputs": [
    {
     "name": "stdout",
     "output_type": "stream",
     "text": [
      "\r\n",
      "\r\n",
      "## The number of loci caught by each filter.\r\n",
      "## ipyrad API location: [assembly].stats_dfs.s7_filters\r\n",
      "\r\n",
      "                            total_filters  applied_order  retained_loci\r\n",
      "total_prefiltered_loci             301811              0         301811\r\n",
      "filtered_by_rm_duplicates           12031          12031         289780\r\n",
      "filtered_by_max_indels               5165           5165         284615\r\n",
      "filtered_by_max_snps                14799           5918         278697\r\n",
      "filtered_by_max_shared_het          10960           8745         269952\r\n",
      "filtered_by_min_sample             170692         168518         101434\r\n",
      "filtered_by_max_alleles             17052           6960          94474\r\n",
      "total_filtered_loci                 94474              0          94474\r\n",
      "\r\n",
      "\r\n",
      "## The number of loci recovered for each Sample.\r\n",
      "## ipyrad API location: [assembly].stats_dfs.s7_samples\r\n",
      "\r\n",
      "                        sample_coverage\r\n",
      "A01_paraensis                      6133\r\n",
      "A02_paraensis                     11534\r\n",
      "A04_paraensis                     35023\r\n",
      "A05_paraensis                     14597\r\n",
      "A06_obtusifolia                     605\r\n",
      "A07_obtusifolia                     455\r\n",
      "A16_citrifolia                     3664\r\n",
      "A18_citrifolia                     3804\r\n",
      "A19_citrifolia                     9194\r\n",
      "A26_popenoei                        542\r\n",
      "A27_popenoei                        391\r\n",
      "A28_popenoei                        495\r\n",
      "A29_popenoei                        195\r\n",
      "A33_nymphaeifolia                  4610\r\n",
      "A34_nymphaeifolia                   375\r\n",
      "A38_nymphaeifolia                   818\r\n",
      "A41_nymphaeifolia                 27315\r\n",
      "A42_nymphaeifolia                 33879\r\n",
      "A48_trigonata                      8600\r\n",
      "A49_trigonata                      8952\r\n",
      "A55_triangle                       9528\r\n",
      "A59_dugandii                      30943\r\n",
      "A60_dugandii                       3045\r\n",
      "A61_turbinata                      7101\r\n",
      "A62_turbinata                       313\r\n",
      "A63_turbinata                       144\r\n",
      "A65_pertusa                       35730\r\n",
      "A67_bullenei                      18658\r\n",
      "A69_bullenei                       3098\r\n",
      "A70_bullenei                      13800\r\n",
      "A71_bullenei                       2754\r\n",
      "A72_bullenei                       4768\r\n",
      "A75_colubrinae                      827\r\n",
      "A77_colubrinae                    30393\r\n",
      "A82_perforata                     25654\r\n",
      "A83_perforata                     25691\r\n",
      "A84_perforata                     35083\r\n",
      "A85_perforata                     23587\r\n",
      "A87_costaricana                    4064\r\n",
      "A94_maxima                        30387\r\n",
      "A95_insipida                      19263\r\n",
      "A96_glabrata                      34228\r\n",
      "A97_glabrata                      26578\r\n",
      "B102_obtusifolia                  34419\r\n",
      "B103_obtusifolia                   1485\r\n",
      "B118_maxima                        3935\r\n",
      "B119_maxima                       30186\r\n",
      "B120_maxima                       32218\r\n",
      "B123_maxima                       26420\r\n",
      "B126_insipida                     36861\r\n",
      "B127_insipida                     30207\r\n",
      "B128_insipida                     36712\r\n",
      "B130_glabrataXmaxima              37486\r\n",
      "B131_glabrataXmaxima              37064\r\n",
      "B133_glabrata                     34513\r\n",
      "B134_glabrata                     36393\r\n",
      "C01_bullenei                        460\r\n",
      "C02_citrifolia                       11\r\n",
      "C04_colubrinae                    34558\r\n",
      "C09_costaricana                      26\r\n",
      "C11_costaricana                   33770\r\n",
      "C12_dugandii                      11363\r\n",
      "C14_dugandii                      34604\r\n",
      "C15_insipida                      35995\r\n",
      "C17_maxima                        30679\r\n",
      "C18_maxima                        37328\r\n",
      "C19_nymphaeifolia                 33252\r\n",
      "C21_obtusifolia                    4365\r\n",
      "C22_obtusifolia                   35408\r\n",
      "C24_obtusifolia                   34171\r\n",
      "C25_popenoei                      33331\r\n",
      "C26_popenoei                      32015\r\n",
      "C27_popenoei                      21479\r\n",
      "C28_pertusa                       32119\r\n",
      "C30_triangle                      17738\r\n",
      "C31_triangle                      18362\r\n",
      "C32_triangleXtrigonata              215\r\n",
      "C33_triangle                        286\r\n",
      "C34_triangle                         54\r\n",
      "C36_trigonata                     35796\r\n",
      "C37_trigonata                     35531\r\n",
      "C39_trigonata                     34858\r\n",
      "C41_trigonata                     16630\r\n",
      "C43_trigonata                     35561\r\n",
      "C45_yoponensis                    30696\r\n",
      "C46_yoponensis                    35982\r\n",
      "C47_yoponensis                    36405\r\n",
      "C48_tonduzii                      33723\r\n",
      "C49_dugandii                      31698\r\n",
      "C50_insipida                      37261\r\n",
      "C51_perforata                     33538\r\n",
      "C52_citrifolia                       64\r\n",
      "C53_citrifolia                     5357\r\n",
      "C54_citrifolia                      235\r\n",
      "C5_colubrinae                     36321\r\n",
      "\r\n",
      "\r\n",
      "## The number of loci for which N taxa have data.\r\n",
      "## ipyrad API location: [assembly].stats_dfs.s7_loci\r\n",
      "\r\n",
      "    locus_coverage  sum_coverage\r\n",
      "1                0             0\r\n",
      "2                0             0\r\n",
      "3                0             0\r\n",
      "4            14735         14735\r\n",
      "5             9272         24007\r\n",
      "6             6292         30299\r\n",
      "7             4315         34614\r\n",
      "8             3163         37777\r\n",
      "9             2482         40259\r\n",
      "10            2065         42324\r\n",
      "11            1793         44117\r\n",
      "12            1600         45717\r\n",
      "13            1485         47202\r\n",
      "14            1513         48715\r\n",
      "15            1452         50167\r\n",
      "16            1593         51760\r\n",
      "17            1807         53567\r\n",
      "18            2047         55614\r\n",
      "19            2440         58054\r\n",
      "20            2723         60777\r\n",
      "21            2464         63241\r\n",
      "22            1599         64840\r\n",
      "23             950         65790\r\n",
      "24             853         66643\r\n",
      "25             836         67479\r\n",
      "26             798         68277\r\n",
      "27             752         69029\r\n",
      "28             841         69870\r\n",
      "29             869         70739\r\n",
      "30             850         71589\r\n",
      "31             823         72412\r\n",
      "32             765         73177\r\n",
      "33             716         73893\r\n",
      "34             699         74592\r\n",
      "35             635         75227\r\n",
      "36             617         75844\r\n",
      "37             550         76394\r\n",
      "38             529         76923\r\n",
      "39             522         77445\r\n",
      "40             530         77975\r\n",
      "41             561         78536\r\n",
      "42             592         79128\r\n",
      "43             664         79792\r\n",
      "44             745         80537\r\n",
      "45             814         81351\r\n",
      "46             888         82239\r\n",
      "47             956         83195\r\n",
      "48            1035         84230\r\n",
      "49            1068         85298\r\n",
      "50            1134         86432\r\n",
      "51            1117         87549\r\n",
      "52            1140         88689\r\n",
      "53            1096         89785\r\n",
      "54             979         90764\r\n",
      "55             908         91672\r\n",
      "56             774         92446\r\n",
      "57             593         93039\r\n",
      "58             480         93519\r\n",
      "59             371         93890\r\n",
      "60             242         94132\r\n",
      "61             157         94289\r\n",
      "62              87         94376\r\n",
      "63              50         94426\r\n",
      "64              34         94460\r\n",
      "65               7         94467\r\n",
      "66               5         94472\r\n",
      "67               1         94473\r\n",
      "68               1         94474\r\n",
      "69               0         94474\r\n",
      "70               0         94474\r\n",
      "71               0         94474\r\n",
      "72               0         94474\r\n",
      "73               0         94474\r\n",
      "74               0         94474\r\n",
      "75               0         94474\r\n",
      "76               0         94474\r\n",
      "77               0         94474\r\n",
      "78               0         94474\r\n",
      "79               0         94474\r\n"
     ]
    }
   ],
   "source": [
    "! head -n 200 ./analysis-ipyrad/ficus_dlo_f4_outfiles/ficus_dlo_f4_stats.txt"
   ]
  }
 ],
 "metadata": {
  "kernelspec": {
   "display_name": "Python 2",
   "language": "python",
   "name": "python2"
  },
  "language_info": {
   "codemirror_mode": {
    "name": "ipython",
    "version": 2
   },
   "file_extension": ".py",
   "mimetype": "text/x-python",
   "name": "python",
   "nbconvert_exporter": "python",
   "pygments_lexer": "ipython2",
   "version": "2.7.13"
  }
 },
 "nbformat": 4,
 "nbformat_minor": 1
}
