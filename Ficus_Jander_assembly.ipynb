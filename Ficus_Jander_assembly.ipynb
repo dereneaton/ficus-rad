{
 "cells": [
  {
   "cell_type": "markdown",
   "metadata": {},
   "source": [
    "# Assembly and analysis of Ficus RAD-seq data\n",
    "\n",
    "A library for 96 samples was prepared by Floragenex with the PstI restriction enzyme, followed by sonication and size selection. Stats reported by Floragenex include: AverageFragmentSize=386bp, Concentration=2.51ng/uL, Concentation=10nM. The library was sequenced on two lanes of Illumina HiSeq 3000 yielding 378,809,976 reads in lane 1, and 375,813,513 reads in lane 2, for a total of ~755M reads.  "
   ]
  },
  {
   "cell_type": "markdown",
   "metadata": {},
   "source": [
    "### _de novo_ assembly with ipyrad\n",
    "This notebook provides a fully reproducible workflow to assemble this data set with ipyrad. Starting from the raw data files, we demultiplex and filter reads, then cluster within samples to identify homology. Next we call consensus sequences and then cluster across samples to identify orthologs. Finally we apply more filters to remove paralogs and poor alignments, and create output files. "
   ]
  },
  {
   "cell_type": "code",
   "execution_count": 1,
   "metadata": {
    "collapsed": false
   },
   "outputs": [
    {
     "name": "stdout",
     "output_type": "stream",
     "text": [
      "ipyrad v.0.4.2\n"
     ]
    }
   ],
   "source": [
    "import ipyrad as ip\n",
    "print 'ipyrad v.{}'.format(ip.__version__)"
   ]
  },
  {
   "cell_type": "markdown",
   "metadata": {},
   "source": [
    "### The raw data\n",
    "The data came to us as two large 20GB files. The barcodes file was provided by Floragenex and maps sample names to barcodes that are contained inline in the sequences, and are 10bp in length. The barcodes are printed a little further below. I ran the program *fastQC* on the raw data files to do a quality check, the results of which are available here [lane1-fastqc](link) and here [lane2-fastqc](link). Overall, quality scores were very high and there was little (but some) adapter contamination, which we will filter out in the ipyrad analysis. "
   ]
  },
  {
   "cell_type": "code",
   "execution_count": 2,
   "metadata": {
    "collapsed": true
   },
   "outputs": [],
   "source": [
    "## Locations of the raw data and barcodes file\n",
    "lane1data = \"~/Documents/RADSEQ_DATA/Ficus/Ficus-1_S1_L001_R1_001.fastq.gz\"\n",
    "lane2data = \"~/Documents/RADSEQ_DATA/Ficus/Ficus-2_S2_L002_R1_001.fastq.gz\"\n",
    "barcodes = \"~/Documents/RADSEQ_DATA/barcodes/Ficus_Jander_2016_95barcodes.txt\"\n"
   ]
  },
  {
   "cell_type": "markdown",
   "metadata": {},
   "source": [
    "### Create Assembly object for each demultiplexed lane in *ipyrad*\n",
    "We set the location to the data and barcodes info for each object, and set the max barcode mismatch parameter to zero (strict), allowing no mismatches. "
   ]
  },
  {
   "cell_type": "code",
   "execution_count": 3,
   "metadata": {
    "collapsed": false
   },
   "outputs": [
    {
     "name": "stdout",
     "output_type": "stream",
     "text": [
      "  New Assembly: ficus_demux-lane1\n",
      "  New Assembly: ficus_demux-lane2\n"
     ]
    }
   ],
   "source": [
    "## create an object to demultiplex each lane\n",
    "demux1 = ip.Assembly(\"ficus_demux-lane1\")\n",
    "demux2 = ip.Assembly(\"ficus_demux-lane2\")\n",
    "\n",
    "## set basic derep parameters for the two objects\n",
    "demux1.set_params(\"project_dir\", \"./demux_reads\")\n",
    "demux1.set_params(\"raw_fastq_path\", lane1data)\n",
    "demux1.set_params(\"barcodes_path\", barcodes)\n",
    "demux1.set_params(\"max_barcode_mismatch\", 0)\n",
    "\n",
    "demux2.set_params(\"project_dir\", \"./demux_reads\")\n",
    "demux2.set_params(\"raw_fastq_path\", lane2data)\n",
    "demux2.set_params(\"barcodes_path\", barcodes)\n",
    "demux2.set_params(\"max_barcode_mismatch\", 0)"
   ]
  },
  {
   "cell_type": "markdown",
   "metadata": {},
   "source": [
    "This is not required, but for prosperity's sake we'll print the barcodes here to make the info readily available."
   ]
  },
  {
   "cell_type": "code",
   "execution_count": 4,
   "metadata": {
    "collapsed": false
   },
   "outputs": [
    {
     "name": "stdout",
     "output_type": "stream",
     "text": [
      "\n",
      "Barcodes info:\n",
      "A01_paraensis   \tGTATATCCAC\n",
      "A02_paraensis   \tCGTACCTTGC\n",
      "A04_paraensis   \tTATCGCGGAG\n",
      "A05_paraensis   \tCATGCATACT\n",
      "A06_obtusifolia \tTTGATGGTGC\n",
      "A07_obtusifolia \tCAACATGAAG\n",
      "A16_citrifolia  \tGTTGCTAGAC\n",
      "A18_citrifolia  \tAATAGATTCA\n",
      "A19_citrifolia  \tAGCTGATACA\n",
      "A26_popenoei    \tCGGTCGTTAC\n",
      "A27_popenoei    \tGACGGACAGG\n",
      "A28_popenoei    \tATTGCCACCG\n",
      "A29_popenoei    \tCAGAACCAGC\n",
      "A33_nymphaeifolia\tACTTGACCGG\n",
      "A34_nymphaeifolia\tAATGGTGACT\n",
      "A38_nymphaeifolia\tCTAACAGTAT\n",
      "A41_nymphaeifolia\tTCATAGGCTA\n",
      "A42_nymphaeifolia\tGCTGCACGGT\n",
      "A48_trigonata   \tAAGACCAATC\n",
      "A49_trigonata   \tACTGCCTCAA\n",
      "A55_triangle    \tCTTACCGGAG\n",
      "A59_dugandii    \tAGTTCCATTG\n",
      "A60_dugandii    \tTTCTTGCGCT\n",
      "A61_turbinata   \tCAAGAGACGT\n",
      "A62_turbinata   \tGCACGTCTCC\n",
      "A63_turbinata   \tGTGCTCTCTA\n",
      "A65_pertusa     \tAGACGAATAG\n",
      "A67_bullenei    \tTCCGGAGCGC\n",
      "A69_bullenei    \tCTAACACGGC\n",
      "A70_bullenei    \tAGCTTCGATT\n",
      "A71_bullenei    \tTCGCCGCAAT\n",
      "A72_bullenei    \tTCAGTTCCGG\n",
      "A75_colubrinae  \tGCTGTGCAGA\n",
      "A77_colubrinae  \tCAAGCCGGTT\n",
      "A82_perforata   \tTCACTGAGAA\n",
      "A83_perforata   \tATCCATAAGA\n",
      "A84_perforata   \tCTGTTAGATT\n",
      "A85_perforata   \tTAACTGGTAC\n",
      "A87_costaricana \tGCAATATACA\n",
      "A94_maxima      \tATCCGTCTAC\n",
      "A95_insipida    \tTAGTGCGGTC\n",
      "A96_glabrata    \tGAGATATGGT\n",
      "A97_glabrata    \tCTCCTTGGAG\n",
      "B102_obtusifolia\tCGCTTCTCTG\n",
      "B103_obtusifolia\tCTCATTAACC\n",
      "B118_maxima     \tTTATCCGTAG\n",
      "B119_maxima     \tCGCTATACGG\n",
      "B120_maxima     \tCACGCAACGA\n",
      "B123_maxima     \tTGTCCTAGGA\n",
      "B126_insipida   \tACATCAATAT\n",
      "B127_insipida   \tCCTCTTATCA\n",
      "B128_insipida   \tTATCGTTAGT\n",
      "B130_glabrataXmaxima\tTTCTGGAATA\n",
      "B131_glabrataXmaxima\tACGCAACACA\n",
      "B133_glabrata   \tGTGTCTCTTG\n",
      "B134_glabrata   \tTGCAGTTATC\n",
      "C01_bullenei    \tCGGAAGTGAG\n",
      "C02_citrifolia  \tATCAGTAGAA\n",
      "C04_colubrinae  \tTTGCGCAAGC\n",
      "C09_costaricana \tAAGAATTCGG\n",
      "C11_costaricana \tTCGGCAGTCG\n",
      "C12_dugandii    \tAGCAATCTAA\n",
      "C14_dugandii    \tGAATTGTCGC\n",
      "C15_insipida    \tGGCCGGTAAC\n",
      "C17_maxima      \tGGACTCACGG\n",
      "C18_maxima      \tGCGTCCTGCC\n",
      "C19_nymphaeifolia\tGCCGCAATGC\n",
      "C21_obtusifolia \tATGAAGGCAG\n",
      "C22_obtusifolia \tGATGGACTAA\n",
      "C24_obtusifolia \tGCATGGAGGT\n",
      "C25_popenoei    \tCGCGCGGCTG\n",
      "C26_popenoei    \tGCATGAGGCG\n",
      "C27_popenoei    \tTGACGGTGAT\n",
      "C28_pertusa     \tGGTCATTGTA\n",
      "C30_triangle    \tACACACATCA\n",
      "C31_triangle    \tTGTTGTCCGC\n",
      "C32_triangleXtrigonata\tATCCGCGACG\n",
      "C33_triangle    \tAAGTCGAGTA\n",
      "C34_triangle    \tCCAATCAAGA\n",
      "C36_trigonata   \tTGAGCCAGCT\n",
      "C37_trigonata   \tTCTAGAGAAG\n",
      "C39_trigonata   \tGCCGAGGTGA\n",
      "C41_trigonata   \tGGTGAGTCGG\n",
      "C43_trigonata   \tCTTATTCTAC\n",
      "C45_yoponensis  \tGCGTCAGATG\n",
      "C46_yoponensis  \tAATGAATCAG\n",
      "C47_yoponensis  \tATTAGGAGGC\n",
      "C48_tonduzii    \tTTCTTCAGAC\n",
      "C49_dugandii    \tCTTCGACATA\n",
      "C50_insipida    \tAGGAACCTCG\n",
      "C51_perforata   \tGCCGGTGATT\n",
      "C52_citrifolia  \tTCGTCTTAGT\n",
      "C53_citrifolia  \tGCTCAGCCAG\n",
      "C54_citrifolia  \tCGGCTACTTC\n",
      "C5_colubrinae   \tTACGATGGAG\n",
      "FGXCONTROL      \tCGCACTTGAT\n"
     ]
    }
   ],
   "source": [
    "## Link the barcodes to Samples and print the barcodes info\n",
    "demux1._link_barcodes()\n",
    "\n",
    "print \"\\nBarcodes info:\"\n",
    "for bar in sorted(demux1.barcodes):\n",
    "    print \"{:<16}\\t{}\".format(bar, demux1.barcodes[bar])"
   ]
  },
  {
   "cell_type": "markdown",
   "metadata": {},
   "source": [
    "### Run demultiplexing (step 1 of ipyrad) on both assemblies\n",
    "I'm running this on a workstation, but it would run much faster on an HPC setup that has parallel I/O write abilities. "
   ]
  },
  {
   "cell_type": "code",
   "execution_count": 5,
   "metadata": {
    "collapsed": false
   },
   "outputs": [
    {
     "name": "stdout",
     "output_type": "stream",
     "text": [
      "\n",
      "  Assembly: ficus_demux-lane1\n",
      "  [####################] 100%  chunking large files  | 0:24:18 | s1 | \n",
      "  [####################] 100%  sorting reads         | 0:40:09 | s1 | \n",
      "  [####################] 100%  writing/compressing   | 0:32:14 | s1 | \n",
      "\n",
      "  Assembly: ficus_demux-lane2\n",
      "  [####################] 100%  chunking large files  | 0:25:14 | s1 | \n",
      "  [####################] 100%  sorting reads         | 0:37:18 | s1 | \n",
      "  [####################] 100%  writing/compressing   | 0:34:58 | s1 | \n"
     ]
    }
   ],
   "source": [
    "## Now run demultiplexing for both assemblies\n",
    "demux1.run(\"1\")\n",
    "demux2.run(\"1\")"
   ]
  },
  {
   "cell_type": "markdown",
   "metadata": {},
   "source": [
    "### The demultiplexed data\n",
    "Now we have two directories with demultiplexed data, each with one gzipped fastq file corresponding to all of the reads matching to a particular Sample's barcode from that lane of sequencing. These are the data that we would typically upload to Genbank SRA when we publish. So below we'll set up our analysis as if we were starting from having just received these demultiplexed fastq files. Below a print some stats for how many reads matched to each Sample. It was pretty consistent between the two lanes of sequencing, and highly variable among Samples within each lane. This almost certainly has to do with the different quantity and quality of DNAs that we extracted. "
   ]
  },
  {
   "cell_type": "code",
   "execution_count": 6,
   "metadata": {
    "collapsed": false
   },
   "outputs": [
    {
     "name": "stdout",
     "output_type": "stream",
     "text": [
      "                        state  reads_raw\n",
      "A01_paraensis               1     317609\n",
      "A02_paraensis               1     477846\n",
      "A04_paraensis               1    4860262\n",
      "A05_paraensis               1     389527\n",
      "A06_obtusifolia             1      69225\n",
      "A07_obtusifolia             1      91014\n",
      "A16_citrifolia              1     134536\n",
      "A18_citrifolia              1     134654\n",
      "A19_citrifolia              1     299331\n",
      "A26_popenoei                1      74080\n",
      "A27_popenoei                1     155366\n",
      "A28_popenoei                1      57880\n",
      "A29_popenoei                1      35892\n",
      "A33_nymphaeifolia           1     354173\n",
      "A34_nymphaeifolia           1     136369\n",
      "A38_nymphaeifolia           1      74130\n",
      "A41_nymphaeifolia           1    1314958\n",
      "A42_nymphaeifolia           1    2905899\n",
      "A48_trigonata               1    1799963\n",
      "A49_trigonata               1     247619\n",
      "A55_triangle                1     394126\n",
      "A59_dugandii                1    1382146\n",
      "A60_dugandii                1      88436\n",
      "A61_turbinata               1     492716\n",
      "A62_turbinata               1     210954\n",
      "A63_turbinata               1      61174\n",
      "A65_pertusa                 1    6868027\n",
      "A67_bullenei                1     666177\n",
      "A69_bullenei                1     154407\n",
      "A70_bullenei                1     377401\n",
      "A71_bullenei                1     136025\n",
      "A72_bullenei                1     146785\n",
      "A75_colubrinae              1      99077\n",
      "A77_colubrinae              1    1383436\n",
      "A82_perforata               1    1268368\n",
      "A83_perforata               1     946184\n",
      "A84_perforata               1    4970289\n",
      "A85_perforata               1     792335\n",
      "A87_costaricana             1     139805\n",
      "A94_maxima                  1    1042460\n",
      "A95_insipida                1     502625\n",
      "A96_glabrata                1    3625682\n",
      "A97_glabrata                1    2447949\n",
      "B102_obtusifolia            1    3361627\n",
      "B103_obtusifolia            1     135920\n",
      "B118_maxima                 1     230984\n",
      "B119_maxima                 1    1028096\n",
      "B120_maxima                 1    1155902\n",
      "B123_maxima                 1     775537\n",
      "B126_insipida               1    3954912\n",
      "B127_insipida               1    1007004\n",
      "B128_insipida               1    3018471\n",
      "B130_glabrataXmaxima        1    2034534\n",
      "B131_glabrataXmaxima        1    4465802\n",
      "B133_glabrata               1    2112877\n",
      "B134_glabrata               1    3562723\n",
      "C01_bullenei                1      52866\n",
      "C02_citrifolia              1      12905\n",
      "C04_colubrinae              1    2277817\n",
      "C09_costaricana             1      36191\n",
      "C11_costaricana             1    3731476\n",
      "C12_dugandii                1     277744\n",
      "C14_dugandii                1    4315278\n",
      "C15_insipida                1    3465304\n",
      "C17_maxima                  1   12045960\n",
      "C18_maxima                  1    7854323\n",
      "C19_nymphaeifolia           1    4572251\n",
      "C21_obtusifolia             1     145803\n",
      "C22_obtusifolia             1    6190389\n",
      "C24_obtusifolia             1    4532657\n",
      "C25_popenoei                1    7351925\n",
      "C26_popenoei                1    2667412\n",
      "C27_popenoei                1     750501\n",
      "C28_pertusa                 1    9977375\n",
      "C30_triangle                1   25648669\n",
      "C31_triangle                1     613283\n",
      "C32_triangleXtrigonata      1      63952\n",
      "C33_triangle                1      44392\n",
      "C34_triangle                1      39358\n",
      "C36_trigonata               1    6027319\n",
      "C37_trigonata               1    4087873\n",
      "C39_trigonata               1    3240191\n",
      "C41_trigonata               1     440413\n",
      "C43_trigonata               1    4731461\n",
      "C45_yoponensis              1   12660646\n",
      "C46_yoponensis              1    8623965\n",
      "C47_yoponensis              1    5097406\n",
      "C48_tonduzii                1   10416768\n",
      "C49_dugandii                1    2154741\n",
      "C50_insipida                1    3674571\n",
      "C51_perforata               1   12207311\n",
      "C52_citrifolia              1       7430\n",
      "C53_citrifolia              1     175534\n",
      "C54_citrifolia              1      34557\n",
      "C5_colubrinae               1    5519900\n",
      "FGXCONTROL                  1   12601760\n"
     ]
    }
   ],
   "source": [
    "print demux1.stats"
   ]
  },
  {
   "cell_type": "markdown",
   "metadata": {},
   "source": [
    "### Create our first assembly object\n",
    "We will join these two demultiplexed libraries into a single analysis that has the set of parameters we will use to assemble the data set. \n"
   ]
  },
  {
   "cell_type": "code",
   "execution_count": 7,
   "metadata": {
    "collapsed": false
   },
   "outputs": [
    {
     "name": "stdout",
     "output_type": "stream",
     "text": [
      "  0   assembly_name               ficus_c85d6f2                                \n",
      "  1   project_dir                 ./analysis_ipyrad                            \n",
      "  2   raw_fastq_path              /home/deren/Documents/RADSEQ_DATA/Ficus/Ficus-1_S1_L001_R1_001.fastq.gz\n",
      "  3   barcodes_path               /home/deren/Documents/RADSEQ_DATA/barcodes/Ficus_Jander_2016_95barcodes.txt\n",
      "  4   sorted_fastq_path                                                        \n",
      "  5   assembly_method             denovo                                       \n",
      "  6   reference_sequence                                                       \n",
      "  7   datatype                    rad                                          \n",
      "  8   restriction_overhang        ('TGCAG', '')                                \n",
      "  9   max_low_qual_bases          5                                            \n",
      "  10  phred_Qscore_offset         33                                           \n",
      "  11  mindepth_statistical        6                                            \n",
      "  12  mindepth_majrule            6                                            \n",
      "  13  maxdepth                    10000                                        \n",
      "  14  clust_threshold             0.85                                         \n",
      "  15  max_barcode_mismatch        0                                            \n",
      "  16  filter_adapters             2                                            \n",
      "  17  filter_min_trim_len         35                                           \n",
      "  18  max_alleles_consens         2                                            \n",
      "  19  max_Ns_consens              (5, 5)                                       \n",
      "  20  max_Hs_consens              (5, 5)                                       \n",
      "  21  min_samples_locus           4                                            \n",
      "  22  max_SNPs_locus              (20, 20)                                     \n",
      "  23  max_Indels_locus            (8, 8)                                       \n",
      "  24  max_shared_Hs_locus         4                                            \n",
      "  25  edit_cutsites               (0, 0)                                       \n",
      "  26  trim_overhang               (0, 8, 0, 0)                                 \n",
      "  27  output_formats              *                                            \n",
      "  28  pop_assign_file                                                          \n"
     ]
    }
   ],
   "source": [
    "## named corresponding to some params we are changing\n",
    "data = ip.merge(\"ficus_c85d6f2\", [demux1, demux2])\n",
    "\n",
    "## set several non-default parameters\n",
    "data.set_params(\"project_dir\", \"analysis_ipyrad\")\n",
    "data.set_params(\"filter_adapters\", 2)\n",
    "data.set_params(\"trim_overhang\", (0, 8, 0, 0))\n",
    "data.set_params(\"max_Hs_consens\", (5, 5))\n",
    "data.set_params(\"max_shared_Hs_locus\", 4)\n",
    "\n",
    "## print parameters for prosperity's sake\n",
    "data.get_params()"
   ]
  },
  {
   "cell_type": "markdown",
   "metadata": {},
   "source": [
    "### Total reads for each Sample from the two combined libraries?\n",
    "As you can see it's quite variable. "
   ]
  },
  {
   "cell_type": "code",
   "execution_count": 8,
   "metadata": {
    "collapsed": false
   },
   "outputs": [
    {
     "name": "stdout",
     "output_type": "stream",
     "text": [
      "                        state  reads_raw\n",
      "A01_paraensis               1     634119\n",
      "A02_paraensis               1     956254\n",
      "A04_paraensis               1    9708308\n",
      "A05_paraensis               1     776829\n",
      "A06_obtusifolia             1     136685\n",
      "A07_obtusifolia             1     178331\n",
      "A16_citrifolia              1     268947\n",
      "A18_citrifolia              1     267657\n",
      "A19_citrifolia              1     597157\n",
      "A26_popenoei                1     146893\n",
      "A27_popenoei                1     302250\n",
      "A28_popenoei                1     113199\n",
      "A29_popenoei                1      69802\n",
      "A33_nymphaeifolia           1     702301\n",
      "A34_nymphaeifolia           1     270651\n",
      "A38_nymphaeifolia           1     147323\n",
      "A41_nymphaeifolia           1    2628475\n",
      "A42_nymphaeifolia           1    5812916\n",
      "A48_trigonata               1    3593575\n",
      "A49_trigonata               1     494929\n",
      "A55_triangle                1     779208\n",
      "A59_dugandii                1    2758710\n",
      "A60_dugandii                1     175714\n",
      "A61_turbinata               1     979970\n",
      "A62_turbinata               1     404775\n",
      "A63_turbinata               1     119859\n",
      "A65_pertusa                 1   13729237\n",
      "A67_bullenei                1    1325324\n",
      "A69_bullenei                1     306117\n",
      "A70_bullenei                1     753904\n",
      "A71_bullenei                1     269844\n",
      "A72_bullenei                1     290562\n",
      "A75_colubrinae              1     193143\n",
      "A77_colubrinae              1    2767013\n",
      "A82_perforata               1    2531105\n",
      "A83_perforata               1    1890328\n",
      "A84_perforata               1    9943287\n",
      "A85_perforata               1    1585941\n",
      "A87_costaricana             1     277898\n",
      "A94_maxima                  1    2082861\n",
      "A95_insipida                1    1003795\n",
      "A96_glabrata                1    7244559\n",
      "A97_glabrata                1    4887963\n",
      "B102_obtusifolia            1    6723057\n",
      "B103_obtusifolia            1     266637\n",
      "B118_maxima                 1     456149\n",
      "B119_maxima                 1    2054747\n",
      "B120_maxima                 1    2311959\n",
      "B123_maxima                 1    1547830\n",
      "B126_insipida               1    7909847\n",
      "B127_insipida               1    2017468\n",
      "B128_insipida               1    6030721\n",
      "B130_glabrataXmaxima        1    4060762\n",
      "B131_glabrataXmaxima        1    8932395\n",
      "B133_glabrata               1    4214450\n",
      "B134_glabrata               1    7119332\n",
      "C01_bullenei                1     103795\n",
      "C02_citrifolia              1      25250\n",
      "C04_colubrinae              1    4551523\n",
      "C09_costaricana             1      70165\n",
      "C11_costaricana             1    7457418\n",
      "C12_dugandii                1     555172\n",
      "C14_dugandii                1    8637509\n",
      "C15_insipida                1    6928368\n",
      "C17_maxima                  1   24089307\n",
      "C18_maxima                  1   15711473\n",
      "C19_nymphaeifolia           1    9133530\n",
      "C21_obtusifolia             1     288520\n",
      "C22_obtusifolia             1   12382687\n",
      "C24_obtusifolia             1    9062299\n",
      "C25_popenoei                1   14708880\n",
      "C26_popenoei                1    5315849\n",
      "C27_popenoei                1    1487005\n",
      "C28_pertusa                 1   19960612\n",
      "C30_triangle                1   51339646\n",
      "C31_triangle                1    1209650\n",
      "C32_triangleXtrigonata      1     125563\n",
      "C33_triangle                1      87387\n",
      "C34_triangle                1      76985\n",
      "C36_trigonata               1   12049926\n",
      "C37_trigonata               1    8168226\n",
      "C39_trigonata               1    6475335\n",
      "C41_trigonata               1     875787\n",
      "C43_trigonata               1    9473156\n",
      "C45_yoponensis              1   25289469\n",
      "C46_yoponensis              1   17247374\n",
      "C47_yoponensis              1   10196819\n",
      "C48_tonduzii                1   20840966\n",
      "C49_dugandii                1    4308922\n",
      "C50_insipida                1    7347462\n",
      "C51_perforata               1   24412618\n",
      "C52_citrifolia              1      14703\n",
      "C53_citrifolia              1     348806\n",
      "C54_citrifolia              1      68002\n",
      "C5_colubrinae               1   11032477\n",
      "FGXCONTROL                  1   25241727\n"
     ]
    }
   ],
   "source": [
    "print data.stats"
   ]
  },
  {
   "cell_type": "markdown",
   "metadata": {},
   "source": [
    "### Filtering options\n",
    "From looking closely at the data it appears there is a lot of poor quality reads with adapter contamination and long strings of poly repeats. It turns out our sequencing facility did not perform a qPCR before sequencing, which almost surely affected the resulting quantity due to overdispersion of the clusters. However, all hope is not lost, we can filter most of this junk out pretty well. Setting the filter parameter in ipyrad to strict (2) uses 'cutadapt' to filter the reads. By default ipyrad would look just for the Illumina common adapter (printed below), but since this is an extreme case I'm adding the primer sequence to the end of the adapter to do a more strict search. This primer can vary depending on your library prep, the sequence here was found from simply looking at the raw sequence data. I'm also telling it to trim poly-T repeats of 12 or more, since this appears common to the data set. "
   ]
  },
  {
   "cell_type": "code",
   "execution_count": 9,
   "metadata": {
    "collapsed": false
   },
   "outputs": [
    {
     "name": "stdout",
     "output_type": "stream",
     "text": [
      "standard check is for OrderedDict([('random_seed', 42), ('max_fragment_length', 50), ('max_inner_mate_distance', 60), ('p5_adapter', 'AGATCGGAAGAGC'), ('p3_adapter', 'AGATCGGAAGAGC'), ('p3_adapters_extra', []), ('p5_adapters_extra', []), ('preview_step1', 4000000), ('preview_step2', 100000), ('output_loci_name_buffer', 5), ('query_cov', None), ('smalt_index_wordlen', 8)])\n",
      "trimming sequences:\n",
      "AGATCGGAAGAGCGGTTCAGCAGGAATGCCGAGACCGAACTCGTATGCCGTCTTCTGCTTG\n",
      "['TTTTTTTTTTTT']\n"
     ]
    }
   ],
   "source": [
    "## print the standard adapter checked in ipyrad\n",
    "print \"standard check is for\", data._hackersonly\n",
    "\n",
    "## store full illumina common Illumina adapter+primer \n",
    "## this will be searched for and trimmed from reads\n",
    "data._hackersonly[\"p3_adapter\"] = \\\n",
    "    \"AGATCGGAAGAGCGGTTCAGCAGGAATGCCGAGACCGAACTCGTATGCCGTCTTCTGCTTG\" \n",
    "\n",
    "## also trim poly-T repeats, which appear common in this data set.\n",
    "## This will be a little overzealous in trimming terminal Ts, but \n",
    "## it's probably good to start out overly conservative w/ filtering.\n",
    "data._hackersonly[\"p3_adapters_extra\"] = [\"TTTTTTTTTTTT\"]\n",
    "    \n",
    "## print our new more strict adapter and seq to be trimmed\n",
    "print \"trimming sequences:\"\n",
    "print data._hackersonly[\"p3_adapter\"]\n",
    "print data._hackersonly[\"p3_adapters_extra\"]"
   ]
  },
  {
   "cell_type": "markdown",
   "metadata": {},
   "source": [
    "### Now run ipyrad steps 2-5 to get consensus reads for each Sample\n",
    "We'll look more closely at the stats for each step after it's finished. "
   ]
  },
  {
   "cell_type": "code",
   "execution_count": 10,
   "metadata": {
    "collapsed": false
   },
   "outputs": [
    {
     "name": "stdout",
     "output_type": "stream",
     "text": [
      "\n",
      "  Assembly: ficus_c85d6f2\n",
      "  [####################] 100%  concatenating inputs  | 0:05:46 | s2 | \n",
      "  [####################] 100%  processing reads      | 0:46:19 | s2 | \n",
      "  [####################] 100%  dereplicating         | 0:03:35 | s3 | \n",
      "  [####################] 100%  clustering            | 0:24:06 | s3 | \n",
      "  [####################] 100%  building clusters     | 0:00:55 | s3 | \n",
      "  [####################] 100%  chunking              | 0:00:03 | s3 | \n",
      "  [####################] 100%  aligning              | 0:56:40 | s3 | \n",
      "  [####################] 100%  concatenating         | 0:00:08 | s3 | \n",
      "  [####################] 100%  inferring [H, E]      | 1:55:03 | s4 | \n",
      "  [####################] 100%  consensus calling     | 0:31:48 | s5 | \n"
     ]
    }
   ],
   "source": [
    "## run steps 2-5\n",
    "data.run(\"2345\")"
   ]
  },
  {
   "cell_type": "markdown",
   "metadata": {},
   "source": [
    "### Branch to remove the low data samples and FGX Control Sample\n",
    "We have several Samples that recovered very little data, probably as a result of having low quality DNA extractions. Figs are hard. We'll assemble one data set that includes all of these samples (data1) but since they are likely to have little information we'll assemble most of our data sets with these low data samples excluded. We'll also exclude the Floragenex control sample, since that is just a quality check sample (I checked it, it looks like the rest). To exclude samples we need to create a new named branch. The idea behind this is that it keeps a record of the old assembly in case we want to go back to before we excluded these samples. "
   ]
  },
  {
   "cell_type": "code",
   "execution_count": 11,
   "metadata": {
    "collapsed": false
   },
   "outputs": [
    {
     "name": "stdout",
     "output_type": "stream",
     "text": [
      "full data set has 96 samples\n",
      "sub1 data set has 91 samples\n",
      "\n",
      "the following samples were dropped:\n",
      "  -C02_citrifolia \t32\n",
      "  -C09_costaricana\t126\n",
      "  -C52_citrifolia \t173\n",
      "  -FGXCONTROL     \t6151\n",
      "  -C34_triangle   \t229\n"
     ]
    }
   ],
   "source": [
    "## set a minimum value to exclude samples\n",
    "minconsens = 500\n",
    "\n",
    "## find which Samples have low data\n",
    "lowdata = set(data.stats.index[data.stats.reads_consens < minconsens])\n",
    "\n",
    "## make list of which Samples we should keep\n",
    "keep = list(set(data.samples.keys()) - lowdata - set([\"FGXCONTROL\"]))\n",
    "\n",
    "## branch and supply the keep list as an arg\n",
    "sub1 = data.branch(\"ficus_c85d6f2_min4\", keep)\n",
    "\n",
    "## print how many taxa were excluded?\n",
    "print \"full data set has {} samples\".format(len(data.samples))\n",
    "print \"sub1 data set has {} samples\".format(len(sub1.samples))\n",
    "print \"\\nthe following samples were dropped:\"\n",
    "for sample in data.samples:\n",
    "    if sample not in sub1.samples:\n",
    "        nconsens = data.samples[sample].stats.reads_consens\n",
    "        print \"  -{:<15}\\t{}\".format(sample, int(nconsens))"
   ]
  },
  {
   "cell_type": "markdown",
   "metadata": {},
   "source": [
    "### Now we'll cluster consensus reads across Samples\n",
    "We'll cluster the data set with and without the low data samples included, just so we can check how poorly the bad samples turn out. But we'll almost certainly want to exclude them, so we'll focus most of our results on the 'data2' Assembly, and its subsequent branches below, which have low data Samples removed. \n"
   ]
  },
  {
   "cell_type": "code",
   "execution_count": 12,
   "metadata": {
    "collapsed": false
   },
   "outputs": [
    {
     "name": "stdout",
     "output_type": "stream",
     "text": [
      "\n",
      "  Assembly: ficus_c85d6f2_min4\n",
      "  [####################] 100%  concat/shuffle input  | 0:00:43 | s6 | \n",
      "  [####################] 100%  clustering across     | 2:51:57 | s6 | \n",
      "  [####################] 100%  building clusters     | 0:00:37 | s6 | \n",
      "  [####################] 100%  aligning clusters     | 0:06:30 | s6 | \n",
      "  [####################] 100%  database indels       | 0:03:30 | s6 | \n",
      "  [####################] 100%  indexing clusters     | 0:09:17 | s6 | \n",
      "  [####################] 100%  building database     | 0:34:26 | s6 | \n"
     ]
    }
   ],
   "source": [
    "#data.run(\"6\")\n",
    "sub1.run(\"6\")"
   ]
  },
  {
   "cell_type": "markdown",
   "metadata": {},
   "source": [
    "### Create additional branches with different minSamp param settings"
   ]
  },
  {
   "cell_type": "code",
   "execution_count": 13,
   "metadata": {
    "collapsed": true
   },
   "outputs": [],
   "source": [
    "sub2 = sub1.branch(\"ficus_c85d6f2_min10\")\n",
    "sub2.set_params(\"min_samples_locus\", 10)\n",
    "\n",
    "sub3 = sub2.branch(\"ficus_c85d6f2_min20\")\n",
    "sub3.set_params(\"min_samples_locus\", 20)"
   ]
  },
  {
   "cell_type": "markdown",
   "metadata": {},
   "source": [
    "### Finish assembly of data sets"
   ]
  },
  {
   "cell_type": "code",
   "execution_count": 14,
   "metadata": {
    "collapsed": false
   },
   "outputs": [
    {
     "name": "stdout",
     "output_type": "stream",
     "text": [
      "\n",
      "  Assembly: ficus_c85d6f2_min4\n",
      "  [####################] 100%  filtering loci        | 0:00:15 | s7 | \n",
      "  [####################] 100%  building loci/stats   | 0:00:08 | s7 | \n",
      "  [####################] 100%  building vcf file     | 0:02:38 | s7 | \n",
      "  [####################] 100%  writing vcf file      | 0:00:01 | s7 | \n",
      "  [####################] 100%  writing outfiles      | 0:00:59 | s7 | \n",
      "  Outfiles written to: ~/Documents/Ficus/analysis_ipyrad/ficus_c85d6f2_min4_outfiles\n",
      "\n",
      "  Assembly: ficus_c85d6f2_min10\n",
      "  [####################] 100%  filtering loci        | 0:00:10 | s7 | \n",
      "  [####################] 100%  building loci/stats   | 0:00:08 | s7 | \n",
      "  [####################] 100%  building vcf file     | 0:01:39 | s7 | \n",
      "  [####################] 100%  writing vcf file      | 0:00:01 | s7 | \n",
      "  [####################] 100%  writing outfiles      | 0:00:33 | s7 | \n",
      "  Outfiles written to: ~/Documents/Ficus/analysis_ipyrad/ficus_c85d6f2_min10_outfiles\n",
      "\n",
      "  Assembly: ficus_c85d6f2_min20\n",
      "  [####################] 100%  filtering loci        | 0:00:10 | s7 | \n",
      "  [####################] 100%  building loci/stats   | 0:00:07 | s7 | \n",
      "  [####################] 100%  building vcf file     | 0:01:12 | s7 | \n",
      "  [####################] 100%  writing vcf file      | 0:00:01 | s7 | \n",
      "  [####################] 100%  writing outfiles      | 0:00:22 | s7 | \n",
      "  Outfiles written to: ~/Documents/Ficus/analysis_ipyrad/ficus_c85d6f2_min20_outfiles\n"
     ]
    }
   ],
   "source": [
    "sub1.run(\"7\")\n",
    "sub2.run(\"7\")\n",
    "sub3.run(\"7\")"
   ]
  },
  {
   "cell_type": "markdown",
   "metadata": {},
   "source": [
    "### Based on those assemblies make an even more subsampled Assembly\n",
    "Here we will only keep Samples that have data *shared* with at least some minimum number of other samples. To start, I'll set n shared loci to 3000. "
   ]
  },
  {
   "cell_type": "code",
   "execution_count": 25,
   "metadata": {
    "collapsed": false
   },
   "outputs": [
    {
     "name": "stdout",
     "output_type": "stream",
     "text": [
      "sub1 data set has 91 samples\n",
      "sub4 data set has 69 samples\n",
      "\n",
      "the following samples were dropped:\n",
      "  -A07_obtusifolia          \t304\n",
      "  -A62_turbinata            \t168\n",
      "  -B103_obtusifolia         \t1070\n",
      "  -A26_popenoei             \t378\n",
      "  -A63_turbinata            \t84\n",
      "  -A71_bullenei             \t1982\n",
      "  -A34_nymphaeifolia        \t253\n",
      "  -A75_colubrinae           \t516\n",
      "  -A29_popenoei             \t132\n",
      "  -A28_popenoei             \t356\n",
      "  -C33_triangle             \t207\n",
      "  -A38_nymphaeifolia        \t588\n",
      "  -A06_obtusifolia          \t418\n",
      "  -A60_dugandii             \t2250\n",
      "  -C01_bullenei             \t339\n",
      "  -A18_citrifolia           \t2867\n",
      "  -A16_citrifolia           \t2846\n",
      "  -C54_citrifolia           \t179\n",
      "  -C32_triangleXtrigonata   \t150\n",
      "  -A69_bullenei             \t2349\n",
      "  -B118_maxima              \t2882\n",
      "  -A27_popenoei             \t265\n",
      "\n",
      "  Assembly: ficus_c85d6f2_min4_s3K\n",
      "  [####################] 100%  filtering loci        | 0:00:22 | s7 | \n",
      "  [####################] 100%  building loci/stats   | 0:00:07 | s7 | \n",
      "  [####################] 100%  building vcf file     | 0:01:57 | s7 | \n",
      "  [####################] 100%  writing vcf file      | 0:00:01 | s7 | \n",
      "  [####################] 100%  writing outfiles      | 0:00:46 | s7 | \n",
      "  Outfiles written to: ~/Documents/Ficus/analysis_ipyrad/ficus_c85d6f2_min4_s3K_outfiles\n"
     ]
    }
   ],
   "source": [
    "## set a minimum value to exclude samples\n",
    "minshared = 3000\n",
    "\n",
    "## find which Samples have low data\n",
    "lowdata = set(sub1.stats.index[sub1.stats_dfs.s7_samples.sample_coverage < minshared])\n",
    "\n",
    "## make list of which Samples we should keep\n",
    "keep = list(set(sub1.samples.keys()) - lowdata)\n",
    "\n",
    "## branch and supply the keep list as an arg\n",
    "sub4 = sub1.branch(\"ficus_c85d6f2_min4_s3K\", keep)\n",
    "\n",
    "## print how many taxa were excluded?\n",
    "print \"sub1 data set has {} samples\".format(len(sub1.samples))\n",
    "print \"sub4 data set has {} samples\".format(len(sub4.samples))\n",
    "print \"\\nthe following samples were dropped:\"\n",
    "for sample in sub1.samples:\n",
    "    if sample not in sub4.samples:\n",
    "        nshared = sub1.stats_dfs.s7_samples.sample_coverage[sample]\n",
    "        print \"  -{:<25}\\t{}\".format(sample, int(nshared))\n",
    "        \n",
    "## assemble sub4\n",
    "sub4.run(\"7\", force=True)"
   ]
  },
  {
   "cell_type": "markdown",
   "metadata": {},
   "source": [
    "### Check out the step7 stats"
   ]
  },
  {
   "cell_type": "code",
   "execution_count": 32,
   "metadata": {
    "collapsed": false
   },
   "outputs": [
    {
     "name": "stdout",
     "output_type": "stream",
     "text": [
      "\r\n",
      "\r\n",
      "## The number of loci caught by each filter.\r\n",
      "## ipyrad API location: [assembly].statsfiles.s7_filters\r\n",
      "\r\n",
      "                            total_filters  applied_order  retained_loci\r\n",
      "total_prefiltered_loci             261013              0         261013\r\n",
      "filtered_by_rm_duplicates            8471           8471         252542\r\n",
      "filtered_by_max_indels               4890           3453         249089\r\n",
      "filtered_by_max_snps                 6578           4469         244620\r\n",
      "filtered_by_max_shared_het          13128          10415         234205\r\n",
      "filtered_by_min_sample             138904         137593          96612\r\n",
      "filtered_by_max_alleles             19968           7956          88656\r\n",
      "total_filtered_loci                 88656              0          88656\r\n",
      "\r\n",
      "\r\n",
      "## The number of loci recovered for each Sample.\r\n",
      "## ipyrad API location: [assembly].stats_dfs.s7_samples\r\n",
      "\r\n",
      "                      sample_coverage\r\n",
      "A01_paraensis                    4649\r\n",
      "A02_paraensis                    9074\r\n",
      "A04_paraensis                   33619\r\n",
      "A05_paraensis                   11842\r\n",
      "A19_citrifolia                   7182\r\n",
      "A33_nymphaeifolia                3630\r\n",
      "A41_nymphaeifolia               24392\r\n",
      "A42_nymphaeifolia               32681\r\n",
      "A48_trigonata                    6737\r\n",
      "A49_trigonata                    7232\r\n",
      "A55_triangle                     7448\r\n",
      "A59_dugandii                    28389\r\n",
      "A61_turbinata                    5468\r\n",
      "A65_pertusa                     34775\r\n",
      "A67_bullenei                    15588\r\n",
      "A70_bullenei                    10973\r\n",
      "A72_bullenei                     3675\r\n",
      "A77_colubrinae                  27864\r\n",
      "A82_perforata                   22784\r\n",
      "A83_perforata                   22523\r\n",
      "A84_perforata                   34523\r\n",
      "A85_perforata                   20662\r\n",
      "A87_costaricana                  3051\r\n",
      "A94_maxima                      27851\r\n",
      "A95_insipida                    15952\r\n",
      "A96_glabrata                    31925\r\n",
      "A97_glabrata                    23195\r\n",
      "B102_obtusifolia                33393\r\n",
      "B119_maxima                     26909\r\n",
      "B120_maxima                     29993\r\n",
      "B123_maxima                     22682\r\n",
      "B126_insipida                   36422\r\n",
      "B127_insipida                   27588\r\n",
      "B128_insipida                   35992\r\n",
      "B130_glabrataXmaxima            35967\r\n",
      "B131_glabrataXmaxima            36619\r\n",
      "B133_glabrata                   33070\r\n",
      "B134_glabrata                   35499\r\n",
      "C04_colubrinae                  32425\r\n",
      "C11_costaricana                 32865\r\n",
      "C12_dugandii                     9171\r\n",
      "C14_dugandii                    34098\r\n",
      "C15_insipida                    35525\r\n",
      "C17_maxima                      37964\r\n",
      "C18_maxima                      37920\r\n",
      "C19_nymphaeifolia               32680\r\n",
      "C21_obtusifolia                  3433\r\n",
      "C22_obtusifolia                 34964\r\n",
      "C24_obtusifolia                 33029\r\n",
      "C25_popenoei                    33397\r\n",
      "C26_popenoei                    30985\r\n",
      "C27_popenoei                    18356\r\n",
      "C28_pertusa                     33726\r\n",
      "C30_triangle                    38599\r\n",
      "C31_triangle                    15196\r\n",
      "C36_trigonata                   35555\r\n",
      "C37_trigonata                   34886\r\n",
      "C39_trigonata                   33991\r\n",
      "C41_trigonata                   13495\r\n",
      "C43_trigonata                   35193\r\n",
      "C45_yoponensis                  37199\r\n",
      "C46_yoponensis                  36749\r\n",
      "C47_yoponensis                  36251\r\n",
      "C48_tonduzii                    37577\r\n",
      "C49_dugandii                    30257\r\n",
      "C50_insipida                    36864\r\n",
      "C51_perforata                   37493\r\n",
      "C53_citrifolia                   4307\r\n",
      "C5_colubrinae                   35387\r\n",
      "\r\n",
      "\r\n",
      "## The number of loci for which N taxa have data.\r\n",
      "## ipyrad API location: [assembly].stats_dfs.s7_loci\r\n",
      "\r\n",
      "    locus_coverage  sum_coverage\r\n",
      "1                0             0\r\n",
      "2                0             0\r\n",
      "3                0             0\r\n",
      "4            12502         12502\r\n",
      "5             8115         20617\r\n",
      "6             5448         26065\r\n",
      "7             3903         29968\r\n",
      "8             2994         32962\r\n",
      "9             2367         35329\r\n",
      "10            2049         37378\r\n",
      "11            1796         39174\r\n",
      "12            1673         40847\r\n",
      "13            1613         42460\r\n",
      "14            1598         44058\r\n",
      "15            1621         45679\r\n",
      "16            1674         47353\r\n",
      "17            1894         49247\r\n",
      "18            2118         51365\r\n",
      "19            2346         53711\r\n",
      "20            2507         56218\r\n",
      "21            2453         58671\r\n",
      "22            1582         60253\r\n",
      "23             907         61160\r\n",
      "24             804         61964\r\n",
      "25             796         62760\r\n",
      "26             813         63573\r\n",
      "27             825         64398\r\n",
      "28             892         65290\r\n",
      "29             827         66117\r\n",
      "30             846         66963\r\n",
      "31             736         67699\r\n",
      "32             780         68479\r\n",
      "33             713         69192\r\n",
      "34             595         69787\r\n",
      "35             629         70416\r\n",
      "36             577         70993\r\n",
      "37             530         71523\r\n",
      "38             489         72012\r\n",
      "39             580         72592\r\n",
      "40             514         73106\r\n",
      "41             583         73689\r\n",
      "42             567         74256\r\n",
      "43             694         74950\r\n",
      "44             734         75684\r\n",
      "45             858         76542\r\n",
      "46             941         77483\r\n",
      "47             973         78456\r\n",
      "48            1040         79496\r\n",
      "49            1081         80577\r\n",
      "50            1087         81664\r\n",
      "51            1074         82738\r\n",
      "52            1034         83772\r\n",
      "53            1027         84799\r\n",
      "54             886         85685\r\n",
      "55             758         86443\r\n",
      "56             663         87106\r\n",
      "57             489         87595\r\n",
      "58             355         87950\r\n",
      "59             247         88197\r\n",
      "60             165         88362\r\n",
      "61             104         88466\r\n",
      "62              58         88524\r\n",
      "63              33         88557\r\n",
      "64              22         88579\r\n",
      "65               8         88587\r\n",
      "66              15         88602\r\n",
      "67              20         88622\r\n",
      "68              25         88647\r\n",
      "69               9         88656\r\n",
      "\r\n",
      "\r\n",
      "## The distribution of SNPs (var and pis) across loci.\r\n",
      "## var = all variable sites (pis + autapomorphies)\r\n",
      "## pis = parsimony informative site (minor allele in >1 sample)\r\n",
      "## ipyrad API location: [assembly].stats_dfs.s7_snps\r\n",
      "\r\n",
      "     var  sum_var    pis  sum_pis\r\n",
      "0   9951        0  21307        0\r\n",
      "1   8023     8023  12936    12936\r\n",
      "2   7400    22823  10689    34314\r\n",
      "3   7000    43823   9065    61509\r\n",
      "4   6640    70383   7635    92049\r\n",
      "5   6026   100513   6231   123204\r\n",
      "6   5603   134131   5017   153306\r\n",
      "7   5213   170622   4066   181768\r\n",
      "8   4762   208718   3291   208096\r\n",
      "9   4354   247904   2536   230920\r\n",
      "10  4013   288034   1964   250560\r\n",
      "11  3600   327634   1442   266422\r\n",
      "12  3118   365050    958   277918\r\n",
      "13  2704   400202    672   286654\r\n",
      "14  2380   433522    406   292338\r\n",
      "15  2000   463522    249   296073\r\n",
      "16  1722   491074    103   297721\r\n",
      "17  1349   514007     64   298809\r\n",
      "18  1121   534185     19   299151\r\n",
      "19   928   551817      6   299265\r\n",
      "20   749   566797      0   299265"
     ]
    }
   ],
   "source": [
    "cat $sub4.stats_files.s7"
   ]
  },
  {
   "cell_type": "markdown",
   "metadata": {},
   "source": [
    "### Organize analysis directories"
   ]
  },
  {
   "cell_type": "code",
   "execution_count": null,
   "metadata": {
    "collapsed": true
   },
   "outputs": [],
   "source": [
    "## store the results directory as a variable\n",
    "ipdir = \"/home/deren/Documents/Ficus/analysis_ipyrad\"\n",
    "raxdir = \"/home/deren/Docments/Ficus/analysis_raxml\""
   ]
  },
  {
   "cell_type": "markdown",
   "metadata": {},
   "source": [
    "### Infer a quartet-based species tree using _tetrad_ \n",
    "This infers a super tree topology based on quartets and is consistent under the multi-species coalescent. It is fast, and uses an interesting model based on phylogenetic invariants to test alternative quartet topologies."
   ]
  },
  {
   "cell_type": "code",
   "execution_count": null,
   "metadata": {
    "collapsed": true
   },
   "outputs": [],
   "source": [
    "%%bash -i ipdir\n",
    "\n",
    "## infer the tree, be default output will be written to analysis_tetrad/\n",
    "tetrad -s $ipdir/ficus_c85d6f2_min4_outfiles/ficus_c85d6f2_min4.snps \\\n",
    "       -l $ipdir/ficus_c85d6f2_min4_outfiles/ficus_c85d6f2_min4.snps.map \\\n",
    "       -c 2 -b 50 \n",
    "       \n"
   ]
  },
  {
   "cell_type": "markdown",
   "metadata": {},
   "source": [
    "### Infer an ML phylogeny with raxml"
   ]
  },
  {
   "cell_type": "code",
   "execution_count": null,
   "metadata": {
    "collapsed": false
   },
   "outputs": [],
   "source": [
    "%%bash -i ipdir raxdir\n",
    "\n",
    "## make an output dir\n",
    "mkdir -p $raxdir\n",
    "\n",
    "## pass args \n",
    "raxmlHPC-PTHREADS-AVX \\\n",
    "              -f a -m GTRGAMMA -N 100 \\\n",
    "              -x 12345 -p 12345 -T 35 \\\n",
    "              -n ficus_c85d6f2_min4_s3K \\\n",
    "              -w $raxdir \\\n",
    "              -s $ipdir/ficus_c85d6f2_min4_s3K_outfiles/ficus_c85d6f2_min4_s3K.phy"
   ]
  },
  {
   "cell_type": "markdown",
   "metadata": {},
   "source": [
    "### plot the tree"
   ]
  },
  {
   "cell_type": "code",
   "execution_count": null,
   "metadata": {
    "collapsed": true
   },
   "outputs": [],
   "source": [
    "## ..."
   ]
  },
  {
   "cell_type": "markdown",
   "metadata": {},
   "source": [
    "### Analyze admixture (f4/D/ABBA-BABA) from site patterns in tetrad database"
   ]
  },
  {
   "cell_type": "code",
   "execution_count": null,
   "metadata": {
    "collapsed": true
   },
   "outputs": [],
   "source": [
    "## ..."
   ]
  }
 ],
 "metadata": {
  "kernelspec": {
   "display_name": "Python 2",
   "language": "python",
   "name": "python2"
  },
  "language_info": {
   "codemirror_mode": {
    "name": "ipython",
    "version": 2
   },
   "file_extension": ".py",
   "mimetype": "text/x-python",
   "name": "python",
   "nbconvert_exporter": "python",
   "pygments_lexer": "ipython2",
   "version": "2.7.12"
  }
 },
 "nbformat": 4,
 "nbformat_minor": 0
}
