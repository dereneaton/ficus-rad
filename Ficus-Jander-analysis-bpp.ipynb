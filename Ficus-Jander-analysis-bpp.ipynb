{
 "cells": [
  {
   "cell_type": "markdown",
   "metadata": {},
   "source": [
    "# Analysis of Ficus RAD-seq data"
   ]
  },
  {
   "cell_type": "markdown",
   "metadata": {},
   "source": [
    "### Table of contents\n",
    "[Software installation (conda)](#Required-software)  \n",
    "[The assembled RAD data](#The-assembled-data-sets)  \n",
    "[Phylogenetic analysis (raxml)](#Analysis-BPP)  \n",
    "[Plot results](#Plots)\n",
    "\n"
   ]
  },
  {
   "cell_type": "markdown",
   "metadata": {},
   "source": [
    "## Required software\n",
    "All required software can be installed locally using *conda*. I assume here that you already have `ipyrad` installed using conda. "
   ]
  },
  {
   "cell_type": "code",
   "execution_count": 1,
   "metadata": {
    "collapsed": true
   },
   "outputs": [],
   "source": [
    "## conda install toytree   -c eaton-lab\n",
    "## conda install ipyrad    -c ipyrad \n",
    "## conda install bpp       -c ipyrad "
   ]
  },
  {
   "cell_type": "code",
   "execution_count": 2,
   "metadata": {},
   "outputs": [
    {
     "name": "stdout",
     "output_type": "stream",
     "text": [
      "ipyrad v.0.6.20\n"
     ]
    }
   ],
   "source": [
    "## import packages\n",
    "import ipyrad as ip\n",
    "import ipyrad.analysis as ipa\n",
    "import numpy as np\n",
    "import toyplot\n",
    "import toytree\n",
    "import glob\n",
    "\n",
    "## print ipyrad info\n",
    "print \"ipyrad v.{}\".format(ip.__version__)"
   ]
  },
  {
   "cell_type": "markdown",
   "metadata": {},
   "source": [
    "## Cluster setup\n",
    "see more information on ipyparallel setup here. "
   ]
  },
  {
   "cell_type": "code",
   "execution_count": 3,
   "metadata": {},
   "outputs": [
    {
     "name": "stdout",
     "output_type": "stream",
     "text": [
      "host compute node: [40 cores] on tinus\n"
     ]
    }
   ],
   "source": [
    "## print ipyparallel cluster information\n",
    "import ipyparallel as ipp\n",
    "ipyclient = ipp.Client()\n",
    "print ip.cluster_info(ipyclient)"
   ]
  },
  {
   "cell_type": "markdown",
   "metadata": {},
   "source": [
    "### Assembled data sets"
   ]
  },
  {
   "cell_type": "code",
   "execution_count": 5,
   "metadata": {},
   "outputs": [
    {
     "name": "stdout",
     "output_type": "stream",
     "text": [
      "  loading Assembly: pharma_dhi_s4\n",
      "  from saved path: ~/Documents/Ficus/analysis-ipyrad/pharma_dhi_s4.json\n",
      "  loading Assembly: america_dhi_s4\n",
      "  from saved path: ~/Documents/Ficus/analysis-ipyrad/america_dhi_s4.json\n"
     ]
    }
   ],
   "source": [
    "## create subsampled pharma-clade branch\n",
    "pharma = ip.load_json(\"analysis-ipyrad/pharma_dhi_s4.json\")\n",
    "america = ip.load_json(\"analysis-ipyrad/america_dhi_s4.json\")"
   ]
  },
  {
   "cell_type": "markdown",
   "metadata": {},
   "source": [
    "# Analysis BPP"
   ]
  },
  {
   "cell_type": "markdown",
   "metadata": {},
   "source": [
    "#### Pharmacosyceae clade"
   ]
  },
  {
   "cell_type": "code",
   "execution_count": 6,
   "metadata": {
    "collapsed": true
   },
   "outputs": [],
   "source": [
    "## a tree hypothesis (guidetree) (here based on tetrad results)\n",
    "newick = \"((((glabrata, insipida), yoponensis), maxima), tonduzii);\"\n",
    "\n",
    "## a dictionary mapping sample names to 'species' names\n",
    "imap = {\n",
    "    \"glabrata\": [\"B133_glabrata\", \"A97_glabrata\", \"B134_glabrata\", \"B131_glabrataXmaxima\"],\n",
    "    \"insipida\": [\"A95_insipida\", \"B127_insipida\", \"C15_insipida\", \n",
    "                 \"B128_insipida\", \"B127_insipida\", \"A95_insipida\"],\n",
    "    \"yoponensis\": [\"C45_yoponensis\", \"C47_yoponensis\", \"C46_yoponensis\"],\n",
    "    \"maxima\": [\"A94_maxima\", \"C17_maxima\", \"B119_maxima\", \"B120_maxima\"],\n",
    "    \"tonduzii\": [\"C48_tonduzii\"],\n",
    "    }\n",
    "\n",
    "## loci must have data for at least N samples in each species.\n",
    "minmap = {\n",
    "    \"glabrata\": 4,\n",
    "    \"insipida\": 4,\n",
    "    \"yoponensis\": 3,\n",
    "    \"maxima\": 4, \n",
    "    \"tonduzii\": 1,\n",
    "    }"
   ]
  },
  {
   "cell_type": "code",
   "execution_count": 7,
   "metadata": {},
   "outputs": [
    {
     "data": {
      "text/html": [
       "<div align=\"center\" class=\"toyplot\" id=\"tb72cb4ecc0ea4a3ebff32c41f1c10a7c\"><svg class=\"toyplot-canvas-Canvas\" height=\"125.0px\" id=\"t6ed36f09d1504ea991120a52b58949eb\" preserveAspectRatio=\"xMidYMid meet\" style=\"background-color:transparent;fill:rgb(16.1%,15.3%,14.1%);fill-opacity:1.0;font-family:Helvetica;font-size:12px;opacity:1.0;stroke:rgb(16.1%,15.3%,14.1%);stroke-opacity:1.0;stroke-width:1.0\" viewBox=\"0 0 125.0 125.0\" width=\"125.0px\" xmlns=\"http://www.w3.org/2000/svg\" xmlns:toyplot=\"http://www.sandia.gov/toyplot\" xmlns:xlink=\"http://www.w3.org/1999/xlink\"><g class=\"toyplot-coordinates-Cartesian\" id=\"t9f96b15ac89c418cbb4470bcf697fd36\"><clipPath id=\"tf77b3d59157b4ac9a1c849784e978a0f\"><rect height=\"120.0\" width=\"120.0\" x=\"2.5\" y=\"2.5\"></rect></clipPath><g clip-path=\"url(#tf77b3d59157b4ac9a1c849784e978a0f)\"><g class=\"toyplot-mark-Text\" id=\"t9d9efdfbc1e240c2b8c34ab74ab30b67\" style=\"-toyplot-anchor-shift:15px;alignment-baseline:middle;font-size:12px;font-weight:normal;stroke:none;text-anchor:start\"><g class=\"toyplot-Series\"><text class=\"toyplot-Datum\" style=\"fill:rgb(16.1%,15.3%,14.1%);fill-opacity:1.0;font-weight:normal;opacity:1.0;stroke:none;text-anchor:start\" transform=\"translate(55.053191489361708,17.857142857142861)translate(15.0,3.375)\"><tspan style=\"font-size:12.0px\">tonduzii</tspan></text><text class=\"toyplot-Datum\" style=\"fill:rgb(16.1%,15.3%,14.1%);fill-opacity:1.0;font-weight:normal;opacity:1.0;stroke:none;text-anchor:start\" transform=\"translate(55.053191489361708,40.178571428571431)translate(15.0,3.375)\"><tspan style=\"font-size:12.0px\">maxima</tspan></text><text class=\"toyplot-Datum\" style=\"fill:rgb(16.1%,15.3%,14.1%);fill-opacity:1.0;font-weight:normal;opacity:1.0;stroke:none;text-anchor:start\" transform=\"translate(55.053191489361708,62.5)translate(15.0,3.375)\"><tspan style=\"font-size:12.0px\">yoponensis</tspan></text><text class=\"toyplot-Datum\" style=\"fill:rgb(16.1%,15.3%,14.1%);fill-opacity:1.0;font-weight:normal;opacity:1.0;stroke:none;text-anchor:start\" transform=\"translate(55.053191489361708,84.821428571428584)translate(15.0,3.375)\"><tspan style=\"font-size:12.0px\">glabrata</tspan></text><text class=\"toyplot-Datum\" style=\"fill:rgb(16.1%,15.3%,14.1%);fill-opacity:1.0;font-weight:normal;opacity:1.0;stroke:none;text-anchor:start\" transform=\"translate(55.053191489361708,107.14285714285714)translate(15.0,3.375)\"><tspan style=\"font-size:12.0px\">insipida</tspan></text></g></g><g class=\"toyplot-mark-Graph\" id=\"t9ff52b1c89734507be47c32160744317\"><g class=\"toyplot-Edges\"><path d=\"M 12.5 38.7834821429 L 12.5 17.8571428571\" style=\"fill:none;stroke:rgb(16.1%,15.3%,14.1%);stroke-linecap:round;stroke-opacity:1.0;stroke-width:2\"></path><path d=\"M 12.5 17.8571428571 L 55.0531914894 17.8571428571\" style=\"fill:none;stroke:rgb(16.1%,15.3%,14.1%);stroke-linecap:round;stroke-opacity:1.0;stroke-width:2\"></path><path d=\"M 12.5 38.7834821429 L 12.5 59.7098214286\" style=\"fill:none;stroke:rgb(16.1%,15.3%,14.1%);stroke-linecap:round;stroke-opacity:1.0;stroke-width:2\"></path><path d=\"M 12.5 59.7098214286 L 23.1382978723 59.7098214286\" style=\"fill:none;stroke:rgb(16.1%,15.3%,14.1%);stroke-linecap:round;stroke-opacity:1.0;stroke-width:2\"></path><path d=\"M 23.1382978723 59.7098214286 L 23.1382978723 40.1785714286\" style=\"fill:none;stroke:rgb(16.1%,15.3%,14.1%);stroke-linecap:round;stroke-opacity:1.0;stroke-width:2\"></path><path d=\"M 23.1382978723 40.1785714286 L 55.0531914894 40.1785714286\" style=\"fill:none;stroke:rgb(16.1%,15.3%,14.1%);stroke-linecap:round;stroke-opacity:1.0;stroke-width:2\"></path><path d=\"M 23.1382978723 59.7098214286 L 23.1382978723 79.2410714286\" style=\"fill:none;stroke:rgb(16.1%,15.3%,14.1%);stroke-linecap:round;stroke-opacity:1.0;stroke-width:2\"></path><path d=\"M 23.1382978723 79.2410714286 L 33.7765957447 79.2410714286\" style=\"fill:none;stroke:rgb(16.1%,15.3%,14.1%);stroke-linecap:round;stroke-opacity:1.0;stroke-width:2\"></path><path d=\"M 33.7765957447 79.2410714286 L 33.7765957447 62.5\" style=\"fill:none;stroke:rgb(16.1%,15.3%,14.1%);stroke-linecap:round;stroke-opacity:1.0;stroke-width:2\"></path><path d=\"M 33.7765957447 62.5 L 55.0531914894 62.5\" style=\"fill:none;stroke:rgb(16.1%,15.3%,14.1%);stroke-linecap:round;stroke-opacity:1.0;stroke-width:2\"></path><path d=\"M 33.7765957447 79.2410714286 L 33.7765957447 95.9821428571\" style=\"fill:none;stroke:rgb(16.1%,15.3%,14.1%);stroke-linecap:round;stroke-opacity:1.0;stroke-width:2\"></path><path d=\"M 33.7765957447 95.9821428571 L 44.414893617 95.9821428571\" style=\"fill:none;stroke:rgb(16.1%,15.3%,14.1%);stroke-linecap:round;stroke-opacity:1.0;stroke-width:2\"></path><path d=\"M 44.414893617 95.9821428571 L 44.414893617 84.8214285714\" style=\"fill:none;stroke:rgb(16.1%,15.3%,14.1%);stroke-linecap:round;stroke-opacity:1.0;stroke-width:2\"></path><path d=\"M 44.414893617 84.8214285714 L 55.0531914894 84.8214285714\" style=\"fill:none;stroke:rgb(16.1%,15.3%,14.1%);stroke-linecap:round;stroke-opacity:1.0;stroke-width:2\"></path><path d=\"M 44.414893617 95.9821428571 L 44.414893617 107.142857143\" style=\"fill:none;stroke:rgb(16.1%,15.3%,14.1%);stroke-linecap:round;stroke-opacity:1.0;stroke-width:2\"></path><path d=\"M 44.414893617 107.142857143 L 55.0531914894 107.142857143\" style=\"fill:none;stroke:rgb(16.1%,15.3%,14.1%);stroke-linecap:round;stroke-opacity:1.0;stroke-width:2\"></path></g><g class=\"toyplot-Vertices\"><g class=\"toyplot-Datum\" style=\"fill:rgb(40%,76.1%,64.7%);fill-opacity:1.0;opacity:1.0;stroke:rgb(40%,76.1%,64.7%);stroke-opacity:1.0\"><circle cx=\"12.5\" cy=\"38.783482142857139\" r=\"0.0\"></circle></g><g class=\"toyplot-Datum\" style=\"fill:rgb(40%,76.1%,64.7%);fill-opacity:1.0;opacity:1.0;stroke:rgb(40%,76.1%,64.7%);stroke-opacity:1.0\"><circle cx=\"12.5\" cy=\"17.857142857142861\" r=\"0.0\"></circle></g><g class=\"toyplot-Datum\" style=\"fill:rgb(40%,76.1%,64.7%);fill-opacity:1.0;opacity:1.0;stroke:rgb(40%,76.1%,64.7%);stroke-opacity:1.0\"><circle cx=\"55.053191489361708\" cy=\"17.857142857142861\" r=\"0.0\"></circle></g><g class=\"toyplot-Datum\" style=\"fill:rgb(40%,76.1%,64.7%);fill-opacity:1.0;opacity:1.0;stroke:rgb(40%,76.1%,64.7%);stroke-opacity:1.0\"><circle cx=\"12.5\" cy=\"59.709821428571431\" r=\"0.0\"></circle></g><g class=\"toyplot-Datum\" style=\"fill:rgb(40%,76.1%,64.7%);fill-opacity:1.0;opacity:1.0;stroke:rgb(40%,76.1%,64.7%);stroke-opacity:1.0\"><circle cx=\"23.138297872340424\" cy=\"59.709821428571431\" r=\"0.0\"></circle></g><g class=\"toyplot-Datum\" style=\"fill:rgb(40%,76.1%,64.7%);fill-opacity:1.0;opacity:1.0;stroke:rgb(40%,76.1%,64.7%);stroke-opacity:1.0\"><circle cx=\"23.138297872340424\" cy=\"59.709821428571431\" r=\"0.0\"></circle></g><g class=\"toyplot-Datum\" style=\"fill:rgb(40%,76.1%,64.7%);fill-opacity:1.0;opacity:1.0;stroke:rgb(40%,76.1%,64.7%);stroke-opacity:1.0\"><circle cx=\"23.138297872340424\" cy=\"40.178571428571431\" r=\"0.0\"></circle></g><g class=\"toyplot-Datum\" style=\"fill:rgb(40%,76.1%,64.7%);fill-opacity:1.0;opacity:1.0;stroke:rgb(40%,76.1%,64.7%);stroke-opacity:1.0\"><circle cx=\"55.053191489361708\" cy=\"40.178571428571431\" r=\"0.0\"></circle></g><g class=\"toyplot-Datum\" style=\"fill:rgb(40%,76.1%,64.7%);fill-opacity:1.0;opacity:1.0;stroke:rgb(40%,76.1%,64.7%);stroke-opacity:1.0\"><circle cx=\"23.138297872340424\" cy=\"79.241071428571431\" r=\"0.0\"></circle></g><g class=\"toyplot-Datum\" style=\"fill:rgb(40%,76.1%,64.7%);fill-opacity:1.0;opacity:1.0;stroke:rgb(40%,76.1%,64.7%);stroke-opacity:1.0\"><circle cx=\"33.776595744680854\" cy=\"79.241071428571431\" r=\"0.0\"></circle></g><g class=\"toyplot-Datum\" style=\"fill:rgb(40%,76.1%,64.7%);fill-opacity:1.0;opacity:1.0;stroke:rgb(40%,76.1%,64.7%);stroke-opacity:1.0\"><circle cx=\"33.776595744680854\" cy=\"79.241071428571431\" r=\"0.0\"></circle></g><g class=\"toyplot-Datum\" style=\"fill:rgb(40%,76.1%,64.7%);fill-opacity:1.0;opacity:1.0;stroke:rgb(40%,76.1%,64.7%);stroke-opacity:1.0\"><circle cx=\"33.776595744680854\" cy=\"62.5\" r=\"0.0\"></circle></g><g class=\"toyplot-Datum\" style=\"fill:rgb(40%,76.1%,64.7%);fill-opacity:1.0;opacity:1.0;stroke:rgb(40%,76.1%,64.7%);stroke-opacity:1.0\"><circle cx=\"55.053191489361708\" cy=\"62.5\" r=\"0.0\"></circle></g><g class=\"toyplot-Datum\" style=\"fill:rgb(40%,76.1%,64.7%);fill-opacity:1.0;opacity:1.0;stroke:rgb(40%,76.1%,64.7%);stroke-opacity:1.0\"><circle cx=\"33.776595744680854\" cy=\"95.982142857142861\" r=\"0.0\"></circle></g><g class=\"toyplot-Datum\" style=\"fill:rgb(40%,76.1%,64.7%);fill-opacity:1.0;opacity:1.0;stroke:rgb(40%,76.1%,64.7%);stroke-opacity:1.0\"><circle cx=\"44.414893617021271\" cy=\"95.982142857142861\" r=\"0.0\"></circle></g><g class=\"toyplot-Datum\" style=\"fill:rgb(40%,76.1%,64.7%);fill-opacity:1.0;opacity:1.0;stroke:rgb(40%,76.1%,64.7%);stroke-opacity:1.0\"><circle cx=\"44.414893617021271\" cy=\"95.982142857142861\" r=\"0.0\"></circle></g><g class=\"toyplot-Datum\" style=\"fill:rgb(40%,76.1%,64.7%);fill-opacity:1.0;opacity:1.0;stroke:rgb(40%,76.1%,64.7%);stroke-opacity:1.0\"><circle cx=\"44.414893617021271\" cy=\"84.821428571428584\" r=\"0.0\"></circle></g><g class=\"toyplot-Datum\" style=\"fill:rgb(40%,76.1%,64.7%);fill-opacity:1.0;opacity:1.0;stroke:rgb(40%,76.1%,64.7%);stroke-opacity:1.0\"><circle cx=\"55.053191489361708\" cy=\"84.821428571428584\" r=\"0.0\"></circle></g><g class=\"toyplot-Datum\" style=\"fill:rgb(40%,76.1%,64.7%);fill-opacity:1.0;opacity:1.0;stroke:rgb(40%,76.1%,64.7%);stroke-opacity:1.0\"><circle cx=\"44.414893617021271\" cy=\"107.14285714285714\" r=\"0.0\"></circle></g><g class=\"toyplot-Datum\" style=\"fill:rgb(40%,76.1%,64.7%);fill-opacity:1.0;opacity:1.0;stroke:rgb(40%,76.1%,64.7%);stroke-opacity:1.0\"><circle cx=\"55.053191489361708\" cy=\"107.14285714285714\" r=\"0.0\"></circle></g></g></g><g class=\"toyplot-mark-Scatterplot\" id=\"t2dfbdaa7ae08468a864a82f023cabb0b\" style=\"\"><g class=\"toyplot-Series\"><g class=\"toyplot-Datum\" style=\"fill:rgb(40%,76.1%,64.7%);fill-opacity:1.0;opacity:1.0;stroke:none\"><circle cx=\"12.5\" cy=\"38.783482142857139\" r=\"0.0\"></circle></g><g class=\"toyplot-Datum\" style=\"fill:rgb(40%,76.1%,64.7%);fill-opacity:1.0;opacity:1.0;stroke:none\"><circle cx=\"23.138297872340424\" cy=\"59.709821428571431\" r=\"0.0\"></circle></g><g class=\"toyplot-Datum\" style=\"fill:rgb(40%,76.1%,64.7%);fill-opacity:1.0;opacity:1.0;stroke:none\"><circle cx=\"33.776595744680854\" cy=\"79.241071428571431\" r=\"0.0\"></circle></g><g class=\"toyplot-Datum\" style=\"fill:rgb(40%,76.1%,64.7%);fill-opacity:1.0;opacity:1.0;stroke:none\"><circle cx=\"44.414893617021271\" cy=\"95.982142857142861\" r=\"0.0\"></circle></g><g class=\"toyplot-Datum\" style=\"fill:rgb(40%,76.1%,64.7%);fill-opacity:1.0;opacity:1.0;stroke:none\"><circle cx=\"55.053191489361708\" cy=\"17.857142857142861\" r=\"0.0\"></circle></g><g class=\"toyplot-Datum\" style=\"fill:rgb(40%,76.1%,64.7%);fill-opacity:1.0;opacity:1.0;stroke:none\"><circle cx=\"55.053191489361708\" cy=\"40.178571428571431\" r=\"0.0\"></circle></g><g class=\"toyplot-Datum\" style=\"fill:rgb(40%,76.1%,64.7%);fill-opacity:1.0;opacity:1.0;stroke:none\"><circle cx=\"55.053191489361708\" cy=\"62.5\" r=\"0.0\"></circle></g><g class=\"toyplot-Datum\" style=\"fill:rgb(40%,76.1%,64.7%);fill-opacity:1.0;opacity:1.0;stroke:none\"><circle cx=\"55.053191489361708\" cy=\"84.821428571428584\" r=\"0.0\"></circle></g><g class=\"toyplot-Datum\" style=\"fill:rgb(40%,76.1%,64.7%);fill-opacity:1.0;opacity:1.0;stroke:none\"><circle cx=\"55.053191489361708\" cy=\"107.14285714285714\" r=\"0.0\"></circle></g></g></g></g></g></svg><div class=\"toyplot-interactive\"><ul class=\"toyplot-mark-popup\" onmouseleave=\"this.style.visibility='hidden'\" style=\"background:rgba(0%,0%,0%,0.75);border:0;border-radius:6px;color:white;cursor:default;list-style:none;margin:0;padding:5px;position:fixed;visibility:hidden\">\n",
       "            <li class=\"toyplot-mark-popup-title\" style=\"color:lightgray;cursor:default;padding:5px;list-style:none;margin:0\"></li>\n",
       "            <li class=\"toyplot-mark-popup-save-csv\" onmouseout=\"this.style.color='white';this.style.background='steelblue'\" onmouseover=\"this.style.color='steelblue';this.style.background='white'\" style=\"border-radius:3px;padding:5px;list-style:none;margin:0\">\n",
       "                Save as .csv\n",
       "            </li>\n",
       "        </ul><script>\n",
       "        (function()\n",
       "        {\n",
       "          var data_tables = [{\"title\": \"Scatterplot Data\", \"names\": [\"x\", \"y0\"], \"id\": \"t2dfbdaa7ae08468a864a82f023cabb0b\", \"columns\": [[-4.0, -3.0, -2.0, -1.0, 0.0, 0.0, 0.0, 0.0, 0.0], [3.0625, 2.125, 1.25, 0.5, 4.0, 3.0, 2.0, 1.0, 0.0]], \"filename\": \"toyplot\"}];\n",
       "\n",
       "          function save_csv(data_table)\n",
       "          {\n",
       "            var uri = \"data:text/csv;charset=utf-8,\";\n",
       "            uri += data_table.names.join(\",\") + \"\\n\";\n",
       "            for(var i = 0; i != data_table.columns[0].length; ++i)\n",
       "            {\n",
       "              for(var j = 0; j != data_table.columns.length; ++j)\n",
       "              {\n",
       "                if(j)\n",
       "                  uri += \",\";\n",
       "                uri += data_table.columns[j][i];\n",
       "              }\n",
       "              uri += \"\\n\";\n",
       "            }\n",
       "            uri = encodeURI(uri);\n",
       "\n",
       "            var link = document.createElement(\"a\");\n",
       "            if(typeof link.download != \"undefined\")\n",
       "            {\n",
       "              link.href = uri;\n",
       "              link.style = \"visibility:hidden\";\n",
       "              link.download = data_table.filename + \".csv\";\n",
       "\n",
       "              document.body.appendChild(link);\n",
       "              link.click();\n",
       "              document.body.removeChild(link);\n",
       "            }\n",
       "            else\n",
       "            {\n",
       "              window.open(uri);\n",
       "            }\n",
       "          }\n",
       "\n",
       "          function open_popup(data_table)\n",
       "          {\n",
       "            return function(e)\n",
       "            {\n",
       "              var popup = document.querySelector(\"#tb72cb4ecc0ea4a3ebff32c41f1c10a7c .toyplot-mark-popup\");\n",
       "              popup.querySelector(\".toyplot-mark-popup-title\").innerHTML = data_table.title;\n",
       "              popup.querySelector(\".toyplot-mark-popup-save-csv\").onclick = function() { popup.style.visibility = \"hidden\"; save_csv(data_table); }\n",
       "              popup.style.left = (e.clientX - 50) + \"px\";\n",
       "              popup.style.top = (e.clientY - 20) + \"px\";\n",
       "              popup.style.visibility = \"visible\";\n",
       "              e.stopPropagation();\n",
       "              e.preventDefault();\n",
       "            }\n",
       "\n",
       "          }\n",
       "\n",
       "          for(var i = 0; i != data_tables.length; ++i)\n",
       "          {\n",
       "            var data_table = data_tables[i];\n",
       "            var event_target = document.querySelector(\"#\" + data_table.id);\n",
       "            event_target.oncontextmenu = open_popup(data_table);\n",
       "          }\n",
       "        })();\n",
       "        </script></div></div>"
      ]
     },
     "metadata": {},
     "output_type": "display_data"
    }
   ],
   "source": [
    "## check your (starting) tree hypothesis\n",
    "toytree.tree(newick).draw();"
   ]
  },
  {
   "cell_type": "code",
   "execution_count": 12,
   "metadata": {
    "collapsed": true
   },
   "outputs": [],
   "source": [
    "## create a bpp object to run algorithm 00\n",
    "boo = ipa.bpp(\n",
    "    locifile=pharma.outfiles.loci,\n",
    "    guidetree=newick, \n",
    "    imap=imap, \n",
    "    minmap=minmap,   \n",
    "    workdir=\"analysis-bpp/\",\n",
    "    )"
   ]
  },
  {
   "cell_type": "code",
   "execution_count": 13,
   "metadata": {},
   "outputs": [
    {
     "data": {
      "text/plain": [
       "burnin          10000               \n",
       "cleandata       0                   \n",
       "copied          False               \n",
       "delimit_alg     (0, 5)              \n",
       "finetune        (0.01, 0.01, 0.01, 0.01, 0.01, 0.01, 0.01, 0.01)\n",
       "infer_delimit   0                   \n",
       "infer_sptree    0                   \n",
       "nsample         50000               \n",
       "sampfreq        25                  \n",
       "seed            12345               \n",
       "tauprior        (2, 2000, 1)        \n",
       "thetaprior      (2, 2000)           \n",
       "usedata         1                   "
      ]
     },
     "execution_count": 13,
     "metadata": {},
     "output_type": "execute_result"
    }
   ],
   "source": [
    "## set some optional params, leaving others at their defaults\n",
    "boo.params.burnin = 10000\n",
    "boo.params.nsample = 50000\n",
    "boo.params.sampfreq = 25\n",
    "boo.params\n"
   ]
  },
  {
   "cell_type": "code",
   "execution_count": 14,
   "metadata": {},
   "outputs": [
    {
     "data": {
      "text/plain": [
       "maxloci   500                 \n",
       "minmap    {'insipida': 4, 'tonduzii': 1, 'maxima': 4, 'glabrata': 4, 'yoponensis': 3}\n",
       "minsnps   4                   "
      ]
     },
     "execution_count": 14,
     "metadata": {},
     "output_type": "execute_result"
    }
   ],
   "source": [
    "## set some optional filters leaving others at their defaults\n",
    "boo.filters.maxloci=500\n",
    "boo.filters.minsnps=4\n",
    "\n",
    "## print filters\n",
    "boo.filters"
   ]
  },
  {
   "cell_type": "code",
   "execution_count": 15,
   "metadata": {},
   "outputs": [
    {
     "name": "stderr",
     "output_type": "stream",
     "text": [
      "input files created for job pharma-ltest (500 loci)\n"
     ]
    }
   ],
   "source": [
    "## write files \n",
    "boo.write_bpp_files(prefix=\"pharma-ltest\")"
   ]
  },
  {
   "cell_type": "code",
   "execution_count": 17,
   "metadata": {},
   "outputs": [
    {
     "name": "stderr",
     "output_type": "stream",
     "text": [
      "submitted 3 bpp jobs [pharma-ltest] (500 loci)\n"
     ]
    }
   ],
   "source": [
    "boo.submit_bpp_jobs(\n",
    "    prefix=\"pharma-ltest\", \n",
    "    nreps=3, \n",
    "    ipyclient=ipyclient, \n",
    "    seed=12345, \n",
    "    randomize_order=True,\n",
    "    )"
   ]
  },
  {
   "cell_type": "markdown",
   "metadata": {
    "collapsed": true
   },
   "source": [
    "## Plots"
   ]
  },
  {
   "cell_type": "code",
   "execution_count": null,
   "metadata": {
    "collapsed": true
   },
   "outputs": [],
   "source": []
  }
 ],
 "metadata": {
  "kernelspec": {
   "display_name": "Python 2",
   "language": "python",
   "name": "python2"
  },
  "language_info": {
   "codemirror_mode": {
    "name": "ipython",
    "version": 2
   },
   "file_extension": ".py",
   "mimetype": "text/x-python",
   "name": "python",
   "nbconvert_exporter": "python",
   "pygments_lexer": "ipython2",
   "version": "2.7.13"
  }
 },
 "nbformat": 4,
 "nbformat_minor": 1
}
